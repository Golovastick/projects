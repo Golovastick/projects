{
 "cells": [
  {
   "cell_type": "markdown",
   "metadata": {},
   "source": [
    "# Описание проекта\n",
    "\n",
    "Модель должна предсказать коэффициент восстановления золота из золотосодержащей руды. Модель поможет оптимизировать производство, чтобы не запускать предприятие с убыточными характеристиками.\n",
    "\n",
    "Дано: данные с параметрами добычи и очистки.\n",
    "\n",
    "Описание данных: данные находятся в трёх файлах:\n",
    "\n",
    "    • gold_recovery_train.csv — обучающая выборка;\n",
    "    • gold_recovery_test.csv — тестовая выборка;\n",
    "    • gold_recovery_full.csv — исходные данные\n",
    "    \n",
    "Данные индексируются датой и временем получения информации (признак date). Соседние по времени параметры часто похожи.\n",
    "Некоторые параметры недоступны, потому что замеряются и/или рассчитываются значительно позже. Из-за этого в тестовой выборке отсутствуют некоторые признаки, которые могут быть в обучающей. Также в тестовом наборе нет целевых признаков.\n",
    "Исходный датасет содержит обучающую и тестовую выборки со всеми признаками.\n"
   ]
  },
  {
   "cell_type": "markdown",
   "metadata": {},
   "source": [
    "# Подготовка данных"
   ]
  },
  {
   "cell_type": "markdown",
   "metadata": {},
   "source": [
    "## Открытие и изучение файлов"
   ]
  },
  {
   "cell_type": "markdown",
   "metadata": {},
   "source": [
    "Импортируем необходимые библиотеки и инструменты"
   ]
  },
  {
   "cell_type": "code",
   "execution_count": 1,
   "metadata": {},
   "outputs": [],
   "source": [
    "import pandas as pd\n",
    "import numpy as np\n",
    "import matplotlib.pyplot as plt\n",
    "import seaborn as sns\n",
    "import random\n",
    "from sklearn.linear_model import LinearRegression\n",
    "from sklearn.ensemble import RandomForestRegressor\n",
    "from sklearn.model_selection import GridSearchCV\n",
    "from sklearn.preprocessing import StandardScaler\n",
    "from sklearn.metrics import mean_absolute_error, make_scorer\n",
    "from sklearn.dummy import DummyRegressor\n",
    "import warnings\n",
    "warnings.filterwarnings('ignore')"
   ]
  },
  {
   "cell_type": "markdown",
   "metadata": {},
   "source": [
    "Загрузим данные и ознакомимся с ними"
   ]
  },
  {
   "cell_type": "code",
   "execution_count": 2,
   "metadata": {},
   "outputs": [],
   "source": [
    "df_train = pd.read_csv('/datasets/gold_recovery_train.csv')\n",
    "\n",
    "df_test = pd.read_csv('/datasets/gold_recovery_test.csv')\n",
    "\n",
    "df_full = pd.read_csv('/datasets/gold_recovery_full.csv')"
   ]
  },
  {
   "cell_type": "code",
   "execution_count": 3,
   "metadata": {},
   "outputs": [],
   "source": [
    "datasets = [df_train, df_test, df_full]"
   ]
  },
  {
   "cell_type": "code",
   "execution_count": 4,
   "metadata": {
    "scrolled": false
   },
   "outputs": [
    {
     "name": "stdout",
     "output_type": "stream",
     "text": [
      "\n",
      "Обучающая выборка\n"
     ]
    },
    {
     "data": {
      "text/html": [
       "<div>\n",
       "<style scoped>\n",
       "    .dataframe tbody tr th:only-of-type {\n",
       "        vertical-align: middle;\n",
       "    }\n",
       "\n",
       "    .dataframe tbody tr th {\n",
       "        vertical-align: top;\n",
       "    }\n",
       "\n",
       "    .dataframe thead th {\n",
       "        text-align: right;\n",
       "    }\n",
       "</style>\n",
       "<table border=\"1\" class=\"dataframe\">\n",
       "  <thead>\n",
       "    <tr style=\"text-align: right;\">\n",
       "      <th></th>\n",
       "      <th>date</th>\n",
       "      <th>final.output.concentrate_ag</th>\n",
       "      <th>final.output.concentrate_pb</th>\n",
       "      <th>final.output.concentrate_sol</th>\n",
       "      <th>final.output.concentrate_au</th>\n",
       "      <th>final.output.recovery</th>\n",
       "      <th>final.output.tail_ag</th>\n",
       "      <th>final.output.tail_pb</th>\n",
       "      <th>final.output.tail_sol</th>\n",
       "      <th>final.output.tail_au</th>\n",
       "      <th>...</th>\n",
       "      <th>secondary_cleaner.state.floatbank4_a_air</th>\n",
       "      <th>secondary_cleaner.state.floatbank4_a_level</th>\n",
       "      <th>secondary_cleaner.state.floatbank4_b_air</th>\n",
       "      <th>secondary_cleaner.state.floatbank4_b_level</th>\n",
       "      <th>secondary_cleaner.state.floatbank5_a_air</th>\n",
       "      <th>secondary_cleaner.state.floatbank5_a_level</th>\n",
       "      <th>secondary_cleaner.state.floatbank5_b_air</th>\n",
       "      <th>secondary_cleaner.state.floatbank5_b_level</th>\n",
       "      <th>secondary_cleaner.state.floatbank6_a_air</th>\n",
       "      <th>secondary_cleaner.state.floatbank6_a_level</th>\n",
       "    </tr>\n",
       "  </thead>\n",
       "  <tbody>\n",
       "    <tr>\n",
       "      <td>0</td>\n",
       "      <td>2016-01-15 00:00:00</td>\n",
       "      <td>6.055403</td>\n",
       "      <td>9.889648</td>\n",
       "      <td>5.507324</td>\n",
       "      <td>42.192020</td>\n",
       "      <td>70.541216</td>\n",
       "      <td>10.411962</td>\n",
       "      <td>0.895447</td>\n",
       "      <td>16.904297</td>\n",
       "      <td>2.143149</td>\n",
       "      <td>...</td>\n",
       "      <td>14.016835</td>\n",
       "      <td>-502.488007</td>\n",
       "      <td>12.099931</td>\n",
       "      <td>-504.715942</td>\n",
       "      <td>9.925633</td>\n",
       "      <td>-498.310211</td>\n",
       "      <td>8.079666</td>\n",
       "      <td>-500.470978</td>\n",
       "      <td>14.151341</td>\n",
       "      <td>-605.841980</td>\n",
       "    </tr>\n",
       "    <tr>\n",
       "      <td>1</td>\n",
       "      <td>2016-01-15 01:00:00</td>\n",
       "      <td>6.029369</td>\n",
       "      <td>9.968944</td>\n",
       "      <td>5.257781</td>\n",
       "      <td>42.701629</td>\n",
       "      <td>69.266198</td>\n",
       "      <td>10.462676</td>\n",
       "      <td>0.927452</td>\n",
       "      <td>16.634514</td>\n",
       "      <td>2.224930</td>\n",
       "      <td>...</td>\n",
       "      <td>13.992281</td>\n",
       "      <td>-505.503262</td>\n",
       "      <td>11.950531</td>\n",
       "      <td>-501.331529</td>\n",
       "      <td>10.039245</td>\n",
       "      <td>-500.169983</td>\n",
       "      <td>7.984757</td>\n",
       "      <td>-500.582168</td>\n",
       "      <td>13.998353</td>\n",
       "      <td>-599.787184</td>\n",
       "    </tr>\n",
       "    <tr>\n",
       "      <td>2</td>\n",
       "      <td>2016-01-15 02:00:00</td>\n",
       "      <td>6.055926</td>\n",
       "      <td>10.213995</td>\n",
       "      <td>5.383759</td>\n",
       "      <td>42.657501</td>\n",
       "      <td>68.116445</td>\n",
       "      <td>10.507046</td>\n",
       "      <td>0.953716</td>\n",
       "      <td>16.208849</td>\n",
       "      <td>2.257889</td>\n",
       "      <td>...</td>\n",
       "      <td>14.015015</td>\n",
       "      <td>-502.520901</td>\n",
       "      <td>11.912783</td>\n",
       "      <td>-501.133383</td>\n",
       "      <td>10.070913</td>\n",
       "      <td>-500.129135</td>\n",
       "      <td>8.013877</td>\n",
       "      <td>-500.517572</td>\n",
       "      <td>14.028663</td>\n",
       "      <td>-601.427363</td>\n",
       "    </tr>\n",
       "    <tr>\n",
       "      <td>3</td>\n",
       "      <td>2016-01-15 03:00:00</td>\n",
       "      <td>6.047977</td>\n",
       "      <td>9.977019</td>\n",
       "      <td>4.858634</td>\n",
       "      <td>42.689819</td>\n",
       "      <td>68.347543</td>\n",
       "      <td>10.422762</td>\n",
       "      <td>0.883763</td>\n",
       "      <td>16.532835</td>\n",
       "      <td>2.146849</td>\n",
       "      <td>...</td>\n",
       "      <td>14.036510</td>\n",
       "      <td>-500.857308</td>\n",
       "      <td>11.999550</td>\n",
       "      <td>-501.193686</td>\n",
       "      <td>9.970366</td>\n",
       "      <td>-499.201640</td>\n",
       "      <td>7.977324</td>\n",
       "      <td>-500.255908</td>\n",
       "      <td>14.005551</td>\n",
       "      <td>-599.996129</td>\n",
       "    </tr>\n",
       "    <tr>\n",
       "      <td>4</td>\n",
       "      <td>2016-01-15 04:00:00</td>\n",
       "      <td>6.148599</td>\n",
       "      <td>10.142511</td>\n",
       "      <td>4.939416</td>\n",
       "      <td>42.774141</td>\n",
       "      <td>66.927016</td>\n",
       "      <td>10.360302</td>\n",
       "      <td>0.792826</td>\n",
       "      <td>16.525686</td>\n",
       "      <td>2.055292</td>\n",
       "      <td>...</td>\n",
       "      <td>14.027298</td>\n",
       "      <td>-499.838632</td>\n",
       "      <td>11.953070</td>\n",
       "      <td>-501.053894</td>\n",
       "      <td>9.925709</td>\n",
       "      <td>-501.686727</td>\n",
       "      <td>7.894242</td>\n",
       "      <td>-500.356035</td>\n",
       "      <td>13.996647</td>\n",
       "      <td>-601.496691</td>\n",
       "    </tr>\n",
       "  </tbody>\n",
       "</table>\n",
       "<p>5 rows × 87 columns</p>\n",
       "</div>"
      ],
      "text/plain": [
       "                  date  final.output.concentrate_ag  \\\n",
       "0  2016-01-15 00:00:00                     6.055403   \n",
       "1  2016-01-15 01:00:00                     6.029369   \n",
       "2  2016-01-15 02:00:00                     6.055926   \n",
       "3  2016-01-15 03:00:00                     6.047977   \n",
       "4  2016-01-15 04:00:00                     6.148599   \n",
       "\n",
       "   final.output.concentrate_pb  final.output.concentrate_sol  \\\n",
       "0                     9.889648                      5.507324   \n",
       "1                     9.968944                      5.257781   \n",
       "2                    10.213995                      5.383759   \n",
       "3                     9.977019                      4.858634   \n",
       "4                    10.142511                      4.939416   \n",
       "\n",
       "   final.output.concentrate_au  final.output.recovery  final.output.tail_ag  \\\n",
       "0                    42.192020              70.541216             10.411962   \n",
       "1                    42.701629              69.266198             10.462676   \n",
       "2                    42.657501              68.116445             10.507046   \n",
       "3                    42.689819              68.347543             10.422762   \n",
       "4                    42.774141              66.927016             10.360302   \n",
       "\n",
       "   final.output.tail_pb  final.output.tail_sol  final.output.tail_au  ...  \\\n",
       "0              0.895447              16.904297              2.143149  ...   \n",
       "1              0.927452              16.634514              2.224930  ...   \n",
       "2              0.953716              16.208849              2.257889  ...   \n",
       "3              0.883763              16.532835              2.146849  ...   \n",
       "4              0.792826              16.525686              2.055292  ...   \n",
       "\n",
       "   secondary_cleaner.state.floatbank4_a_air  \\\n",
       "0                                 14.016835   \n",
       "1                                 13.992281   \n",
       "2                                 14.015015   \n",
       "3                                 14.036510   \n",
       "4                                 14.027298   \n",
       "\n",
       "   secondary_cleaner.state.floatbank4_a_level  \\\n",
       "0                                 -502.488007   \n",
       "1                                 -505.503262   \n",
       "2                                 -502.520901   \n",
       "3                                 -500.857308   \n",
       "4                                 -499.838632   \n",
       "\n",
       "   secondary_cleaner.state.floatbank4_b_air  \\\n",
       "0                                 12.099931   \n",
       "1                                 11.950531   \n",
       "2                                 11.912783   \n",
       "3                                 11.999550   \n",
       "4                                 11.953070   \n",
       "\n",
       "   secondary_cleaner.state.floatbank4_b_level  \\\n",
       "0                                 -504.715942   \n",
       "1                                 -501.331529   \n",
       "2                                 -501.133383   \n",
       "3                                 -501.193686   \n",
       "4                                 -501.053894   \n",
       "\n",
       "   secondary_cleaner.state.floatbank5_a_air  \\\n",
       "0                                  9.925633   \n",
       "1                                 10.039245   \n",
       "2                                 10.070913   \n",
       "3                                  9.970366   \n",
       "4                                  9.925709   \n",
       "\n",
       "   secondary_cleaner.state.floatbank5_a_level  \\\n",
       "0                                 -498.310211   \n",
       "1                                 -500.169983   \n",
       "2                                 -500.129135   \n",
       "3                                 -499.201640   \n",
       "4                                 -501.686727   \n",
       "\n",
       "   secondary_cleaner.state.floatbank5_b_air  \\\n",
       "0                                  8.079666   \n",
       "1                                  7.984757   \n",
       "2                                  8.013877   \n",
       "3                                  7.977324   \n",
       "4                                  7.894242   \n",
       "\n",
       "   secondary_cleaner.state.floatbank5_b_level  \\\n",
       "0                                 -500.470978   \n",
       "1                                 -500.582168   \n",
       "2                                 -500.517572   \n",
       "3                                 -500.255908   \n",
       "4                                 -500.356035   \n",
       "\n",
       "   secondary_cleaner.state.floatbank6_a_air  \\\n",
       "0                                 14.151341   \n",
       "1                                 13.998353   \n",
       "2                                 14.028663   \n",
       "3                                 14.005551   \n",
       "4                                 13.996647   \n",
       "\n",
       "   secondary_cleaner.state.floatbank6_a_level  \n",
       "0                                 -605.841980  \n",
       "1                                 -599.787184  \n",
       "2                                 -601.427363  \n",
       "3                                 -599.996129  \n",
       "4                                 -601.496691  \n",
       "\n",
       "[5 rows x 87 columns]"
      ]
     },
     "metadata": {},
     "output_type": "display_data"
    },
    {
     "name": "stdout",
     "output_type": "stream",
     "text": [
      "<class 'pandas.core.frame.DataFrame'>\n",
      "RangeIndex: 16860 entries, 0 to 16859\n",
      "Data columns (total 87 columns):\n",
      "date                                                  16860 non-null object\n",
      "final.output.concentrate_ag                           16788 non-null float64\n",
      "final.output.concentrate_pb                           16788 non-null float64\n",
      "final.output.concentrate_sol                          16490 non-null float64\n",
      "final.output.concentrate_au                           16789 non-null float64\n",
      "final.output.recovery                                 15339 non-null float64\n",
      "final.output.tail_ag                                  16794 non-null float64\n",
      "final.output.tail_pb                                  16677 non-null float64\n",
      "final.output.tail_sol                                 16715 non-null float64\n",
      "final.output.tail_au                                  16794 non-null float64\n",
      "primary_cleaner.input.sulfate                         15553 non-null float64\n",
      "primary_cleaner.input.depressant                      15598 non-null float64\n",
      "primary_cleaner.input.feed_size                       16860 non-null float64\n",
      "primary_cleaner.input.xanthate                        15875 non-null float64\n",
      "primary_cleaner.output.concentrate_ag                 16778 non-null float64\n",
      "primary_cleaner.output.concentrate_pb                 16502 non-null float64\n",
      "primary_cleaner.output.concentrate_sol                16224 non-null float64\n",
      "primary_cleaner.output.concentrate_au                 16778 non-null float64\n",
      "primary_cleaner.output.tail_ag                        16777 non-null float64\n",
      "primary_cleaner.output.tail_pb                        16761 non-null float64\n",
      "primary_cleaner.output.tail_sol                       16579 non-null float64\n",
      "primary_cleaner.output.tail_au                        16777 non-null float64\n",
      "primary_cleaner.state.floatbank8_a_air                16820 non-null float64\n",
      "primary_cleaner.state.floatbank8_a_level              16827 non-null float64\n",
      "primary_cleaner.state.floatbank8_b_air                16820 non-null float64\n",
      "primary_cleaner.state.floatbank8_b_level              16833 non-null float64\n",
      "primary_cleaner.state.floatbank8_c_air                16822 non-null float64\n",
      "primary_cleaner.state.floatbank8_c_level              16833 non-null float64\n",
      "primary_cleaner.state.floatbank8_d_air                16821 non-null float64\n",
      "primary_cleaner.state.floatbank8_d_level              16833 non-null float64\n",
      "rougher.calculation.sulfate_to_au_concentrate         16833 non-null float64\n",
      "rougher.calculation.floatbank10_sulfate_to_au_feed    16833 non-null float64\n",
      "rougher.calculation.floatbank11_sulfate_to_au_feed    16833 non-null float64\n",
      "rougher.calculation.au_pb_ratio                       15618 non-null float64\n",
      "rougher.input.feed_ag                                 16778 non-null float64\n",
      "rougher.input.feed_pb                                 16632 non-null float64\n",
      "rougher.input.feed_rate                               16347 non-null float64\n",
      "rougher.input.feed_size                               16443 non-null float64\n",
      "rougher.input.feed_sol                                16568 non-null float64\n",
      "rougher.input.feed_au                                 16777 non-null float64\n",
      "rougher.input.floatbank10_sulfate                     15816 non-null float64\n",
      "rougher.input.floatbank10_xanthate                    16514 non-null float64\n",
      "rougher.input.floatbank11_sulfate                     16237 non-null float64\n",
      "rougher.input.floatbank11_xanthate                    14956 non-null float64\n",
      "rougher.output.concentrate_ag                         16778 non-null float64\n",
      "rougher.output.concentrate_pb                         16778 non-null float64\n",
      "rougher.output.concentrate_sol                        16698 non-null float64\n",
      "rougher.output.concentrate_au                         16778 non-null float64\n",
      "rougher.output.recovery                               14287 non-null float64\n",
      "rougher.output.tail_ag                                14610 non-null float64\n",
      "rougher.output.tail_pb                                16778 non-null float64\n",
      "rougher.output.tail_sol                               14611 non-null float64\n",
      "rougher.output.tail_au                                14611 non-null float64\n",
      "rougher.state.floatbank10_a_air                       16807 non-null float64\n",
      "rougher.state.floatbank10_a_level                     16807 non-null float64\n",
      "rougher.state.floatbank10_b_air                       16807 non-null float64\n",
      "rougher.state.floatbank10_b_level                     16807 non-null float64\n",
      "rougher.state.floatbank10_c_air                       16807 non-null float64\n",
      "rougher.state.floatbank10_c_level                     16814 non-null float64\n",
      "rougher.state.floatbank10_d_air                       16802 non-null float64\n",
      "rougher.state.floatbank10_d_level                     16809 non-null float64\n",
      "rougher.state.floatbank10_e_air                       16257 non-null float64\n",
      "rougher.state.floatbank10_e_level                     16809 non-null float64\n",
      "rougher.state.floatbank10_f_air                       16802 non-null float64\n",
      "rougher.state.floatbank10_f_level                     16802 non-null float64\n",
      "secondary_cleaner.output.tail_ag                      16776 non-null float64\n",
      "secondary_cleaner.output.tail_pb                      16764 non-null float64\n",
      "secondary_cleaner.output.tail_sol                     14874 non-null float64\n",
      "secondary_cleaner.output.tail_au                      16778 non-null float64\n",
      "secondary_cleaner.state.floatbank2_a_air              16497 non-null float64\n",
      "secondary_cleaner.state.floatbank2_a_level            16751 non-null float64\n",
      "secondary_cleaner.state.floatbank2_b_air              16705 non-null float64\n",
      "secondary_cleaner.state.floatbank2_b_level            16748 non-null float64\n",
      "secondary_cleaner.state.floatbank3_a_air              16763 non-null float64\n",
      "secondary_cleaner.state.floatbank3_a_level            16747 non-null float64\n",
      "secondary_cleaner.state.floatbank3_b_air              16752 non-null float64\n",
      "secondary_cleaner.state.floatbank3_b_level            16750 non-null float64\n",
      "secondary_cleaner.state.floatbank4_a_air              16731 non-null float64\n",
      "secondary_cleaner.state.floatbank4_a_level            16747 non-null float64\n",
      "secondary_cleaner.state.floatbank4_b_air              16768 non-null float64\n",
      "secondary_cleaner.state.floatbank4_b_level            16767 non-null float64\n",
      "secondary_cleaner.state.floatbank5_a_air              16775 non-null float64\n",
      "secondary_cleaner.state.floatbank5_a_level            16775 non-null float64\n",
      "secondary_cleaner.state.floatbank5_b_air              16775 non-null float64\n",
      "secondary_cleaner.state.floatbank5_b_level            16776 non-null float64\n",
      "secondary_cleaner.state.floatbank6_a_air              16757 non-null float64\n",
      "secondary_cleaner.state.floatbank6_a_level            16775 non-null float64\n",
      "dtypes: float64(86), object(1)\n",
      "memory usage: 11.2+ MB\n"
     ]
    },
    {
     "data": {
      "text/plain": [
       "None"
      ]
     },
     "metadata": {},
     "output_type": "display_data"
    },
    {
     "name": "stdout",
     "output_type": "stream",
     "text": [
      "Количество дубликатов: 0\n",
      "====================================================================================================\n",
      "\n",
      "\n",
      "Тестовая выборка\n"
     ]
    },
    {
     "data": {
      "text/html": [
       "<div>\n",
       "<style scoped>\n",
       "    .dataframe tbody tr th:only-of-type {\n",
       "        vertical-align: middle;\n",
       "    }\n",
       "\n",
       "    .dataframe tbody tr th {\n",
       "        vertical-align: top;\n",
       "    }\n",
       "\n",
       "    .dataframe thead th {\n",
       "        text-align: right;\n",
       "    }\n",
       "</style>\n",
       "<table border=\"1\" class=\"dataframe\">\n",
       "  <thead>\n",
       "    <tr style=\"text-align: right;\">\n",
       "      <th></th>\n",
       "      <th>date</th>\n",
       "      <th>primary_cleaner.input.sulfate</th>\n",
       "      <th>primary_cleaner.input.depressant</th>\n",
       "      <th>primary_cleaner.input.feed_size</th>\n",
       "      <th>primary_cleaner.input.xanthate</th>\n",
       "      <th>primary_cleaner.state.floatbank8_a_air</th>\n",
       "      <th>primary_cleaner.state.floatbank8_a_level</th>\n",
       "      <th>primary_cleaner.state.floatbank8_b_air</th>\n",
       "      <th>primary_cleaner.state.floatbank8_b_level</th>\n",
       "      <th>primary_cleaner.state.floatbank8_c_air</th>\n",
       "      <th>...</th>\n",
       "      <th>secondary_cleaner.state.floatbank4_a_air</th>\n",
       "      <th>secondary_cleaner.state.floatbank4_a_level</th>\n",
       "      <th>secondary_cleaner.state.floatbank4_b_air</th>\n",
       "      <th>secondary_cleaner.state.floatbank4_b_level</th>\n",
       "      <th>secondary_cleaner.state.floatbank5_a_air</th>\n",
       "      <th>secondary_cleaner.state.floatbank5_a_level</th>\n",
       "      <th>secondary_cleaner.state.floatbank5_b_air</th>\n",
       "      <th>secondary_cleaner.state.floatbank5_b_level</th>\n",
       "      <th>secondary_cleaner.state.floatbank6_a_air</th>\n",
       "      <th>secondary_cleaner.state.floatbank6_a_level</th>\n",
       "    </tr>\n",
       "  </thead>\n",
       "  <tbody>\n",
       "    <tr>\n",
       "      <td>0</td>\n",
       "      <td>2016-09-01 00:59:59</td>\n",
       "      <td>210.800909</td>\n",
       "      <td>14.993118</td>\n",
       "      <td>8.080000</td>\n",
       "      <td>1.005021</td>\n",
       "      <td>1398.981301</td>\n",
       "      <td>-500.225577</td>\n",
       "      <td>1399.144926</td>\n",
       "      <td>-499.919735</td>\n",
       "      <td>1400.102998</td>\n",
       "      <td>...</td>\n",
       "      <td>12.023554</td>\n",
       "      <td>-497.795834</td>\n",
       "      <td>8.016656</td>\n",
       "      <td>-501.289139</td>\n",
       "      <td>7.946562</td>\n",
       "      <td>-432.317850</td>\n",
       "      <td>4.872511</td>\n",
       "      <td>-500.037437</td>\n",
       "      <td>26.705889</td>\n",
       "      <td>-499.709414</td>\n",
       "    </tr>\n",
       "    <tr>\n",
       "      <td>1</td>\n",
       "      <td>2016-09-01 01:59:59</td>\n",
       "      <td>215.392455</td>\n",
       "      <td>14.987471</td>\n",
       "      <td>8.080000</td>\n",
       "      <td>0.990469</td>\n",
       "      <td>1398.777912</td>\n",
       "      <td>-500.057435</td>\n",
       "      <td>1398.055362</td>\n",
       "      <td>-499.778182</td>\n",
       "      <td>1396.151033</td>\n",
       "      <td>...</td>\n",
       "      <td>12.058140</td>\n",
       "      <td>-498.695773</td>\n",
       "      <td>8.130979</td>\n",
       "      <td>-499.634209</td>\n",
       "      <td>7.958270</td>\n",
       "      <td>-525.839648</td>\n",
       "      <td>4.878850</td>\n",
       "      <td>-500.162375</td>\n",
       "      <td>25.019940</td>\n",
       "      <td>-499.819438</td>\n",
       "    </tr>\n",
       "    <tr>\n",
       "      <td>2</td>\n",
       "      <td>2016-09-01 02:59:59</td>\n",
       "      <td>215.259946</td>\n",
       "      <td>12.884934</td>\n",
       "      <td>7.786667</td>\n",
       "      <td>0.996043</td>\n",
       "      <td>1398.493666</td>\n",
       "      <td>-500.868360</td>\n",
       "      <td>1398.860436</td>\n",
       "      <td>-499.764529</td>\n",
       "      <td>1398.075709</td>\n",
       "      <td>...</td>\n",
       "      <td>11.962366</td>\n",
       "      <td>-498.767484</td>\n",
       "      <td>8.096893</td>\n",
       "      <td>-500.827423</td>\n",
       "      <td>8.071056</td>\n",
       "      <td>-500.801673</td>\n",
       "      <td>4.905125</td>\n",
       "      <td>-499.828510</td>\n",
       "      <td>24.994862</td>\n",
       "      <td>-500.622559</td>\n",
       "    </tr>\n",
       "    <tr>\n",
       "      <td>3</td>\n",
       "      <td>2016-09-01 03:59:59</td>\n",
       "      <td>215.336236</td>\n",
       "      <td>12.006805</td>\n",
       "      <td>7.640000</td>\n",
       "      <td>0.863514</td>\n",
       "      <td>1399.618111</td>\n",
       "      <td>-498.863574</td>\n",
       "      <td>1397.440120</td>\n",
       "      <td>-499.211024</td>\n",
       "      <td>1400.129303</td>\n",
       "      <td>...</td>\n",
       "      <td>12.033091</td>\n",
       "      <td>-498.350935</td>\n",
       "      <td>8.074946</td>\n",
       "      <td>-499.474407</td>\n",
       "      <td>7.897085</td>\n",
       "      <td>-500.868509</td>\n",
       "      <td>4.931400</td>\n",
       "      <td>-499.963623</td>\n",
       "      <td>24.948919</td>\n",
       "      <td>-498.709987</td>\n",
       "    </tr>\n",
       "    <tr>\n",
       "      <td>4</td>\n",
       "      <td>2016-09-01 04:59:59</td>\n",
       "      <td>199.099327</td>\n",
       "      <td>10.682530</td>\n",
       "      <td>7.530000</td>\n",
       "      <td>0.805575</td>\n",
       "      <td>1401.268123</td>\n",
       "      <td>-500.808305</td>\n",
       "      <td>1398.128818</td>\n",
       "      <td>-499.504543</td>\n",
       "      <td>1402.172226</td>\n",
       "      <td>...</td>\n",
       "      <td>12.025367</td>\n",
       "      <td>-500.786497</td>\n",
       "      <td>8.054678</td>\n",
       "      <td>-500.397500</td>\n",
       "      <td>8.107890</td>\n",
       "      <td>-509.526725</td>\n",
       "      <td>4.957674</td>\n",
       "      <td>-500.360026</td>\n",
       "      <td>25.003331</td>\n",
       "      <td>-500.856333</td>\n",
       "    </tr>\n",
       "  </tbody>\n",
       "</table>\n",
       "<p>5 rows × 53 columns</p>\n",
       "</div>"
      ],
      "text/plain": [
       "                  date  primary_cleaner.input.sulfate  \\\n",
       "0  2016-09-01 00:59:59                     210.800909   \n",
       "1  2016-09-01 01:59:59                     215.392455   \n",
       "2  2016-09-01 02:59:59                     215.259946   \n",
       "3  2016-09-01 03:59:59                     215.336236   \n",
       "4  2016-09-01 04:59:59                     199.099327   \n",
       "\n",
       "   primary_cleaner.input.depressant  primary_cleaner.input.feed_size  \\\n",
       "0                         14.993118                         8.080000   \n",
       "1                         14.987471                         8.080000   \n",
       "2                         12.884934                         7.786667   \n",
       "3                         12.006805                         7.640000   \n",
       "4                         10.682530                         7.530000   \n",
       "\n",
       "   primary_cleaner.input.xanthate  primary_cleaner.state.floatbank8_a_air  \\\n",
       "0                        1.005021                             1398.981301   \n",
       "1                        0.990469                             1398.777912   \n",
       "2                        0.996043                             1398.493666   \n",
       "3                        0.863514                             1399.618111   \n",
       "4                        0.805575                             1401.268123   \n",
       "\n",
       "   primary_cleaner.state.floatbank8_a_level  \\\n",
       "0                               -500.225577   \n",
       "1                               -500.057435   \n",
       "2                               -500.868360   \n",
       "3                               -498.863574   \n",
       "4                               -500.808305   \n",
       "\n",
       "   primary_cleaner.state.floatbank8_b_air  \\\n",
       "0                             1399.144926   \n",
       "1                             1398.055362   \n",
       "2                             1398.860436   \n",
       "3                             1397.440120   \n",
       "4                             1398.128818   \n",
       "\n",
       "   primary_cleaner.state.floatbank8_b_level  \\\n",
       "0                               -499.919735   \n",
       "1                               -499.778182   \n",
       "2                               -499.764529   \n",
       "3                               -499.211024   \n",
       "4                               -499.504543   \n",
       "\n",
       "   primary_cleaner.state.floatbank8_c_air  ...  \\\n",
       "0                             1400.102998  ...   \n",
       "1                             1396.151033  ...   \n",
       "2                             1398.075709  ...   \n",
       "3                             1400.129303  ...   \n",
       "4                             1402.172226  ...   \n",
       "\n",
       "   secondary_cleaner.state.floatbank4_a_air  \\\n",
       "0                                 12.023554   \n",
       "1                                 12.058140   \n",
       "2                                 11.962366   \n",
       "3                                 12.033091   \n",
       "4                                 12.025367   \n",
       "\n",
       "   secondary_cleaner.state.floatbank4_a_level  \\\n",
       "0                                 -497.795834   \n",
       "1                                 -498.695773   \n",
       "2                                 -498.767484   \n",
       "3                                 -498.350935   \n",
       "4                                 -500.786497   \n",
       "\n",
       "   secondary_cleaner.state.floatbank4_b_air  \\\n",
       "0                                  8.016656   \n",
       "1                                  8.130979   \n",
       "2                                  8.096893   \n",
       "3                                  8.074946   \n",
       "4                                  8.054678   \n",
       "\n",
       "   secondary_cleaner.state.floatbank4_b_level  \\\n",
       "0                                 -501.289139   \n",
       "1                                 -499.634209   \n",
       "2                                 -500.827423   \n",
       "3                                 -499.474407   \n",
       "4                                 -500.397500   \n",
       "\n",
       "   secondary_cleaner.state.floatbank5_a_air  \\\n",
       "0                                  7.946562   \n",
       "1                                  7.958270   \n",
       "2                                  8.071056   \n",
       "3                                  7.897085   \n",
       "4                                  8.107890   \n",
       "\n",
       "   secondary_cleaner.state.floatbank5_a_level  \\\n",
       "0                                 -432.317850   \n",
       "1                                 -525.839648   \n",
       "2                                 -500.801673   \n",
       "3                                 -500.868509   \n",
       "4                                 -509.526725   \n",
       "\n",
       "   secondary_cleaner.state.floatbank5_b_air  \\\n",
       "0                                  4.872511   \n",
       "1                                  4.878850   \n",
       "2                                  4.905125   \n",
       "3                                  4.931400   \n",
       "4                                  4.957674   \n",
       "\n",
       "   secondary_cleaner.state.floatbank5_b_level  \\\n",
       "0                                 -500.037437   \n",
       "1                                 -500.162375   \n",
       "2                                 -499.828510   \n",
       "3                                 -499.963623   \n",
       "4                                 -500.360026   \n",
       "\n",
       "   secondary_cleaner.state.floatbank6_a_air  \\\n",
       "0                                 26.705889   \n",
       "1                                 25.019940   \n",
       "2                                 24.994862   \n",
       "3                                 24.948919   \n",
       "4                                 25.003331   \n",
       "\n",
       "   secondary_cleaner.state.floatbank6_a_level  \n",
       "0                                 -499.709414  \n",
       "1                                 -499.819438  \n",
       "2                                 -500.622559  \n",
       "3                                 -498.709987  \n",
       "4                                 -500.856333  \n",
       "\n",
       "[5 rows x 53 columns]"
      ]
     },
     "metadata": {},
     "output_type": "display_data"
    },
    {
     "name": "stdout",
     "output_type": "stream",
     "text": [
      "<class 'pandas.core.frame.DataFrame'>\n",
      "RangeIndex: 5856 entries, 0 to 5855\n",
      "Data columns (total 53 columns):\n",
      "date                                          5856 non-null object\n",
      "primary_cleaner.input.sulfate                 5554 non-null float64\n",
      "primary_cleaner.input.depressant              5572 non-null float64\n",
      "primary_cleaner.input.feed_size               5856 non-null float64\n",
      "primary_cleaner.input.xanthate                5690 non-null float64\n",
      "primary_cleaner.state.floatbank8_a_air        5840 non-null float64\n",
      "primary_cleaner.state.floatbank8_a_level      5840 non-null float64\n",
      "primary_cleaner.state.floatbank8_b_air        5840 non-null float64\n",
      "primary_cleaner.state.floatbank8_b_level      5840 non-null float64\n",
      "primary_cleaner.state.floatbank8_c_air        5840 non-null float64\n",
      "primary_cleaner.state.floatbank8_c_level      5840 non-null float64\n",
      "primary_cleaner.state.floatbank8_d_air        5840 non-null float64\n",
      "primary_cleaner.state.floatbank8_d_level      5840 non-null float64\n",
      "rougher.input.feed_ag                         5840 non-null float64\n",
      "rougher.input.feed_pb                         5840 non-null float64\n",
      "rougher.input.feed_rate                       5816 non-null float64\n",
      "rougher.input.feed_size                       5834 non-null float64\n",
      "rougher.input.feed_sol                        5789 non-null float64\n",
      "rougher.input.feed_au                         5840 non-null float64\n",
      "rougher.input.floatbank10_sulfate             5599 non-null float64\n",
      "rougher.input.floatbank10_xanthate            5733 non-null float64\n",
      "rougher.input.floatbank11_sulfate             5801 non-null float64\n",
      "rougher.input.floatbank11_xanthate            5503 non-null float64\n",
      "rougher.state.floatbank10_a_air               5839 non-null float64\n",
      "rougher.state.floatbank10_a_level             5840 non-null float64\n",
      "rougher.state.floatbank10_b_air               5839 non-null float64\n",
      "rougher.state.floatbank10_b_level             5840 non-null float64\n",
      "rougher.state.floatbank10_c_air               5839 non-null float64\n",
      "rougher.state.floatbank10_c_level             5840 non-null float64\n",
      "rougher.state.floatbank10_d_air               5839 non-null float64\n",
      "rougher.state.floatbank10_d_level             5840 non-null float64\n",
      "rougher.state.floatbank10_e_air               5839 non-null float64\n",
      "rougher.state.floatbank10_e_level             5840 non-null float64\n",
      "rougher.state.floatbank10_f_air               5839 non-null float64\n",
      "rougher.state.floatbank10_f_level             5840 non-null float64\n",
      "secondary_cleaner.state.floatbank2_a_air      5836 non-null float64\n",
      "secondary_cleaner.state.floatbank2_a_level    5840 non-null float64\n",
      "secondary_cleaner.state.floatbank2_b_air      5833 non-null float64\n",
      "secondary_cleaner.state.floatbank2_b_level    5840 non-null float64\n",
      "secondary_cleaner.state.floatbank3_a_air      5822 non-null float64\n",
      "secondary_cleaner.state.floatbank3_a_level    5840 non-null float64\n",
      "secondary_cleaner.state.floatbank3_b_air      5840 non-null float64\n",
      "secondary_cleaner.state.floatbank3_b_level    5840 non-null float64\n",
      "secondary_cleaner.state.floatbank4_a_air      5840 non-null float64\n",
      "secondary_cleaner.state.floatbank4_a_level    5840 non-null float64\n",
      "secondary_cleaner.state.floatbank4_b_air      5840 non-null float64\n",
      "secondary_cleaner.state.floatbank4_b_level    5840 non-null float64\n",
      "secondary_cleaner.state.floatbank5_a_air      5840 non-null float64\n",
      "secondary_cleaner.state.floatbank5_a_level    5840 non-null float64\n",
      "secondary_cleaner.state.floatbank5_b_air      5840 non-null float64\n",
      "secondary_cleaner.state.floatbank5_b_level    5840 non-null float64\n",
      "secondary_cleaner.state.floatbank6_a_air      5840 non-null float64\n",
      "secondary_cleaner.state.floatbank6_a_level    5840 non-null float64\n",
      "dtypes: float64(52), object(1)\n",
      "memory usage: 2.4+ MB\n"
     ]
    },
    {
     "data": {
      "text/plain": [
       "None"
      ]
     },
     "metadata": {},
     "output_type": "display_data"
    },
    {
     "name": "stdout",
     "output_type": "stream",
     "text": [
      "Количество дубликатов: 0\n",
      "====================================================================================================\n",
      "\n",
      "\n",
      "Полная выборка\n"
     ]
    },
    {
     "data": {
      "text/html": [
       "<div>\n",
       "<style scoped>\n",
       "    .dataframe tbody tr th:only-of-type {\n",
       "        vertical-align: middle;\n",
       "    }\n",
       "\n",
       "    .dataframe tbody tr th {\n",
       "        vertical-align: top;\n",
       "    }\n",
       "\n",
       "    .dataframe thead th {\n",
       "        text-align: right;\n",
       "    }\n",
       "</style>\n",
       "<table border=\"1\" class=\"dataframe\">\n",
       "  <thead>\n",
       "    <tr style=\"text-align: right;\">\n",
       "      <th></th>\n",
       "      <th>date</th>\n",
       "      <th>final.output.concentrate_ag</th>\n",
       "      <th>final.output.concentrate_pb</th>\n",
       "      <th>final.output.concentrate_sol</th>\n",
       "      <th>final.output.concentrate_au</th>\n",
       "      <th>final.output.recovery</th>\n",
       "      <th>final.output.tail_ag</th>\n",
       "      <th>final.output.tail_pb</th>\n",
       "      <th>final.output.tail_sol</th>\n",
       "      <th>final.output.tail_au</th>\n",
       "      <th>...</th>\n",
       "      <th>secondary_cleaner.state.floatbank4_a_air</th>\n",
       "      <th>secondary_cleaner.state.floatbank4_a_level</th>\n",
       "      <th>secondary_cleaner.state.floatbank4_b_air</th>\n",
       "      <th>secondary_cleaner.state.floatbank4_b_level</th>\n",
       "      <th>secondary_cleaner.state.floatbank5_a_air</th>\n",
       "      <th>secondary_cleaner.state.floatbank5_a_level</th>\n",
       "      <th>secondary_cleaner.state.floatbank5_b_air</th>\n",
       "      <th>secondary_cleaner.state.floatbank5_b_level</th>\n",
       "      <th>secondary_cleaner.state.floatbank6_a_air</th>\n",
       "      <th>secondary_cleaner.state.floatbank6_a_level</th>\n",
       "    </tr>\n",
       "  </thead>\n",
       "  <tbody>\n",
       "    <tr>\n",
       "      <td>0</td>\n",
       "      <td>2016-01-15 00:00:00</td>\n",
       "      <td>6.055403</td>\n",
       "      <td>9.889648</td>\n",
       "      <td>5.507324</td>\n",
       "      <td>42.192020</td>\n",
       "      <td>70.541216</td>\n",
       "      <td>10.411962</td>\n",
       "      <td>0.895447</td>\n",
       "      <td>16.904297</td>\n",
       "      <td>2.143149</td>\n",
       "      <td>...</td>\n",
       "      <td>14.016835</td>\n",
       "      <td>-502.488007</td>\n",
       "      <td>12.099931</td>\n",
       "      <td>-504.715942</td>\n",
       "      <td>9.925633</td>\n",
       "      <td>-498.310211</td>\n",
       "      <td>8.079666</td>\n",
       "      <td>-500.470978</td>\n",
       "      <td>14.151341</td>\n",
       "      <td>-605.841980</td>\n",
       "    </tr>\n",
       "    <tr>\n",
       "      <td>1</td>\n",
       "      <td>2016-01-15 01:00:00</td>\n",
       "      <td>6.029369</td>\n",
       "      <td>9.968944</td>\n",
       "      <td>5.257781</td>\n",
       "      <td>42.701629</td>\n",
       "      <td>69.266198</td>\n",
       "      <td>10.462676</td>\n",
       "      <td>0.927452</td>\n",
       "      <td>16.634514</td>\n",
       "      <td>2.224930</td>\n",
       "      <td>...</td>\n",
       "      <td>13.992281</td>\n",
       "      <td>-505.503262</td>\n",
       "      <td>11.950531</td>\n",
       "      <td>-501.331529</td>\n",
       "      <td>10.039245</td>\n",
       "      <td>-500.169983</td>\n",
       "      <td>7.984757</td>\n",
       "      <td>-500.582168</td>\n",
       "      <td>13.998353</td>\n",
       "      <td>-599.787184</td>\n",
       "    </tr>\n",
       "    <tr>\n",
       "      <td>2</td>\n",
       "      <td>2016-01-15 02:00:00</td>\n",
       "      <td>6.055926</td>\n",
       "      <td>10.213995</td>\n",
       "      <td>5.383759</td>\n",
       "      <td>42.657501</td>\n",
       "      <td>68.116445</td>\n",
       "      <td>10.507046</td>\n",
       "      <td>0.953716</td>\n",
       "      <td>16.208849</td>\n",
       "      <td>2.257889</td>\n",
       "      <td>...</td>\n",
       "      <td>14.015015</td>\n",
       "      <td>-502.520901</td>\n",
       "      <td>11.912783</td>\n",
       "      <td>-501.133383</td>\n",
       "      <td>10.070913</td>\n",
       "      <td>-500.129135</td>\n",
       "      <td>8.013877</td>\n",
       "      <td>-500.517572</td>\n",
       "      <td>14.028663</td>\n",
       "      <td>-601.427363</td>\n",
       "    </tr>\n",
       "    <tr>\n",
       "      <td>3</td>\n",
       "      <td>2016-01-15 03:00:00</td>\n",
       "      <td>6.047977</td>\n",
       "      <td>9.977019</td>\n",
       "      <td>4.858634</td>\n",
       "      <td>42.689819</td>\n",
       "      <td>68.347543</td>\n",
       "      <td>10.422762</td>\n",
       "      <td>0.883763</td>\n",
       "      <td>16.532835</td>\n",
       "      <td>2.146849</td>\n",
       "      <td>...</td>\n",
       "      <td>14.036510</td>\n",
       "      <td>-500.857308</td>\n",
       "      <td>11.999550</td>\n",
       "      <td>-501.193686</td>\n",
       "      <td>9.970366</td>\n",
       "      <td>-499.201640</td>\n",
       "      <td>7.977324</td>\n",
       "      <td>-500.255908</td>\n",
       "      <td>14.005551</td>\n",
       "      <td>-599.996129</td>\n",
       "    </tr>\n",
       "    <tr>\n",
       "      <td>4</td>\n",
       "      <td>2016-01-15 04:00:00</td>\n",
       "      <td>6.148599</td>\n",
       "      <td>10.142511</td>\n",
       "      <td>4.939416</td>\n",
       "      <td>42.774141</td>\n",
       "      <td>66.927016</td>\n",
       "      <td>10.360302</td>\n",
       "      <td>0.792826</td>\n",
       "      <td>16.525686</td>\n",
       "      <td>2.055292</td>\n",
       "      <td>...</td>\n",
       "      <td>14.027298</td>\n",
       "      <td>-499.838632</td>\n",
       "      <td>11.953070</td>\n",
       "      <td>-501.053894</td>\n",
       "      <td>9.925709</td>\n",
       "      <td>-501.686727</td>\n",
       "      <td>7.894242</td>\n",
       "      <td>-500.356035</td>\n",
       "      <td>13.996647</td>\n",
       "      <td>-601.496691</td>\n",
       "    </tr>\n",
       "  </tbody>\n",
       "</table>\n",
       "<p>5 rows × 87 columns</p>\n",
       "</div>"
      ],
      "text/plain": [
       "                  date  final.output.concentrate_ag  \\\n",
       "0  2016-01-15 00:00:00                     6.055403   \n",
       "1  2016-01-15 01:00:00                     6.029369   \n",
       "2  2016-01-15 02:00:00                     6.055926   \n",
       "3  2016-01-15 03:00:00                     6.047977   \n",
       "4  2016-01-15 04:00:00                     6.148599   \n",
       "\n",
       "   final.output.concentrate_pb  final.output.concentrate_sol  \\\n",
       "0                     9.889648                      5.507324   \n",
       "1                     9.968944                      5.257781   \n",
       "2                    10.213995                      5.383759   \n",
       "3                     9.977019                      4.858634   \n",
       "4                    10.142511                      4.939416   \n",
       "\n",
       "   final.output.concentrate_au  final.output.recovery  final.output.tail_ag  \\\n",
       "0                    42.192020              70.541216             10.411962   \n",
       "1                    42.701629              69.266198             10.462676   \n",
       "2                    42.657501              68.116445             10.507046   \n",
       "3                    42.689819              68.347543             10.422762   \n",
       "4                    42.774141              66.927016             10.360302   \n",
       "\n",
       "   final.output.tail_pb  final.output.tail_sol  final.output.tail_au  ...  \\\n",
       "0              0.895447              16.904297              2.143149  ...   \n",
       "1              0.927452              16.634514              2.224930  ...   \n",
       "2              0.953716              16.208849              2.257889  ...   \n",
       "3              0.883763              16.532835              2.146849  ...   \n",
       "4              0.792826              16.525686              2.055292  ...   \n",
       "\n",
       "   secondary_cleaner.state.floatbank4_a_air  \\\n",
       "0                                 14.016835   \n",
       "1                                 13.992281   \n",
       "2                                 14.015015   \n",
       "3                                 14.036510   \n",
       "4                                 14.027298   \n",
       "\n",
       "   secondary_cleaner.state.floatbank4_a_level  \\\n",
       "0                                 -502.488007   \n",
       "1                                 -505.503262   \n",
       "2                                 -502.520901   \n",
       "3                                 -500.857308   \n",
       "4                                 -499.838632   \n",
       "\n",
       "   secondary_cleaner.state.floatbank4_b_air  \\\n",
       "0                                 12.099931   \n",
       "1                                 11.950531   \n",
       "2                                 11.912783   \n",
       "3                                 11.999550   \n",
       "4                                 11.953070   \n",
       "\n",
       "   secondary_cleaner.state.floatbank4_b_level  \\\n",
       "0                                 -504.715942   \n",
       "1                                 -501.331529   \n",
       "2                                 -501.133383   \n",
       "3                                 -501.193686   \n",
       "4                                 -501.053894   \n",
       "\n",
       "   secondary_cleaner.state.floatbank5_a_air  \\\n",
       "0                                  9.925633   \n",
       "1                                 10.039245   \n",
       "2                                 10.070913   \n",
       "3                                  9.970366   \n",
       "4                                  9.925709   \n",
       "\n",
       "   secondary_cleaner.state.floatbank5_a_level  \\\n",
       "0                                 -498.310211   \n",
       "1                                 -500.169983   \n",
       "2                                 -500.129135   \n",
       "3                                 -499.201640   \n",
       "4                                 -501.686727   \n",
       "\n",
       "   secondary_cleaner.state.floatbank5_b_air  \\\n",
       "0                                  8.079666   \n",
       "1                                  7.984757   \n",
       "2                                  8.013877   \n",
       "3                                  7.977324   \n",
       "4                                  7.894242   \n",
       "\n",
       "   secondary_cleaner.state.floatbank5_b_level  \\\n",
       "0                                 -500.470978   \n",
       "1                                 -500.582168   \n",
       "2                                 -500.517572   \n",
       "3                                 -500.255908   \n",
       "4                                 -500.356035   \n",
       "\n",
       "   secondary_cleaner.state.floatbank6_a_air  \\\n",
       "0                                 14.151341   \n",
       "1                                 13.998353   \n",
       "2                                 14.028663   \n",
       "3                                 14.005551   \n",
       "4                                 13.996647   \n",
       "\n",
       "   secondary_cleaner.state.floatbank6_a_level  \n",
       "0                                 -605.841980  \n",
       "1                                 -599.787184  \n",
       "2                                 -601.427363  \n",
       "3                                 -599.996129  \n",
       "4                                 -601.496691  \n",
       "\n",
       "[5 rows x 87 columns]"
      ]
     },
     "metadata": {},
     "output_type": "display_data"
    },
    {
     "name": "stdout",
     "output_type": "stream",
     "text": [
      "<class 'pandas.core.frame.DataFrame'>\n",
      "RangeIndex: 22716 entries, 0 to 22715\n",
      "Data columns (total 87 columns):\n",
      "date                                                  22716 non-null object\n",
      "final.output.concentrate_ag                           22627 non-null float64\n",
      "final.output.concentrate_pb                           22629 non-null float64\n",
      "final.output.concentrate_sol                          22331 non-null float64\n",
      "final.output.concentrate_au                           22630 non-null float64\n",
      "final.output.recovery                                 20753 non-null float64\n",
      "final.output.tail_ag                                  22633 non-null float64\n",
      "final.output.tail_pb                                  22516 non-null float64\n",
      "final.output.tail_sol                                 22445 non-null float64\n",
      "final.output.tail_au                                  22635 non-null float64\n",
      "primary_cleaner.input.sulfate                         21107 non-null float64\n",
      "primary_cleaner.input.depressant                      21170 non-null float64\n",
      "primary_cleaner.input.feed_size                       22716 non-null float64\n",
      "primary_cleaner.input.xanthate                        21565 non-null float64\n",
      "primary_cleaner.output.concentrate_ag                 22618 non-null float64\n",
      "primary_cleaner.output.concentrate_pb                 22268 non-null float64\n",
      "primary_cleaner.output.concentrate_sol                21918 non-null float64\n",
      "primary_cleaner.output.concentrate_au                 22618 non-null float64\n",
      "primary_cleaner.output.tail_ag                        22614 non-null float64\n",
      "primary_cleaner.output.tail_pb                        22594 non-null float64\n",
      "primary_cleaner.output.tail_sol                       22365 non-null float64\n",
      "primary_cleaner.output.tail_au                        22617 non-null float64\n",
      "primary_cleaner.state.floatbank8_a_air                22660 non-null float64\n",
      "primary_cleaner.state.floatbank8_a_level              22667 non-null float64\n",
      "primary_cleaner.state.floatbank8_b_air                22660 non-null float64\n",
      "primary_cleaner.state.floatbank8_b_level              22673 non-null float64\n",
      "primary_cleaner.state.floatbank8_c_air                22662 non-null float64\n",
      "primary_cleaner.state.floatbank8_c_level              22673 non-null float64\n",
      "primary_cleaner.state.floatbank8_d_air                22661 non-null float64\n",
      "primary_cleaner.state.floatbank8_d_level              22673 non-null float64\n",
      "rougher.calculation.sulfate_to_au_concentrate         22672 non-null float64\n",
      "rougher.calculation.floatbank10_sulfate_to_au_feed    22672 non-null float64\n",
      "rougher.calculation.floatbank11_sulfate_to_au_feed    22672 non-null float64\n",
      "rougher.calculation.au_pb_ratio                       21089 non-null float64\n",
      "rougher.input.feed_ag                                 22618 non-null float64\n",
      "rougher.input.feed_pb                                 22472 non-null float64\n",
      "rougher.input.feed_rate                               22163 non-null float64\n",
      "rougher.input.feed_size                               22277 non-null float64\n",
      "rougher.input.feed_sol                                22357 non-null float64\n",
      "rougher.input.feed_au                                 22617 non-null float64\n",
      "rougher.input.floatbank10_sulfate                     21415 non-null float64\n",
      "rougher.input.floatbank10_xanthate                    22247 non-null float64\n",
      "rougher.input.floatbank11_sulfate                     22038 non-null float64\n",
      "rougher.input.floatbank11_xanthate                    20459 non-null float64\n",
      "rougher.output.concentrate_ag                         22618 non-null float64\n",
      "rougher.output.concentrate_pb                         22618 non-null float64\n",
      "rougher.output.concentrate_sol                        22526 non-null float64\n",
      "rougher.output.concentrate_au                         22618 non-null float64\n",
      "rougher.output.recovery                               19597 non-null float64\n",
      "rougher.output.tail_ag                                19979 non-null float64\n",
      "rougher.output.tail_pb                                22618 non-null float64\n",
      "rougher.output.tail_sol                               19980 non-null float64\n",
      "rougher.output.tail_au                                19980 non-null float64\n",
      "rougher.state.floatbank10_a_air                       22646 non-null float64\n",
      "rougher.state.floatbank10_a_level                     22647 non-null float64\n",
      "rougher.state.floatbank10_b_air                       22646 non-null float64\n",
      "rougher.state.floatbank10_b_level                     22647 non-null float64\n",
      "rougher.state.floatbank10_c_air                       22646 non-null float64\n",
      "rougher.state.floatbank10_c_level                     22654 non-null float64\n",
      "rougher.state.floatbank10_d_air                       22641 non-null float64\n",
      "rougher.state.floatbank10_d_level                     22649 non-null float64\n",
      "rougher.state.floatbank10_e_air                       22096 non-null float64\n",
      "rougher.state.floatbank10_e_level                     22649 non-null float64\n",
      "rougher.state.floatbank10_f_air                       22641 non-null float64\n",
      "rougher.state.floatbank10_f_level                     22642 non-null float64\n",
      "secondary_cleaner.output.tail_ag                      22616 non-null float64\n",
      "secondary_cleaner.output.tail_pb                      22600 non-null float64\n",
      "secondary_cleaner.output.tail_sol                     20501 non-null float64\n",
      "secondary_cleaner.output.tail_au                      22618 non-null float64\n",
      "secondary_cleaner.state.floatbank2_a_air              22333 non-null float64\n",
      "secondary_cleaner.state.floatbank2_a_level            22591 non-null float64\n",
      "secondary_cleaner.state.floatbank2_b_air              22538 non-null float64\n",
      "secondary_cleaner.state.floatbank2_b_level            22588 non-null float64\n",
      "secondary_cleaner.state.floatbank3_a_air              22585 non-null float64\n",
      "secondary_cleaner.state.floatbank3_a_level            22587 non-null float64\n",
      "secondary_cleaner.state.floatbank3_b_air              22592 non-null float64\n",
      "secondary_cleaner.state.floatbank3_b_level            22590 non-null float64\n",
      "secondary_cleaner.state.floatbank4_a_air              22571 non-null float64\n",
      "secondary_cleaner.state.floatbank4_a_level            22587 non-null float64\n",
      "secondary_cleaner.state.floatbank4_b_air              22608 non-null float64\n",
      "secondary_cleaner.state.floatbank4_b_level            22607 non-null float64\n",
      "secondary_cleaner.state.floatbank5_a_air              22615 non-null float64\n",
      "secondary_cleaner.state.floatbank5_a_level            22615 non-null float64\n",
      "secondary_cleaner.state.floatbank5_b_air              22615 non-null float64\n",
      "secondary_cleaner.state.floatbank5_b_level            22616 non-null float64\n",
      "secondary_cleaner.state.floatbank6_a_air              22597 non-null float64\n",
      "secondary_cleaner.state.floatbank6_a_level            22615 non-null float64\n",
      "dtypes: float64(86), object(1)\n",
      "memory usage: 15.1+ MB\n"
     ]
    },
    {
     "data": {
      "text/plain": [
       "None"
      ]
     },
     "metadata": {},
     "output_type": "display_data"
    },
    {
     "name": "stdout",
     "output_type": "stream",
     "text": [
      "Количество дубликатов: 0\n",
      "====================================================================================================\n",
      "\n"
     ]
    }
   ],
   "source": [
    "i = 0\n",
    "\n",
    "names = ['Обучающая выборка', 'Тестовая выборка', 'Полная выборка']\n",
    "\n",
    "for data in datasets:\n",
    "    \n",
    "    print()\n",
    "    \n",
    "    print(names[i])\n",
    "    \n",
    "    display(data.head())\n",
    "    \n",
    "    display(data.info())\n",
    "    \n",
    "    print('Количество дубликатов:', data.duplicated().sum())\n",
    "    \n",
    "    print('='*100)\n",
    "    \n",
    "    print()\n",
    "    \n",
    "    i += 1"
   ]
  },
  {
   "cell_type": "markdown",
   "metadata": {},
   "source": [
    "- Во всех датасетах присутствуют пропуски\n",
    "- В тестовом датасете отсутствуют целевые признаки, а также меньшее количество признаков\n",
    "- Во всех датасетах отсутствуют дубликаты"
   ]
  },
  {
   "cell_type": "markdown",
   "metadata": {},
   "source": [
    "## Проверка верности расчёта эффективности обогащения"
   ]
  },
  {
   "cell_type": "markdown",
   "metadata": {},
   "source": [
    "Для тестового датасета рассчитаем эффективность обогащения для этапа флотации и добавим получившиеся значения в столбец `rougher.output.recovery_check`"
   ]
  },
  {
   "cell_type": "code",
   "execution_count": 5,
   "metadata": {},
   "outputs": [],
   "source": [
    "df_train['rougher.output.recovery_check'] = 100 * (df_train['rougher.output.concentrate_au'] * (df_train['rougher.input.feed_au'] - df_train['rougher.output.tail_au'])) / (df_train['rougher.input.feed_au'] * (df_train['rougher.output.concentrate_au'] - df_train['rougher.output.tail_au']))"
   ]
  },
  {
   "cell_type": "markdown",
   "metadata": {},
   "source": [
    "Скопируем столбцы с расчитанным значением и признаком в отдельный датасет"
   ]
  },
  {
   "cell_type": "code",
   "execution_count": 6,
   "metadata": {},
   "outputs": [],
   "source": [
    "df_temp = df_train[['rougher.output.recovery', 'rougher.output.recovery_check']]"
   ]
  },
  {
   "cell_type": "markdown",
   "metadata": {},
   "source": [
    "Посмотрим информацию "
   ]
  },
  {
   "cell_type": "code",
   "execution_count": 7,
   "metadata": {},
   "outputs": [
    {
     "data": {
      "text/html": [
       "<div>\n",
       "<style scoped>\n",
       "    .dataframe tbody tr th:only-of-type {\n",
       "        vertical-align: middle;\n",
       "    }\n",
       "\n",
       "    .dataframe tbody tr th {\n",
       "        vertical-align: top;\n",
       "    }\n",
       "\n",
       "    .dataframe thead th {\n",
       "        text-align: right;\n",
       "    }\n",
       "</style>\n",
       "<table border=\"1\" class=\"dataframe\">\n",
       "  <thead>\n",
       "    <tr style=\"text-align: right;\">\n",
       "      <th></th>\n",
       "      <th>rougher.output.recovery</th>\n",
       "      <th>rougher.output.recovery_check</th>\n",
       "    </tr>\n",
       "  </thead>\n",
       "  <tbody>\n",
       "    <tr>\n",
       "      <td>0</td>\n",
       "      <td>87.107763</td>\n",
       "      <td>87.107763</td>\n",
       "    </tr>\n",
       "    <tr>\n",
       "      <td>1</td>\n",
       "      <td>86.843261</td>\n",
       "      <td>86.843261</td>\n",
       "    </tr>\n",
       "    <tr>\n",
       "      <td>2</td>\n",
       "      <td>86.842308</td>\n",
       "      <td>86.842308</td>\n",
       "    </tr>\n",
       "    <tr>\n",
       "      <td>3</td>\n",
       "      <td>87.226430</td>\n",
       "      <td>87.226430</td>\n",
       "    </tr>\n",
       "    <tr>\n",
       "      <td>4</td>\n",
       "      <td>86.688794</td>\n",
       "      <td>86.688794</td>\n",
       "    </tr>\n",
       "  </tbody>\n",
       "</table>\n",
       "</div>"
      ],
      "text/plain": [
       "   rougher.output.recovery  rougher.output.recovery_check\n",
       "0                87.107763                      87.107763\n",
       "1                86.843261                      86.843261\n",
       "2                86.842308                      86.842308\n",
       "3                87.226430                      87.226430\n",
       "4                86.688794                      86.688794"
      ]
     },
     "execution_count": 7,
     "metadata": {},
     "output_type": "execute_result"
    }
   ],
   "source": [
    "df_temp.head()"
   ]
  },
  {
   "cell_type": "code",
   "execution_count": 8,
   "metadata": {},
   "outputs": [
    {
     "name": "stdout",
     "output_type": "stream",
     "text": [
      "<class 'pandas.core.frame.DataFrame'>\n",
      "RangeIndex: 16860 entries, 0 to 16859\n",
      "Data columns (total 2 columns):\n",
      "rougher.output.recovery          14287 non-null float64\n",
      "rougher.output.recovery_check    14577 non-null float64\n",
      "dtypes: float64(2)\n",
      "memory usage: 263.6 KB\n"
     ]
    }
   ],
   "source": [
    "df_temp.info()"
   ]
  },
  {
   "cell_type": "markdown",
   "metadata": {},
   "source": [
    "Удалим из датасета строки, для которых пропущено значение признака"
   ]
  },
  {
   "cell_type": "code",
   "execution_count": 9,
   "metadata": {},
   "outputs": [],
   "source": [
    "df_temp = df_temp.dropna()"
   ]
  },
  {
   "cell_type": "markdown",
   "metadata": {},
   "source": [
    "Посчитаем MAE для расчётного значения и признака"
   ]
  },
  {
   "cell_type": "code",
   "execution_count": 10,
   "metadata": {},
   "outputs": [
    {
     "data": {
      "text/plain": [
       "1.0898633667227423e-14"
      ]
     },
     "execution_count": 10,
     "metadata": {},
     "output_type": "execute_result"
    }
   ],
   "source": [
    "mean_absolute_error(df_temp['rougher.output.recovery'], df_temp['rougher.output.recovery_check'])"
   ]
  },
  {
   "cell_type": "markdown",
   "metadata": {},
   "source": [
    "Полученное значение близко к нулю, следовательно в обучающем датасете признак изначально был верно рассчитан"
   ]
  },
  {
   "cell_type": "markdown",
   "metadata": {},
   "source": [
    "## Анализ признаков, недоступных в тестовой выборке"
   ]
  },
  {
   "cell_type": "markdown",
   "metadata": {},
   "source": [
    "Посмотрим каких столбцов нет в тестовой выборке"
   ]
  },
  {
   "cell_type": "code",
   "execution_count": 11,
   "metadata": {},
   "outputs": [
    {
     "data": {
      "text/plain": [
       "Index(['final.output.concentrate_ag', 'final.output.concentrate_au',\n",
       "       'final.output.concentrate_pb', 'final.output.concentrate_sol',\n",
       "       'final.output.recovery', 'final.output.tail_ag', 'final.output.tail_au',\n",
       "       'final.output.tail_pb', 'final.output.tail_sol',\n",
       "       'primary_cleaner.output.concentrate_ag',\n",
       "       'primary_cleaner.output.concentrate_au',\n",
       "       'primary_cleaner.output.concentrate_pb',\n",
       "       'primary_cleaner.output.concentrate_sol',\n",
       "       'primary_cleaner.output.tail_ag', 'primary_cleaner.output.tail_au',\n",
       "       'primary_cleaner.output.tail_pb', 'primary_cleaner.output.tail_sol',\n",
       "       'rougher.calculation.au_pb_ratio',\n",
       "       'rougher.calculation.floatbank10_sulfate_to_au_feed',\n",
       "       'rougher.calculation.floatbank11_sulfate_to_au_feed',\n",
       "       'rougher.calculation.sulfate_to_au_concentrate',\n",
       "       'rougher.output.concentrate_ag', 'rougher.output.concentrate_au',\n",
       "       'rougher.output.concentrate_pb', 'rougher.output.concentrate_sol',\n",
       "       'rougher.output.recovery', 'rougher.output.recovery_check',\n",
       "       'rougher.output.tail_ag', 'rougher.output.tail_au',\n",
       "       'rougher.output.tail_pb', 'rougher.output.tail_sol',\n",
       "       'secondary_cleaner.output.tail_ag', 'secondary_cleaner.output.tail_au',\n",
       "       'secondary_cleaner.output.tail_pb',\n",
       "       'secondary_cleaner.output.tail_sol'],\n",
       "      dtype='object')"
      ]
     },
     "execution_count": 11,
     "metadata": {},
     "output_type": "execute_result"
    }
   ],
   "source": [
    "df_train.columns.difference(df_test.columns)"
   ]
  },
  {
   "cell_type": "markdown",
   "metadata": {},
   "source": [
    "Видим, что в тестовой выборке остутствуют признаки, которые могут быть доступны только после проведения технологических процессов "
   ]
  },
  {
   "cell_type": "markdown",
   "metadata": {},
   "source": [
    "## Предобработка данных"
   ]
  },
  {
   "cell_type": "markdown",
   "metadata": {},
   "source": [
    "Переведём столбцы `date` в датасетах в формат даты"
   ]
  },
  {
   "cell_type": "code",
   "execution_count": 12,
   "metadata": {},
   "outputs": [],
   "source": [
    "# Создадим функцию для перевода в формат даты\n",
    "\n",
    "def format_to_date(data):\n",
    "    \n",
    "    data['date'] = pd.to_datetime(data['date'], format='%Y-%m-%dT%H:%M:%S')"
   ]
  },
  {
   "cell_type": "code",
   "execution_count": 13,
   "metadata": {},
   "outputs": [],
   "source": [
    "format_to_date(df_train)\n",
    "\n",
    "format_to_date(df_test)\n",
    "\n",
    "format_to_date(df_full)"
   ]
  },
  {
   "cell_type": "markdown",
   "metadata": {},
   "source": [
    "Удалим из обучающей выборки столбец с рассчитанным в п.1.2 значением эффективности обогащения"
   ]
  },
  {
   "cell_type": "code",
   "execution_count": 14,
   "metadata": {},
   "outputs": [],
   "source": [
    "df_train = df_train.drop(['rougher.output.recovery_check'], axis=1)"
   ]
  },
  {
   "cell_type": "markdown",
   "metadata": {},
   "source": [
    "Заполним пропуски в выборках. Т.к. это технологический процесс, то часто соседние по времени параметры близки к друг другу, соответственно заполним пропуски предыдущими значениями"
   ]
  },
  {
   "cell_type": "markdown",
   "metadata": {},
   "source": [
    "Сохраним названия столбцов обучающей и тестовой выборок"
   ]
  },
  {
   "cell_type": "code",
   "execution_count": 15,
   "metadata": {},
   "outputs": [],
   "source": [
    "names = df_train.columns\n",
    "\n",
    "names_test = df_test.columns"
   ]
  },
  {
   "cell_type": "markdown",
   "metadata": {},
   "source": [
    "Заполним пропуски во всех выборках"
   ]
  },
  {
   "cell_type": "code",
   "execution_count": 16,
   "metadata": {},
   "outputs": [],
   "source": [
    "for name in names:\n",
    "    \n",
    "    df_train[name] = df_train[name].fillna(method='ffill')   \n",
    "    "
   ]
  },
  {
   "cell_type": "code",
   "execution_count": 17,
   "metadata": {},
   "outputs": [],
   "source": [
    "for name in names_test:\n",
    "    \n",
    "    df_test[name] = df_test[name].fillna(method='ffill')"
   ]
  },
  {
   "cell_type": "code",
   "execution_count": 18,
   "metadata": {},
   "outputs": [],
   "source": [
    "for name in names:\n",
    "    \n",
    "    df_full[name] = df_full[name].fillna(method='ffill')"
   ]
  },
  {
   "cell_type": "markdown",
   "metadata": {},
   "source": [
    "## Выводы"
   ]
  },
  {
   "cell_type": "markdown",
   "metadata": {},
   "source": [
    "- Эффективность обогащения была расчитана верно\n",
    "- В тестовой выборке отсутствуют данные, доступные только после завершения технологических процессов, в том числе и целевые признаки\n",
    "- Тестовую выборку надо будет дополнить целевыми признаками из исходной выборки\n",
    "- Обучение моделей следует проводить только на признаках, присутствующих в тестовой выборке"
   ]
  },
  {
   "cell_type": "markdown",
   "metadata": {},
   "source": [
    "# Анализ данных"
   ]
  },
  {
   "cell_type": "markdown",
   "metadata": {},
   "source": [
    "## Анализ изменения концентрации металлов"
   ]
  },
  {
   "cell_type": "markdown",
   "metadata": {},
   "source": [
    "Создадим функцию для вывода диаграмм размаха "
   ]
  },
  {
   "cell_type": "code",
   "execution_count": 19,
   "metadata": {},
   "outputs": [],
   "source": [
    "def boxplot(data, title):\n",
    "    \n",
    "    labels = ['Исходная смесь', 'Флотация', 'Этап 1', 'Этап 2']\n",
    "\n",
    "    fig, ax = plt.subplots(figsize=(16, 6))\n",
    "    \n",
    "    ax.set_title(title, fontsize=18)\n",
    "    \n",
    "    bplot = ax.boxplot(data, patch_artist=True, labels=labels)\n",
    "\n",
    "    colors = ['blue', 'lightblue', 'lightgreen', 'pink']\n",
    "\n",
    "    for patch, color in zip(bplot['boxes'], colors):\n",
    "        \n",
    "            patch.set_facecolor(color)\n",
    "        \n",
    "    ax.yaxis.grid(True)\n",
    "\n",
    "    plt.show()    \n",
    "    "
   ]
  },
  {
   "cell_type": "markdown",
   "metadata": {},
   "source": [
    "Построим диаграмму для золота"
   ]
  },
  {
   "cell_type": "code",
   "execution_count": 20,
   "metadata": {},
   "outputs": [],
   "source": [
    "data_au = [df_train['rougher.input.feed_au'], df_train['rougher.output.concentrate_au'], df_train['primary_cleaner.output.concentrate_au'], \n",
    "           df_train['final.output.concentrate_au']]\n",
    "\n",
    "title_au = 'Концентрация золота после разных этапов, %'"
   ]
  },
  {
   "cell_type": "code",
   "execution_count": 21,
   "metadata": {},
   "outputs": [
    {
     "data": {
      "image/png": "[encoded data removed]",
      "text/plain": [
       "<Figure size 1152x432 with 1 Axes>"
      ]
     },
     "metadata": {
      "needs_background": "light"
     },
     "output_type": "display_data"
    }
   ],
   "source": [
    "boxplot(data_au, title_au)"
   ]
  },
  {
   "cell_type": "markdown",
   "metadata": {},
   "source": [
    "Концентрация золота с каждым этапом увеличивается"
   ]
  },
  {
   "cell_type": "markdown",
   "metadata": {},
   "source": [
    "Построим диаграмму для серебра"
   ]
  },
  {
   "cell_type": "code",
   "execution_count": 22,
   "metadata": {},
   "outputs": [],
   "source": [
    "data_ag = [df_train['rougher.input.feed_ag'], df_train['rougher.output.concentrate_ag'], df_train['primary_cleaner.output.concentrate_ag'], \n",
    "           df_train['final.output.concentrate_ag']]\n",
    "\n",
    "title_ag = 'Концентрация серебра после разных этапов, %'"
   ]
  },
  {
   "cell_type": "code",
   "execution_count": 23,
   "metadata": {},
   "outputs": [
    {
     "data": {
      "image/png": "[encoded data removed]",
      "text/plain": [
       "<Figure size 1152x432 with 1 Axes>"
      ]
     },
     "metadata": {
      "needs_background": "light"
     },
     "output_type": "display_data"
    }
   ],
   "source": [
    "boxplot(data_ag, title_ag)"
   ]
  },
  {
   "cell_type": "markdown",
   "metadata": {},
   "source": [
    "Концентрация серебра увеличивается после этапа флотации, а на последующих этапах снижается"
   ]
  },
  {
   "cell_type": "markdown",
   "metadata": {},
   "source": [
    "Построим диаграмму для свинца"
   ]
  },
  {
   "cell_type": "code",
   "execution_count": 24,
   "metadata": {},
   "outputs": [],
   "source": [
    "data_pb = [df_train['rougher.input.feed_pb'], df_train['rougher.output.concentrate_pb'], df_train['primary_cleaner.output.concentrate_pb'], \n",
    "           df_train['final.output.concentrate_pb']]\n",
    "\n",
    "title_pb = 'Концентрация свинца после разных этапов, %'"
   ]
  },
  {
   "cell_type": "code",
   "execution_count": 25,
   "metadata": {},
   "outputs": [
    {
     "data": {
      "image/png": "[encoded data removed]",
      "text/plain": [
       "<Figure size 1152x432 with 1 Axes>"
      ]
     },
     "metadata": {
      "needs_background": "light"
     },
     "output_type": "display_data"
    }
   ],
   "source": [
    "boxplot(data_pb, title_pb)"
   ]
  },
  {
   "cell_type": "markdown",
   "metadata": {},
   "source": [
    "Концентрация свинца увеличивается на каждом этапе (после этапа очистки 2 практически не меняется)"
   ]
  },
  {
   "cell_type": "markdown",
   "metadata": {},
   "source": [
    "## Анализ распределения размеров гранул сырья"
   ]
  },
  {
   "cell_type": "markdown",
   "metadata": {},
   "source": [
    "Сравним распределения размеров гранул сырья до этапа флотации в тестовой и обучающей выборках  "
   ]
  },
  {
   "cell_type": "markdown",
   "metadata": {},
   "source": [
    "Создадим функцию для построения распределений"
   ]
  },
  {
   "cell_type": "code",
   "execution_count": 26,
   "metadata": {},
   "outputs": [],
   "source": [
    "def distribution_plot(data_1, data_2, title):\n",
    "    \n",
    "    plt.figure(figsize=(15, 5))\n",
    "    \n",
    "    sns.kdeplot(data_1, shade=True, color=\"b\", label='Обучающая выборка', alpha=.5)\n",
    "    \n",
    "    sns.kdeplot(data_2, shade=True, color=\"y\", label='Тестовая выборка', alpha=.5)\n",
    "\n",
    "    plt.title(title, fontsize=18)\n",
    "    \n",
    "    plt.xlabel('Размер гранул сырья', fontsize=18)\n",
    "    \n",
    "    plt.ylabel('Доля, %', fontsize=18)\n",
    "    \n",
    "    plt.legend()\n",
    "    \n",
    "    plt.show()   \n",
    "    "
   ]
  },
  {
   "cell_type": "code",
   "execution_count": 27,
   "metadata": {},
   "outputs": [
    {
     "data": {
      "image/png": "[encoded data removed]",
      "text/plain": [
       "<Figure size 1080x360 with 1 Axes>"
      ]
     },
     "metadata": {
      "needs_background": "light"
     },
     "output_type": "display_data"
    }
   ],
   "source": [
    "distribution_plot(df_train['rougher.input.feed_size'], df_test['rougher.input.feed_size'], 'Распределения размеров гранул сырья до флотации')"
   ]
  },
  {
   "cell_type": "markdown",
   "metadata": {},
   "source": [
    "- Распределения очень близки\n",
    "- Заменты небольшие выбросы около значения 250"
   ]
  },
  {
   "cell_type": "markdown",
   "metadata": {},
   "source": [
    "Сравним распределения размеров гранул сырья после этапа флотации в тестовой и обучающей выборках"
   ]
  },
  {
   "cell_type": "code",
   "execution_count": 28,
   "metadata": {},
   "outputs": [
    {
     "data": {
      "image/png": "[encoded data removed]",
      "text/plain": [
       "<Figure size 1080x360 with 1 Axes>"
      ]
     },
     "metadata": {
      "needs_background": "light"
     },
     "output_type": "display_data"
    }
   ],
   "source": [
    "distribution_plot(df_train['primary_cleaner.input.feed_size'], df_test['primary_cleaner.input.feed_size'], 'Распределения размеров гранул сырья после флотации')"
   ]
  },
  {
   "cell_type": "markdown",
   "metadata": {},
   "source": [
    "Распределения очень близки"
   ]
  },
  {
   "cell_type": "markdown",
   "metadata": {},
   "source": [
    "Удалим из тестовой и обучающей выборок строки с размером гранул сырья, превышающем 200"
   ]
  },
  {
   "cell_type": "code",
   "execution_count": 29,
   "metadata": {
    "scrolled": false
   },
   "outputs": [],
   "source": [
    "df_train = df_train[df_train['rougher.input.feed_size'] <= 200]\n",
    "\n",
    "df_test = df_test[df_test['rougher.input.feed_size'] <= 200]"
   ]
  },
  {
   "cell_type": "markdown",
   "metadata": {},
   "source": [
    "## Анализ суммарной концентрации всех веществ на разных стадиях"
   ]
  },
  {
   "cell_type": "markdown",
   "metadata": {},
   "source": [
    "Создадим функцию для вывода гистограммы распределения"
   ]
  },
  {
   "cell_type": "code",
   "execution_count": 30,
   "metadata": {},
   "outputs": [],
   "source": [
    "def plot_hist(data, bins, min, max, title):\n",
    "    \n",
    "    plt.title(title, fontsize=18)\n",
    "    \n",
    "    plt.ylabel('Количество, шт.', fontsize=18)\n",
    "    \n",
    "    plt.xlabel('Концентрация, %', fontsize=18)\n",
    "    \n",
    "    data.hist(bins=bins, range = (min, max), figsize = (15, 5))"
   ]
  },
  {
   "cell_type": "markdown",
   "metadata": {},
   "source": [
    "Построим гистограмму распределения для исходного сырья в обучающей выборке"
   ]
  },
  {
   "cell_type": "code",
   "execution_count": 31,
   "metadata": {},
   "outputs": [
    {
     "data": {
      "image/png": "[encoded data removed]",
      "text/plain": [
       "<Figure size 1080x360 with 1 Axes>"
      ]
     },
     "metadata": {
      "needs_background": "light"
     },
     "output_type": "display_data"
    }
   ],
   "source": [
    "plot_hist(df_train['rougher.input.feed_au'] + df_train['rougher.input.feed_ag'] +\n",
    "         df_train['rougher.input.feed_pb'] + df_train['rougher.input.feed_sol'],\n",
    "         100, 0, 100, 'Распределение суммарной концентрации всех веществ в сырье')"
   ]
  },
  {
   "cell_type": "markdown",
   "metadata": {},
   "source": [
    "Внимательнее посмотрим на выброс около 0"
   ]
  },
  {
   "cell_type": "code",
   "execution_count": 32,
   "metadata": {},
   "outputs": [
    {
     "data": {
      "image/png": "[encoded data removed]",
      "text/plain": [
       "<Figure size 1080x360 with 1 Axes>"
      ]
     },
     "metadata": {
      "needs_background": "light"
     },
     "output_type": "display_data"
    }
   ],
   "source": [
    "plot_hist(df_train['rougher.input.feed_au'] + df_train['rougher.input.feed_ag'] +\n",
    "         df_train['rougher.input.feed_pb'] + df_train['rougher.input.feed_sol'],\n",
    "         4, 0, 2, 'Распределение суммарной концентрации всех веществ в сырье')"
   ]
  },
  {
   "cell_type": "markdown",
   "metadata": {},
   "source": [
    "Удалим строки из обучающей выборки, где какая-нибудь из концентраций менее 0.5%"
   ]
  },
  {
   "cell_type": "code",
   "execution_count": 33,
   "metadata": {},
   "outputs": [],
   "source": [
    "df_train = df_train[(df_train['rougher.input.feed_au'] > 0.5) | (df_train['rougher.input.feed_ag'] > 0.5) | (df_train['rougher.input.feed_pb'] > 0.5) | (df_train['rougher.input.feed_sol'] > 0.5)]"
   ]
  },
  {
   "cell_type": "code",
   "execution_count": 34,
   "metadata": {},
   "outputs": [
    {
     "data": {
      "image/png": "[encoded data removed]",
      "text/plain": [
       "<Figure size 1080x360 with 1 Axes>"
      ]
     },
     "metadata": {
      "needs_background": "light"
     },
     "output_type": "display_data"
    }
   ],
   "source": [
    "plot_hist(df_train['rougher.input.feed_au'] + df_train['rougher.input.feed_ag'] +\n",
    "         df_train['rougher.input.feed_pb'] + df_train['rougher.input.feed_sol'],\n",
    "         100, 0, 100, 'Распределение суммарной концентрации всех веществ в сырье')"
   ]
  },
  {
   "cell_type": "markdown",
   "metadata": {},
   "source": [
    "Построим гистограмму распределения для чернового концентрата в обучающей выборке"
   ]
  },
  {
   "cell_type": "code",
   "execution_count": 35,
   "metadata": {},
   "outputs": [
    {
     "data": {
      "image/png": "[encoded data removed]",
      "text/plain": [
       "<Figure size 1080x360 with 1 Axes>"
      ]
     },
     "metadata": {
      "needs_background": "light"
     },
     "output_type": "display_data"
    }
   ],
   "source": [
    "plot_hist(df_train['rougher.output.concentrate_ag'] + df_train['rougher.output.concentrate_au'] +\n",
    "         df_train['rougher.output.concentrate_pb'] + df_train['rougher.output.concentrate_sol'],\n",
    "         100, 0, 100, 'Распределение суммарной концентрации всех веществ после этапа флотации')"
   ]
  },
  {
   "cell_type": "markdown",
   "metadata": {},
   "source": [
    "Внимательнее посмотрим на выброс около 0"
   ]
  },
  {
   "cell_type": "code",
   "execution_count": 36,
   "metadata": {},
   "outputs": [
    {
     "data": {
      "image/png": "[encoded data removed]",
      "text/plain": [
       "<Figure size 1080x360 with 1 Axes>"
      ]
     },
     "metadata": {
      "needs_background": "light"
     },
     "output_type": "display_data"
    }
   ],
   "source": [
    "plot_hist(df_train['rougher.output.concentrate_ag'] + df_train['rougher.output.concentrate_au'] +\n",
    "         df_train['rougher.output.concentrate_pb'] + df_train['rougher.output.concentrate_sol'],\n",
    "         4, 0, 2, 'Распределение суммарной концентрации всех веществ после этапа флотации')"
   ]
  },
  {
   "cell_type": "markdown",
   "metadata": {},
   "source": [
    "Удалим строки из обучающей выборки, где какая-нибудь из концентраций менее 0.5%"
   ]
  },
  {
   "cell_type": "code",
   "execution_count": 37,
   "metadata": {},
   "outputs": [],
   "source": [
    "df_train = df_train[(df_train['rougher.output.concentrate_au'] > 0.5) | (df_train['rougher.output.concentrate_ag'] > 0.5) | (df_train['rougher.output.concentrate_pb'] > 0.5) | (df_train['rougher.output.concentrate_sol'] > 0.5)]"
   ]
  },
  {
   "cell_type": "code",
   "execution_count": 38,
   "metadata": {},
   "outputs": [
    {
     "data": {
      "image/png": "[encoded data removed]",
      "text/plain": [
       "<Figure size 1080x360 with 1 Axes>"
      ]
     },
     "metadata": {
      "needs_background": "light"
     },
     "output_type": "display_data"
    }
   ],
   "source": [
    "plot_hist(df_train['rougher.output.concentrate_ag'] + df_train['rougher.output.concentrate_au'] +\n",
    "         df_train['rougher.output.concentrate_pb'] + df_train['rougher.output.concentrate_sol'],\n",
    "         100, 0, 100, 'Распределение суммарной концентрации всех веществ после этапа флотации')"
   ]
  },
  {
   "cell_type": "markdown",
   "metadata": {},
   "source": [
    "Построим гистограмму распределения для концентрата после этапа очистки 1 в обучающей выборке"
   ]
  },
  {
   "cell_type": "code",
   "execution_count": 39,
   "metadata": {},
   "outputs": [
    {
     "data": {
      "image/png": "[encoded data removed]",
      "text/plain": [
       "<Figure size 1080x360 with 1 Axes>"
      ]
     },
     "metadata": {
      "needs_background": "light"
     },
     "output_type": "display_data"
    }
   ],
   "source": [
    "plot_hist(df_train['primary_cleaner.output.concentrate_ag'] + df_train['primary_cleaner.output.concentrate_au'] +\n",
    "         df_train['primary_cleaner.output.concentrate_pb'] + df_train['primary_cleaner.output.concentrate_sol'],\n",
    "         100, 0, 100, 'Распределение суммарной концентрации всех веществ после этапа очистки 1')"
   ]
  },
  {
   "cell_type": "markdown",
   "metadata": {},
   "source": [
    "Внимательнее посмотрим на выброс около 0"
   ]
  },
  {
   "cell_type": "code",
   "execution_count": 40,
   "metadata": {},
   "outputs": [
    {
     "data": {
      "image/png": "[encoded data removed]",
      "text/plain": [
       "<Figure size 1080x360 with 1 Axes>"
      ]
     },
     "metadata": {
      "needs_background": "light"
     },
     "output_type": "display_data"
    }
   ],
   "source": [
    "plot_hist(df_train['primary_cleaner.output.concentrate_ag'] + df_train['primary_cleaner.output.concentrate_au'] +\n",
    "         df_train['primary_cleaner.output.concentrate_pb'] + df_train['primary_cleaner.output.concentrate_sol'],\n",
    "         4, 0, 2, 'Распределение суммарной концентрации всех веществ после этапа очистки 1')"
   ]
  },
  {
   "cell_type": "markdown",
   "metadata": {},
   "source": [
    "Удалим строки из обучающей выборки, где какая-нибудь из концентраций менее 0.5%"
   ]
  },
  {
   "cell_type": "code",
   "execution_count": 41,
   "metadata": {},
   "outputs": [],
   "source": [
    "df_train = df_train[(df_train['primary_cleaner.output.concentrate_au'] > 0.5) | (df_train['primary_cleaner.output.concentrate_ag'] > 0.5) | (df_train['primary_cleaner.output.concentrate_pb'] > 0.5) | (df_train['primary_cleaner.output.concentrate_sol'] > 0.5)]"
   ]
  },
  {
   "cell_type": "code",
   "execution_count": 42,
   "metadata": {},
   "outputs": [
    {
     "data": {
      "image/png": "[encoded data removed]",
      "text/plain": [
       "<Figure size 1080x360 with 1 Axes>"
      ]
     },
     "metadata": {
      "needs_background": "light"
     },
     "output_type": "display_data"
    }
   ],
   "source": [
    "plot_hist(df_train['primary_cleaner.output.concentrate_ag'] + df_train['primary_cleaner.output.concentrate_au'] +\n",
    "         df_train['primary_cleaner.output.concentrate_pb'] + df_train['primary_cleaner.output.concentrate_sol'],\n",
    "         100, 0, 100, 'Распределение суммарной концентрации всех веществ после этапа очистки 1')"
   ]
  },
  {
   "cell_type": "markdown",
   "metadata": {},
   "source": [
    "Построим гистограмму распределения для финального концентрата в обучающей выборке"
   ]
  },
  {
   "cell_type": "code",
   "execution_count": 43,
   "metadata": {},
   "outputs": [
    {
     "data": {
      "image/png": "[encoded data removed]",
      "text/plain": [
       "<Figure size 1080x360 with 1 Axes>"
      ]
     },
     "metadata": {
      "needs_background": "light"
     },
     "output_type": "display_data"
    }
   ],
   "source": [
    "plot_hist(df_train['final.output.concentrate_ag'] + df_train['final.output.concentrate_au'] +\n",
    "         df_train['final.output.concentrate_pb'] + df_train['final.output.concentrate_sol'],\n",
    "         100, 0, 100, 'Распределение суммарной концентрации всех веществ после этапа очистки 2')"
   ]
  },
  {
   "cell_type": "markdown",
   "metadata": {},
   "source": [
    "Внимательнее посмотрим на выброс около 0"
   ]
  },
  {
   "cell_type": "code",
   "execution_count": 44,
   "metadata": {},
   "outputs": [
    {
     "data": {
      "image/png": "[encoded data removed]",
      "text/plain": [
       "<Figure size 1080x360 with 1 Axes>"
      ]
     },
     "metadata": {
      "needs_background": "light"
     },
     "output_type": "display_data"
    }
   ],
   "source": [
    "plot_hist(df_train['final.output.concentrate_ag'] + df_train['final.output.concentrate_au'] +\n",
    "         df_train['final.output.concentrate_pb'] + df_train['final.output.concentrate_sol'],\n",
    "         4, 0, 2, 'Распределение суммарной концентрации всех веществ после этапа очистки 2')"
   ]
  },
  {
   "cell_type": "markdown",
   "metadata": {},
   "source": [
    "\n",
    "Удалим строки из обучающей выборки, где какая-нибудь из концентраций менее 0.5%"
   ]
  },
  {
   "cell_type": "code",
   "execution_count": 45,
   "metadata": {},
   "outputs": [],
   "source": [
    "df_train = df_train[(df_train['final.output.concentrate_au'] > 0.5) | (df_train['final.output.concentrate_ag'] > 0.5) | (df_train['final.output.concentrate_pb'] > 0.5) | (df_train['final.output.concentrate_sol'] > 0.5)]"
   ]
  },
  {
   "cell_type": "code",
   "execution_count": 46,
   "metadata": {},
   "outputs": [
    {
     "data": {
      "image/png": "[encoded data removed]",
      "text/plain": [
       "<Figure size 1080x360 with 1 Axes>"
      ]
     },
     "metadata": {
      "needs_background": "light"
     },
     "output_type": "display_data"
    }
   ],
   "source": [
    "plot_hist(df_train['final.output.concentrate_ag'] + df_train['final.output.concentrate_au'] +\n",
    "         df_train['final.output.concentrate_pb'] + df_train['final.output.concentrate_sol'],\n",
    "         100, 0, 100, 'Распределение суммарной концентрации всех веществ после этапа очистки 2')"
   ]
  },
  {
   "cell_type": "markdown",
   "metadata": {},
   "source": [
    "Построим гистограмму распределения для исходного сырья в тестовой выборке"
   ]
  },
  {
   "cell_type": "code",
   "execution_count": 47,
   "metadata": {},
   "outputs": [
    {
     "data": {
      "image/png": "[encoded data removed]",
      "text/plain": [
       "<Figure size 1080x360 with 1 Axes>"
      ]
     },
     "metadata": {
      "needs_background": "light"
     },
     "output_type": "display_data"
    }
   ],
   "source": [
    "plot_hist(df_test['rougher.input.feed_au'] + df_test['rougher.input.feed_ag'] +\n",
    "         df_test['rougher.input.feed_pb'] + df_test['rougher.input.feed_sol'],\n",
    "         100, 0, 100, 'Распределение суммарной концентрации всех веществ в сырье')"
   ]
  },
  {
   "cell_type": "markdown",
   "metadata": {},
   "source": [
    "Внимательнее посмотрим на выброс около 0"
   ]
  },
  {
   "cell_type": "code",
   "execution_count": 48,
   "metadata": {},
   "outputs": [
    {
     "data": {
      "image/png": "[encoded data removed]",
      "text/plain": [
       "<Figure size 1080x360 with 1 Axes>"
      ]
     },
     "metadata": {
      "needs_background": "light"
     },
     "output_type": "display_data"
    }
   ],
   "source": [
    "plot_hist(df_test['rougher.input.feed_au'] + df_test['rougher.input.feed_ag'] +\n",
    "         df_test['rougher.input.feed_pb'] + df_test['rougher.input.feed_sol'],\n",
    "         4, 0, 2, 'Распределение суммарной концентрации всех веществ в сырье')"
   ]
  },
  {
   "cell_type": "markdown",
   "metadata": {},
   "source": [
    "\n",
    "Удалим строки из тестовой выборки, где какая-нибудь из концентраций менее 0.5%"
   ]
  },
  {
   "cell_type": "code",
   "execution_count": 49,
   "metadata": {},
   "outputs": [],
   "source": [
    "df_test = df_test[(df_test['rougher.input.feed_au'] > 0.5) | (df_test['rougher.input.feed_ag'] > 0.5) | (df_test['rougher.input.feed_pb'] > 0.5) | (df_test['rougher.input.feed_sol'] > 0.5)]"
   ]
  },
  {
   "cell_type": "code",
   "execution_count": 50,
   "metadata": {},
   "outputs": [
    {
     "data": {
      "image/png": "[encoded data removed]",
      "text/plain": [
       "<Figure size 1080x360 with 1 Axes>"
      ]
     },
     "metadata": {
      "needs_background": "light"
     },
     "output_type": "display_data"
    }
   ],
   "source": [
    "plot_hist(df_test['rougher.input.feed_au'] + df_test['rougher.input.feed_ag'] +\n",
    "         df_test['rougher.input.feed_pb'] + df_test['rougher.input.feed_sol'],\n",
    "         100, 0, 100, 'Распределение суммарной концентрации всех веществ в сырье')"
   ]
  },
  {
   "cell_type": "markdown",
   "metadata": {},
   "source": [
    "## Выводы"
   ]
  },
  {
   "cell_type": "markdown",
   "metadata": {},
   "source": [
    "- Концентрация золота с каждым этапом увеличивается\n",
    "- Распределения размеров гранул сырья в обучающей и тестовой выборках практически идентичны\n",
    "- Обучабщая и тестовая выборки очищены от довольно большого числа аномальномалых концентраций веществ"
   ]
  },
  {
   "cell_type": "markdown",
   "metadata": {},
   "source": [
    "# Модель"
   ]
  },
  {
   "cell_type": "markdown",
   "metadata": {},
   "source": [
    "## Функция для вычисления итоговой sMAPE"
   ]
  },
  {
   "cell_type": "markdown",
   "metadata": {},
   "source": [
    "Создадим функцию для вычисления итоговой sMAPE"
   ]
  },
  {
   "cell_type": "code",
   "execution_count": 51,
   "metadata": {},
   "outputs": [],
   "source": [
    "def smape_func(y_true_1, y_pred_1, y_true_2, y_pred_2):\n",
    "    \n",
    "    total_1, total_2 = 0, 0\n",
    "    \n",
    "    for i in range(len(y_true_1)):\n",
    "        \n",
    "        total_1 += (abs(y_true_1[i] - y_pred_1[i])) / ((abs(y_true_1[i]) + abs(y_pred_1[i])) / 2)\n",
    "        \n",
    "        result_1 = 100 * total_1 / len(y_true_1)\n",
    "        \n",
    "        total_2 += (abs(y_true_2[i] - y_pred_2[i])) / ((abs(y_true_2[i]) + abs(y_pred_2[i])) / 2)\n",
    "        \n",
    "        result_2 = 100 * total_2 / len(y_true_2)\n",
    "                   \n",
    "    return 0.25 * result_1 + 0.75 * result_2\n"
   ]
  },
  {
   "cell_type": "markdown",
   "metadata": {},
   "source": [
    "Создадим функцию для вычисления sMAPE для использования выбора лучших гиперпараметров в модели"
   ]
  },
  {
   "cell_type": "code",
   "execution_count": 52,
   "metadata": {},
   "outputs": [],
   "source": [
    "def smape(y_true, y_pred):\n",
    "    \n",
    "    total = 0\n",
    "    \n",
    "    for i in range(len(y_true)):\n",
    "        \n",
    "        total += (abs(y_true[i] - y_pred[i])) / ((abs(y_true[i]) + abs(y_pred[i])) / 2)\n",
    "        \n",
    "        result = 100 * total / len(y_true)\n",
    "                   \n",
    "    return result"
   ]
  },
  {
   "cell_type": "markdown",
   "metadata": {},
   "source": [
    "## Обучение и выбор лучшей модели, её проверка на тестовой выборке"
   ]
  },
  {
   "cell_type": "markdown",
   "metadata": {},
   "source": [
    "Удалим из списка названия столбцов тестовой выборки название `date`, т.к. этот столбец не является признаком для обучения"
   ]
  },
  {
   "cell_type": "code",
   "execution_count": 53,
   "metadata": {},
   "outputs": [],
   "source": [
    "names_test = names_test.delete(0)"
   ]
  },
  {
   "cell_type": "markdown",
   "metadata": {},
   "source": [
    "Создадим функцию, устанавливающую столбец `date` в качестве индекса выборки"
   ]
  },
  {
   "cell_type": "code",
   "execution_count": 54,
   "metadata": {},
   "outputs": [],
   "source": [
    "def set_index_date(data):\n",
    "    \n",
    "    data = data.set_index('date', inplace=True)"
   ]
  },
  {
   "cell_type": "markdown",
   "metadata": {},
   "source": [
    "Применим функцию ко всем выборкам"
   ]
  },
  {
   "cell_type": "code",
   "execution_count": 55,
   "metadata": {},
   "outputs": [],
   "source": [
    "set_index_date(df_test)\n",
    "\n",
    "set_index_date(df_train)\n",
    "\n",
    "set_index_date(df_full)"
   ]
  },
  {
   "cell_type": "markdown",
   "metadata": {},
   "source": [
    "Сохраним целевые признаки и признаки обучающей выборки"
   ]
  },
  {
   "cell_type": "code",
   "execution_count": 56,
   "metadata": {},
   "outputs": [],
   "source": [
    "target_train_rougher = df_train['rougher.output.recovery'] # Целевой признак 1 (эффективность обогащения после флотации)\n",
    "\n",
    "target_train_final = df_train['final.output.recovery'] # Целевой признак 2 (эффективность обогащения финальная) \n",
    "\n",
    "features_train = df_train[names_test]  # Признаки"
   ]
  },
  {
   "cell_type": "markdown",
   "metadata": {},
   "source": [
    "Выполним масштабирование признаков обучающей выборки"
   ]
  },
  {
   "cell_type": "code",
   "execution_count": 57,
   "metadata": {},
   "outputs": [],
   "source": [
    "scaler = StandardScaler()\n",
    "\n",
    "scaler.fit(features_train)\n",
    "\n",
    "features_train[names_test] = scaler.transform(features_train[names_test])"
   ]
  },
  {
   "cell_type": "markdown",
   "metadata": {},
   "source": [
    "Создадим функцию для подбора лучших гиперпараметров по метрике sMAPE на основе GridSearchCV"
   ]
  },
  {
   "cell_type": "code",
   "execution_count": 58,
   "metadata": {},
   "outputs": [],
   "source": [
    " my_scorer = make_scorer(smape, greater_is_better=False)"
   ]
  },
  {
   "cell_type": "code",
   "execution_count": 59,
   "metadata": {},
   "outputs": [],
   "source": [
    "def best_model(model, features, target, param_grid):\n",
    "    \n",
    "    model = model()\n",
    "    \n",
    "    grid_search = GridSearchCV(model, param_grid, cv=5, scoring=my_scorer)\n",
    "\n",
    "    grid_search.fit(features, target)\n",
    "    \n",
    "    best_params = grid_search.best_params_\n",
    "    \n",
    "    best_score = grid_search.best_score_\n",
    "    \n",
    "    return best_params, best_score"
   ]
  },
  {
   "cell_type": "markdown",
   "metadata": {},
   "source": [
    "Для этапа флотации будем применять только те признаки, которые относятся к этому этапу, т.к. другие по логике не должны быть доступны на данном этапе технологического процесса"
   ]
  },
  {
   "cell_type": "code",
   "execution_count": 60,
   "metadata": {},
   "outputs": [],
   "source": [
    "features_train_rougher = features_train[names_test[12:33]]"
   ]
  },
  {
   "cell_type": "markdown",
   "metadata": {},
   "source": [
    "Обучим модель линейной регрессии для эффективности обогащения этапа флотации"
   ]
  },
  {
   "cell_type": "code",
   "execution_count": 61,
   "metadata": {
    "scrolled": false
   },
   "outputs": [
    {
     "name": "stdout",
     "output_type": "stream",
     "text": [
      "Лучшая sMAPE: 7.509466360555894\n"
     ]
    }
   ],
   "source": [
    "param_grid = {'n_jobs': [-1]}\n",
    "\n",
    "best_params_lr_1, best_score_lr_1 = best_model(LinearRegression, features_train_rougher, target_train_rougher, param_grid)\n",
    "\n",
    "print('Лучшая sMAPE:', -best_score_lr_1)"
   ]
  },
  {
   "cell_type": "markdown",
   "metadata": {},
   "source": [
    "Обучим модель линейной регрессии для эффективности обогащения финальной"
   ]
  },
  {
   "cell_type": "code",
   "execution_count": 62,
   "metadata": {},
   "outputs": [
    {
     "name": "stdout",
     "output_type": "stream",
     "text": [
      "Лучшая sMAPE: 11.370299082173162\n"
     ]
    }
   ],
   "source": [
    "best_params_lr_2, best_score_lr_2 = best_model(LinearRegression, features_train, target_train_final, param_grid)\n",
    "\n",
    "print('Лучшая sMAPE:', -best_score_lr_2)"
   ]
  },
  {
   "cell_type": "markdown",
   "metadata": {},
   "source": [
    "Обучим модель случайного леса для эффективности обогащения этапа флотации"
   ]
  },
  {
   "cell_type": "code",
   "execution_count": 63,
   "metadata": {},
   "outputs": [],
   "source": [
    "param_grid = {'n_estimators': [10, 20, 30, 40], 'max_depth': [5, 10, 15, 20], 'n_jobs': [-1], 'random_state': [12345]}"
   ]
  },
  {
   "cell_type": "code",
   "execution_count": 66,
   "metadata": {},
   "outputs": [
    {
     "name": "stdout",
     "output_type": "stream",
     "text": [
      "Лучшие гиперпараметры: {'max_depth': 5, 'n_estimators': 20, 'n_jobs': -1, 'random_state': 12345}\n",
      "\n",
      "Лучшая sMAPE: 7.411452806313602\n"
     ]
    }
   ],
   "source": [
    "best_params_rf_1, best_score_rf_1 = best_model(RandomForestRegressor, features_train_rougher, target_train_rougher, param_grid)\n",
    "\n",
    "print('Лучшие гиперпараметры:', best_params_rf_1)\n",
    "print()\n",
    "print('Лучшая sMAPE:', -best_score_rf_1)"
   ]
  },
  {
   "cell_type": "markdown",
   "metadata": {},
   "source": [
    "Обучим модель случайного леса для эффективности обогащения финальной"
   ]
  },
  {
   "cell_type": "code",
   "execution_count": 67,
   "metadata": {},
   "outputs": [],
   "source": [
    "param_grid = {'n_estimators': [10, 20, 30, 40], 'max_depth': [5, 10, 15, 20], 'n_jobs': [-1], 'random_state': [12345]}"
   ]
  },
  {
   "cell_type": "code",
   "execution_count": 68,
   "metadata": {},
   "outputs": [
    {
     "name": "stdout",
     "output_type": "stream",
     "text": [
      "Лучшие гиперпараметры: {'max_depth': 5, 'n_estimators': 40, 'n_jobs': -1, 'random_state': 12345}\n",
      "\n",
      "Лучшая sMAPE: 9.376244818830736\n"
     ]
    }
   ],
   "source": [
    "best_params_rf_2, best_score_rf_2 = best_model(RandomForestRegressor, features_train, target_train_final, param_grid)\n",
    "\n",
    "print('Лучшие гиперпараметры:', best_params_rf_2)\n",
    "print()\n",
    "print('Лучшая sMAPE:', -best_score_rf_2)"
   ]
  },
  {
   "cell_type": "markdown",
   "metadata": {},
   "source": [
    "Модели случайного леса показали лучшие результаты. Именно их и будем использовать для финальных моделей"
   ]
  },
  {
   "cell_type": "markdown",
   "metadata": {},
   "source": [
    "Дополним тестовую выборку целевыми признаками"
   ]
  },
  {
   "cell_type": "code",
   "execution_count": 69,
   "metadata": {},
   "outputs": [],
   "source": [
    "df_test['rougher.output.recovery'] = df_full['rougher.output.recovery']\n",
    "\n",
    "df_test['final.output.recovery'] = df_full['final.output.recovery']"
   ]
  },
  {
   "cell_type": "markdown",
   "metadata": {},
   "source": [
    "Сохраним целевые признаки и признаки тестовой выборки"
   ]
  },
  {
   "cell_type": "code",
   "execution_count": 70,
   "metadata": {},
   "outputs": [],
   "source": [
    "target_test_rougher = df_test['rougher.output.recovery'] # Целевой признак 1 (эффективность обогащения после флотации)\n",
    "\n",
    "target_test_final = df_test['final.output.recovery'] # Целевой признак 2 (эффективность обогащения финальная)\n",
    "\n",
    "features_test = df_test[names_test]"
   ]
  },
  {
   "cell_type": "markdown",
   "metadata": {},
   "source": [
    "Масштабируем признаки тестовой выборки"
   ]
  },
  {
   "cell_type": "code",
   "execution_count": 71,
   "metadata": {},
   "outputs": [],
   "source": [
    "features_test[names_test] = scaler.transform(features_test[names_test])"
   ]
  },
  {
   "cell_type": "markdown",
   "metadata": {},
   "source": [
    "Для этапа флотации будем применять только те признаки, которые относятся к этому этапу"
   ]
  },
  {
   "cell_type": "code",
   "execution_count": 72,
   "metadata": {},
   "outputs": [],
   "source": [
    "features_test_rougher = features_test[names_test[12:33]]"
   ]
  },
  {
   "cell_type": "markdown",
   "metadata": {},
   "source": [
    "Обучим финальные модели случайного леса с лучшими гиперпараметрами "
   ]
  },
  {
   "cell_type": "code",
   "execution_count": 73,
   "metadata": {},
   "outputs": [],
   "source": [
    "model_rougher = RandomForestRegressor(n_estimators=best_params_rf_1['n_estimators'], max_depth=best_params_rf_1['max_depth'], n_jobs=-1, random_state=12345)\n",
    "\n",
    "model_rougher.fit(features_train_rougher, target_train_rougher)\n",
    "\n",
    "predictions_rougher = model_rougher.predict(features_test_rougher)                                      "
   ]
  },
  {
   "cell_type": "code",
   "execution_count": 74,
   "metadata": {},
   "outputs": [],
   "source": [
    "model_final = RandomForestRegressor(n_estimators=best_params_rf_2['n_estimators'], max_depth=best_params_rf_2['max_depth'], n_jobs=-1, random_state=12345)\n",
    "\n",
    "model_final.fit(features_train, target_train_final)\n",
    "\n",
    "predictions_final = model_final.predict(features_test) "
   ]
  },
  {
   "cell_type": "markdown",
   "metadata": {},
   "source": [
    "Создадим функцию для преобразованя в `array`"
   ]
  },
  {
   "cell_type": "code",
   "execution_count": 75,
   "metadata": {},
   "outputs": [],
   "source": [
    "def df_to_ar(data):\n",
    "    \n",
    "    return data.to_numpy()"
   ]
  },
  {
   "cell_type": "markdown",
   "metadata": {},
   "source": [
    "Преобразуем целевые признаки тестовой выборки в `array`"
   ]
  },
  {
   "cell_type": "code",
   "execution_count": 76,
   "metadata": {},
   "outputs": [],
   "source": [
    "target_test_rougher_ar = df_to_ar(target_test_rougher)\n",
    "\n",
    "target_test_final_ar = df_to_ar(target_test_final)"
   ]
  },
  {
   "cell_type": "markdown",
   "metadata": {},
   "source": [
    "Рассчитаем итоговую sMAPE"
   ]
  },
  {
   "cell_type": "code",
   "execution_count": 77,
   "metadata": {},
   "outputs": [
    {
     "data": {
      "text/plain": [
       "11.261038918962361"
      ]
     },
     "execution_count": 77,
     "metadata": {},
     "output_type": "execute_result"
    }
   ],
   "source": [
    "smape = smape_func(target_test_rougher_ar, predictions_rougher, target_test_final_ar, predictions_final)\n",
    "\n",
    "smape"
   ]
  },
  {
   "cell_type": "markdown",
   "metadata": {},
   "source": [
    "## Проверка адекватности модели"
   ]
  },
  {
   "cell_type": "markdown",
   "metadata": {},
   "source": [
    "Обучим модель глупого регрессора и получим её предсказания для эффективности обогащения этапа флотации"
   ]
  },
  {
   "cell_type": "code",
   "execution_count": 78,
   "metadata": {},
   "outputs": [],
   "source": [
    "dummy_regr = DummyRegressor(strategy=\"mean\")\n",
    "\n",
    "dummy_regr.fit(features_train_rougher, target_train_rougher)\n",
    "\n",
    "predictions_rougher_dummy = dummy_regr.predict(features_test_rougher)"
   ]
  },
  {
   "cell_type": "markdown",
   "metadata": {},
   "source": [
    "Обучим модель глупого регрессора и получим её предсказания для эффективности обогащения финальной"
   ]
  },
  {
   "cell_type": "code",
   "execution_count": 79,
   "metadata": {},
   "outputs": [],
   "source": [
    "dummy_regr.fit(features_train, target_train_final)\n",
    "\n",
    "predictions_final_dummy = dummy_regr.predict(features_test)"
   ]
  },
  {
   "cell_type": "markdown",
   "metadata": {},
   "source": [
    "Рассчитаем итоговую sMAPE для моделей глупого регрессора "
   ]
  },
  {
   "cell_type": "code",
   "execution_count": 80,
   "metadata": {},
   "outputs": [
    {
     "data": {
      "text/plain": [
       "10.982769383497525"
      ]
     },
     "execution_count": 80,
     "metadata": {},
     "output_type": "execute_result"
    }
   ],
   "source": [
    "smape_dummy = smape_func(target_test_rougher_ar, predictions_rougher_dummy, target_test_final_ar, predictions_final_dummy)\n",
    "\n",
    "smape_dummy"
   ]
  },
  {
   "cell_type": "markdown",
   "metadata": {},
   "source": [
    "## Выводы"
   ]
  },
  {
   "cell_type": "markdown",
   "metadata": {},
   "source": [
    "- Модели случайного леса и линейной регресси на обучающей выборке показали примерно одинаковые результаты\n",
    "- Финальная модель случайного леса на тестовой выборке имеет sMAPE = 11,3%, схожую с моделью глупого регрессора, что говорит о невысоком качестве полученной модели"
   ]
  }
 ],
 "metadata": {
  "kernelspec": {
   "display_name": "Python 3",
   "language": "python",
   "name": "python3"
  },
  "language_info": {
   "codemirror_mode": {
    "name": "ipython",
    "version": 3
   },
   "file_extension": ".py",
   "mimetype": "text/x-python",
   "name": "python",
   "nbconvert_exporter": "python",
   "pygments_lexer": "ipython3",
   "version": "3.8.5"
  },
  "toc": {
   "base_numbering": "0",
   "nav_menu": {},
   "number_sections": true,
   "sideBar": true,
   "skip_h1_title": false,
   "title_cell": "Table of Contents",
   "title_sidebar": "Contents",
   "toc_cell": false,
   "toc_position": {
    "height": "calc(100% - 180px)",
    "left": "10px",
    "top": "150px",
    "width": "289.6px"
   },
   "toc_section_display": true,
   "toc_window_display": true
  }
 },
 "nbformat": 4,
 "nbformat_minor": 2
}
