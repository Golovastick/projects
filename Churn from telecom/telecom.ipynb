{
 "cells": [
  {
   "cell_type": "markdown",
   "metadata": {
    "toc": true
   },
   "source": [
    "<h1>Содержание<span class=\"tocSkip\"></span></h1>\n",
    "<div class=\"toc\"><ul class=\"toc-item\"><li><span><a href=\"#Анализ-данных\" data-toc-modified-id=\"Анализ-данных-1\"><span class=\"toc-item-num\">1&nbsp;&nbsp;</span>Анализ данных</a></span><ul class=\"toc-item\"><li><span><a href=\"#Выводы\" data-toc-modified-id=\"Выводы-1.1\"><span class=\"toc-item-num\">1.1&nbsp;&nbsp;</span>Выводы</a></span></li></ul></li><li><span><a href=\"#Подготовка-данных\" data-toc-modified-id=\"Подготовка-данных-2\"><span class=\"toc-item-num\">2&nbsp;&nbsp;</span>Подготовка данных</a></span></li><li><span><a href=\"#Обучение-и-выбор-лучшей-модели\" data-toc-modified-id=\"Обучение-и-выбор-лучшей-модели-3\"><span class=\"toc-item-num\">3&nbsp;&nbsp;</span>Обучение и выбор лучшей модели</a></span><ul class=\"toc-item\"><li><span><a href=\"#Вывод\" data-toc-modified-id=\"Вывод-3.1\"><span class=\"toc-item-num\">3.1&nbsp;&nbsp;</span>Вывод</a></span></li></ul></li><li><span><a href=\"#Проверка-лучшей-модели-на-тестовой-выборке\" data-toc-modified-id=\"Проверка-лучшей-модели-на-тестовой-выборке-4\"><span class=\"toc-item-num\">4&nbsp;&nbsp;</span>Проверка лучшей модели на тестовой выборке</a></span></li><li><span><a href=\"#Выводы\" data-toc-modified-id=\"Выводы-5\"><span class=\"toc-item-num\">5&nbsp;&nbsp;</span>Выводы</a></span></li></ul></div>"
   ]
  },
  {
   "cell_type": "markdown",
   "metadata": {},
   "source": [
    "# Отток клиентов в телекоме"
   ]
  },
  {
   "cell_type": "markdown",
   "metadata": {},
   "source": [
    "Оператор связи хочет научиться прогнозировать отток клиентов.\n",
    "\n",
    "Оператор предоставляет два основных типа услуг: \n",
    "\n",
    "1. Стационарную телефонную связь. Возможно подключение телефонного аппарата к нескольким линиям одновременно.\n",
    "2. Интернет. Подключение может быть двух типов: через телефонную линию (DSL) или оптоволоконный кабель (*Fiber optic*).  \n",
    "\n",
    "Также доступны такие услуги:\n",
    "\n",
    "- Интернет-безопасность: антивирус (*DeviceProtection*) и блокировка небезопасных сайтов (*OnlineSecurity*);\n",
    "- Выделенная линия технической поддержки (*TechSupport*);\n",
    "- Облачное хранилище файлов для резервного копирования данных (*OnlineBackup*);\n",
    "- Стриминговое телевидение (*StreamingTV*) и каталог фильмов (*StreamingMovies*).\n",
    "\n",
    "За услуги клиенты могут платить каждый месяц или заключить договор на 1–2 года. Доступны различные способы расчёта и возможность получения электронного чека.\n",
    "\n",
    "Требуется спрогнозировать, уйдёт клиент из банка в ближайшее время или нет. Основная метрика построенной модели `AUC-ROC`, дополнительная `Accuracy`.\n",
    "\n",
    "Имеются данные о некоторых клиентах, информация об их тарифах и договорах.\n",
    "\n",
    "Данные состоят из файлов, полученных из разных источников:\n",
    "\n",
    "- `contract.csv` — информация о договоре;\n",
    "- `personal.csv` — персональные данные клиента;\n",
    "- `internet.csv` — информация об интернет-услугах;\n",
    "- `phone.csv` — информация об услугах телефонии.\n",
    "\n",
    "Во всех файлах столбец `customerID` содержит код клиента.\n",
    "\n",
    "Информация о договорах актуальна на 1 февраля 2020."
   ]
  },
  {
   "cell_type": "markdown",
   "metadata": {},
   "source": [
    "## Анализ данных"
   ]
  },
  {
   "cell_type": "markdown",
   "metadata": {},
   "source": [
    "Импортируем необходимые библиотеки и инструменты"
   ]
  },
  {
   "cell_type": "code",
   "execution_count": 1,
   "metadata": {},
   "outputs": [],
   "source": [
    "import pandas as pd\n",
    "import numpy as np\n",
    "import matplotlib.pyplot as plt\n",
    "import seaborn as sns\n",
    "from sklearn.preprocessing import StandardScaler, OrdinalEncoder\n",
    "from sklearn.model_selection import train_test_split, GridSearchCV\n",
    "from sklearn.ensemble import RandomForestClassifier\n",
    "from sklearn.metrics import roc_auc_score, roc_curve, accuracy_score, precision_recall_curve, precision_score, recall_score\n",
    "from lightgbm import LGBMClassifier\n",
    "import datetime\n",
    "from sklearn.metrics import confusion_matrix\n",
    "import warnings\n",
    "warnings.filterwarnings('ignore')"
   ]
  },
  {
   "cell_type": "markdown",
   "metadata": {},
   "source": [
    "Загрузим данные и ознакомимся с ними"
   ]
  },
  {
   "cell_type": "code",
   "execution_count": 2,
   "metadata": {},
   "outputs": [],
   "source": [
    "try:\n",
    "    contract = pd.read_csv('/datasets/final_provider/contract.csv')\n",
    "    personal = pd.read_csv('/datasets/final_provider/personal.csv')\n",
    "    internet = pd.read_csv('/datasets/final_provider/internet.csv')\n",
    "    phone = pd.read_csv('/datasets/final_provider/phone.csv')\n",
    "    \n",
    "except: # для локальной работы\n",
    "    contract = pd.read_csv('contract.csv')\n",
    "    personal = pd.read_csv('personal.csv')\n",
    "    internet = pd.read_csv('internet.csv')\n",
    "    phone = pd.read_csv('phone.csv')"
   ]
  },
  {
   "cell_type": "code",
   "execution_count": 3,
   "metadata": {},
   "outputs": [],
   "source": [
    "datasets = [contract, personal, internet, phone]"
   ]
  },
  {
   "cell_type": "code",
   "execution_count": 4,
   "metadata": {
    "scrolled": false
   },
   "outputs": [
    {
     "name": "stdout",
     "output_type": "stream",
     "text": [
      "\n",
      "Информация о договоре\n"
     ]
    },
    {
     "data": {
      "text/html": [
       "<div>\n",
       "<style scoped>\n",
       "    .dataframe tbody tr th:only-of-type {\n",
       "        vertical-align: middle;\n",
       "    }\n",
       "\n",
       "    .dataframe tbody tr th {\n",
       "        vertical-align: top;\n",
       "    }\n",
       "\n",
       "    .dataframe thead th {\n",
       "        text-align: right;\n",
       "    }\n",
       "</style>\n",
       "<table border=\"1\" class=\"dataframe\">\n",
       "  <thead>\n",
       "    <tr style=\"text-align: right;\">\n",
       "      <th></th>\n",
       "      <th>customerID</th>\n",
       "      <th>BeginDate</th>\n",
       "      <th>EndDate</th>\n",
       "      <th>Type</th>\n",
       "      <th>PaperlessBilling</th>\n",
       "      <th>PaymentMethod</th>\n",
       "      <th>MonthlyCharges</th>\n",
       "      <th>TotalCharges</th>\n",
       "    </tr>\n",
       "  </thead>\n",
       "  <tbody>\n",
       "    <tr>\n",
       "      <td>0</td>\n",
       "      <td>7590-VHVEG</td>\n",
       "      <td>2020-01-01</td>\n",
       "      <td>No</td>\n",
       "      <td>Month-to-month</td>\n",
       "      <td>Yes</td>\n",
       "      <td>Electronic check</td>\n",
       "      <td>29.85</td>\n",
       "      <td>29.85</td>\n",
       "    </tr>\n",
       "    <tr>\n",
       "      <td>1</td>\n",
       "      <td>5575-GNVDE</td>\n",
       "      <td>2017-04-01</td>\n",
       "      <td>No</td>\n",
       "      <td>One year</td>\n",
       "      <td>No</td>\n",
       "      <td>Mailed check</td>\n",
       "      <td>56.95</td>\n",
       "      <td>1889.5</td>\n",
       "    </tr>\n",
       "    <tr>\n",
       "      <td>2</td>\n",
       "      <td>3668-QPYBK</td>\n",
       "      <td>2019-10-01</td>\n",
       "      <td>2019-12-01 00:00:00</td>\n",
       "      <td>Month-to-month</td>\n",
       "      <td>Yes</td>\n",
       "      <td>Mailed check</td>\n",
       "      <td>53.85</td>\n",
       "      <td>108.15</td>\n",
       "    </tr>\n",
       "    <tr>\n",
       "      <td>3</td>\n",
       "      <td>7795-CFOCW</td>\n",
       "      <td>2016-05-01</td>\n",
       "      <td>No</td>\n",
       "      <td>One year</td>\n",
       "      <td>No</td>\n",
       "      <td>Bank transfer (automatic)</td>\n",
       "      <td>42.30</td>\n",
       "      <td>1840.75</td>\n",
       "    </tr>\n",
       "    <tr>\n",
       "      <td>4</td>\n",
       "      <td>9237-HQITU</td>\n",
       "      <td>2019-09-01</td>\n",
       "      <td>2019-11-01 00:00:00</td>\n",
       "      <td>Month-to-month</td>\n",
       "      <td>Yes</td>\n",
       "      <td>Electronic check</td>\n",
       "      <td>70.70</td>\n",
       "      <td>151.65</td>\n",
       "    </tr>\n",
       "  </tbody>\n",
       "</table>\n",
       "</div>"
      ],
      "text/plain": [
       "   customerID   BeginDate              EndDate            Type  \\\n",
       "0  7590-VHVEG  2020-01-01                   No  Month-to-month   \n",
       "1  5575-GNVDE  2017-04-01                   No        One year   \n",
       "2  3668-QPYBK  2019-10-01  2019-12-01 00:00:00  Month-to-month   \n",
       "3  7795-CFOCW  2016-05-01                   No        One year   \n",
       "4  9237-HQITU  2019-09-01  2019-11-01 00:00:00  Month-to-month   \n",
       "\n",
       "  PaperlessBilling              PaymentMethod  MonthlyCharges TotalCharges  \n",
       "0              Yes           Electronic check           29.85        29.85  \n",
       "1               No               Mailed check           56.95       1889.5  \n",
       "2              Yes               Mailed check           53.85       108.15  \n",
       "3               No  Bank transfer (automatic)           42.30      1840.75  \n",
       "4              Yes           Electronic check           70.70       151.65  "
      ]
     },
     "metadata": {},
     "output_type": "display_data"
    },
    {
     "name": "stdout",
     "output_type": "stream",
     "text": [
      "<class 'pandas.core.frame.DataFrame'>\n",
      "RangeIndex: 7043 entries, 0 to 7042\n",
      "Data columns (total 8 columns):\n",
      "customerID          7043 non-null object\n",
      "BeginDate           7043 non-null object\n",
      "EndDate             7043 non-null object\n",
      "Type                7043 non-null object\n",
      "PaperlessBilling    7043 non-null object\n",
      "PaymentMethod       7043 non-null object\n",
      "MonthlyCharges      7043 non-null float64\n",
      "TotalCharges        7043 non-null object\n",
      "dtypes: float64(1), object(7)\n",
      "memory usage: 440.3+ KB\n"
     ]
    },
    {
     "data": {
      "text/plain": [
       "None"
      ]
     },
     "metadata": {},
     "output_type": "display_data"
    },
    {
     "name": "stdout",
     "output_type": "stream",
     "text": [
      "Количество уникальных ID: 7043\n",
      "====================================================================================================\n",
      "\n",
      "\n",
      "Персональные данные клиента\n"
     ]
    },
    {
     "data": {
      "text/html": [
       "<div>\n",
       "<style scoped>\n",
       "    .dataframe tbody tr th:only-of-type {\n",
       "        vertical-align: middle;\n",
       "    }\n",
       "\n",
       "    .dataframe tbody tr th {\n",
       "        vertical-align: top;\n",
       "    }\n",
       "\n",
       "    .dataframe thead th {\n",
       "        text-align: right;\n",
       "    }\n",
       "</style>\n",
       "<table border=\"1\" class=\"dataframe\">\n",
       "  <thead>\n",
       "    <tr style=\"text-align: right;\">\n",
       "      <th></th>\n",
       "      <th>customerID</th>\n",
       "      <th>gender</th>\n",
       "      <th>SeniorCitizen</th>\n",
       "      <th>Partner</th>\n",
       "      <th>Dependents</th>\n",
       "    </tr>\n",
       "  </thead>\n",
       "  <tbody>\n",
       "    <tr>\n",
       "      <td>0</td>\n",
       "      <td>7590-VHVEG</td>\n",
       "      <td>Female</td>\n",
       "      <td>0</td>\n",
       "      <td>Yes</td>\n",
       "      <td>No</td>\n",
       "    </tr>\n",
       "    <tr>\n",
       "      <td>1</td>\n",
       "      <td>5575-GNVDE</td>\n",
       "      <td>Male</td>\n",
       "      <td>0</td>\n",
       "      <td>No</td>\n",
       "      <td>No</td>\n",
       "    </tr>\n",
       "    <tr>\n",
       "      <td>2</td>\n",
       "      <td>3668-QPYBK</td>\n",
       "      <td>Male</td>\n",
       "      <td>0</td>\n",
       "      <td>No</td>\n",
       "      <td>No</td>\n",
       "    </tr>\n",
       "    <tr>\n",
       "      <td>3</td>\n",
       "      <td>7795-CFOCW</td>\n",
       "      <td>Male</td>\n",
       "      <td>0</td>\n",
       "      <td>No</td>\n",
       "      <td>No</td>\n",
       "    </tr>\n",
       "    <tr>\n",
       "      <td>4</td>\n",
       "      <td>9237-HQITU</td>\n",
       "      <td>Female</td>\n",
       "      <td>0</td>\n",
       "      <td>No</td>\n",
       "      <td>No</td>\n",
       "    </tr>\n",
       "  </tbody>\n",
       "</table>\n",
       "</div>"
      ],
      "text/plain": [
       "   customerID  gender  SeniorCitizen Partner Dependents\n",
       "0  7590-VHVEG  Female              0     Yes         No\n",
       "1  5575-GNVDE    Male              0      No         No\n",
       "2  3668-QPYBK    Male              0      No         No\n",
       "3  7795-CFOCW    Male              0      No         No\n",
       "4  9237-HQITU  Female              0      No         No"
      ]
     },
     "metadata": {},
     "output_type": "display_data"
    },
    {
     "name": "stdout",
     "output_type": "stream",
     "text": [
      "<class 'pandas.core.frame.DataFrame'>\n",
      "RangeIndex: 7043 entries, 0 to 7042\n",
      "Data columns (total 5 columns):\n",
      "customerID       7043 non-null object\n",
      "gender           7043 non-null object\n",
      "SeniorCitizen    7043 non-null int64\n",
      "Partner          7043 non-null object\n",
      "Dependents       7043 non-null object\n",
      "dtypes: int64(1), object(4)\n",
      "memory usage: 275.2+ KB\n"
     ]
    },
    {
     "data": {
      "text/plain": [
       "None"
      ]
     },
     "metadata": {},
     "output_type": "display_data"
    },
    {
     "name": "stdout",
     "output_type": "stream",
     "text": [
      "Количество уникальных ID: 7043\n",
      "====================================================================================================\n",
      "\n",
      "\n",
      "Информация об интернет-услугах\n"
     ]
    },
    {
     "data": {
      "text/html": [
       "<div>\n",
       "<style scoped>\n",
       "    .dataframe tbody tr th:only-of-type {\n",
       "        vertical-align: middle;\n",
       "    }\n",
       "\n",
       "    .dataframe tbody tr th {\n",
       "        vertical-align: top;\n",
       "    }\n",
       "\n",
       "    .dataframe thead th {\n",
       "        text-align: right;\n",
       "    }\n",
       "</style>\n",
       "<table border=\"1\" class=\"dataframe\">\n",
       "  <thead>\n",
       "    <tr style=\"text-align: right;\">\n",
       "      <th></th>\n",
       "      <th>customerID</th>\n",
       "      <th>InternetService</th>\n",
       "      <th>OnlineSecurity</th>\n",
       "      <th>OnlineBackup</th>\n",
       "      <th>DeviceProtection</th>\n",
       "      <th>TechSupport</th>\n",
       "      <th>StreamingTV</th>\n",
       "      <th>StreamingMovies</th>\n",
       "    </tr>\n",
       "  </thead>\n",
       "  <tbody>\n",
       "    <tr>\n",
       "      <td>0</td>\n",
       "      <td>7590-VHVEG</td>\n",
       "      <td>DSL</td>\n",
       "      <td>No</td>\n",
       "      <td>Yes</td>\n",
       "      <td>No</td>\n",
       "      <td>No</td>\n",
       "      <td>No</td>\n",
       "      <td>No</td>\n",
       "    </tr>\n",
       "    <tr>\n",
       "      <td>1</td>\n",
       "      <td>5575-GNVDE</td>\n",
       "      <td>DSL</td>\n",
       "      <td>Yes</td>\n",
       "      <td>No</td>\n",
       "      <td>Yes</td>\n",
       "      <td>No</td>\n",
       "      <td>No</td>\n",
       "      <td>No</td>\n",
       "    </tr>\n",
       "    <tr>\n",
       "      <td>2</td>\n",
       "      <td>3668-QPYBK</td>\n",
       "      <td>DSL</td>\n",
       "      <td>Yes</td>\n",
       "      <td>Yes</td>\n",
       "      <td>No</td>\n",
       "      <td>No</td>\n",
       "      <td>No</td>\n",
       "      <td>No</td>\n",
       "    </tr>\n",
       "    <tr>\n",
       "      <td>3</td>\n",
       "      <td>7795-CFOCW</td>\n",
       "      <td>DSL</td>\n",
       "      <td>Yes</td>\n",
       "      <td>No</td>\n",
       "      <td>Yes</td>\n",
       "      <td>Yes</td>\n",
       "      <td>No</td>\n",
       "      <td>No</td>\n",
       "    </tr>\n",
       "    <tr>\n",
       "      <td>4</td>\n",
       "      <td>9237-HQITU</td>\n",
       "      <td>Fiber optic</td>\n",
       "      <td>No</td>\n",
       "      <td>No</td>\n",
       "      <td>No</td>\n",
       "      <td>No</td>\n",
       "      <td>No</td>\n",
       "      <td>No</td>\n",
       "    </tr>\n",
       "  </tbody>\n",
       "</table>\n",
       "</div>"
      ],
      "text/plain": [
       "   customerID InternetService OnlineSecurity OnlineBackup DeviceProtection  \\\n",
       "0  7590-VHVEG             DSL             No          Yes               No   \n",
       "1  5575-GNVDE             DSL            Yes           No              Yes   \n",
       "2  3668-QPYBK             DSL            Yes          Yes               No   \n",
       "3  7795-CFOCW             DSL            Yes           No              Yes   \n",
       "4  9237-HQITU     Fiber optic             No           No               No   \n",
       "\n",
       "  TechSupport StreamingTV StreamingMovies  \n",
       "0          No          No              No  \n",
       "1          No          No              No  \n",
       "2          No          No              No  \n",
       "3         Yes          No              No  \n",
       "4          No          No              No  "
      ]
     },
     "metadata": {},
     "output_type": "display_data"
    },
    {
     "name": "stdout",
     "output_type": "stream",
     "text": [
      "<class 'pandas.core.frame.DataFrame'>\n",
      "RangeIndex: 5517 entries, 0 to 5516\n",
      "Data columns (total 8 columns):\n",
      "customerID          5517 non-null object\n",
      "InternetService     5517 non-null object\n",
      "OnlineSecurity      5517 non-null object\n",
      "OnlineBackup        5517 non-null object\n",
      "DeviceProtection    5517 non-null object\n",
      "TechSupport         5517 non-null object\n",
      "StreamingTV         5517 non-null object\n",
      "StreamingMovies     5517 non-null object\n",
      "dtypes: object(8)\n",
      "memory usage: 344.9+ KB\n"
     ]
    },
    {
     "data": {
      "text/plain": [
       "None"
      ]
     },
     "metadata": {},
     "output_type": "display_data"
    },
    {
     "name": "stdout",
     "output_type": "stream",
     "text": [
      "Количество уникальных ID: 5517\n",
      "====================================================================================================\n",
      "\n",
      "\n",
      "Информация об услугах телефонии\n"
     ]
    },
    {
     "data": {
      "text/html": [
       "<div>\n",
       "<style scoped>\n",
       "    .dataframe tbody tr th:only-of-type {\n",
       "        vertical-align: middle;\n",
       "    }\n",
       "\n",
       "    .dataframe tbody tr th {\n",
       "        vertical-align: top;\n",
       "    }\n",
       "\n",
       "    .dataframe thead th {\n",
       "        text-align: right;\n",
       "    }\n",
       "</style>\n",
       "<table border=\"1\" class=\"dataframe\">\n",
       "  <thead>\n",
       "    <tr style=\"text-align: right;\">\n",
       "      <th></th>\n",
       "      <th>customerID</th>\n",
       "      <th>MultipleLines</th>\n",
       "    </tr>\n",
       "  </thead>\n",
       "  <tbody>\n",
       "    <tr>\n",
       "      <td>0</td>\n",
       "      <td>5575-GNVDE</td>\n",
       "      <td>No</td>\n",
       "    </tr>\n",
       "    <tr>\n",
       "      <td>1</td>\n",
       "      <td>3668-QPYBK</td>\n",
       "      <td>No</td>\n",
       "    </tr>\n",
       "    <tr>\n",
       "      <td>2</td>\n",
       "      <td>9237-HQITU</td>\n",
       "      <td>No</td>\n",
       "    </tr>\n",
       "    <tr>\n",
       "      <td>3</td>\n",
       "      <td>9305-CDSKC</td>\n",
       "      <td>Yes</td>\n",
       "    </tr>\n",
       "    <tr>\n",
       "      <td>4</td>\n",
       "      <td>1452-KIOVK</td>\n",
       "      <td>Yes</td>\n",
       "    </tr>\n",
       "  </tbody>\n",
       "</table>\n",
       "</div>"
      ],
      "text/plain": [
       "   customerID MultipleLines\n",
       "0  5575-GNVDE            No\n",
       "1  3668-QPYBK            No\n",
       "2  9237-HQITU            No\n",
       "3  9305-CDSKC           Yes\n",
       "4  1452-KIOVK           Yes"
      ]
     },
     "metadata": {},
     "output_type": "display_data"
    },
    {
     "name": "stdout",
     "output_type": "stream",
     "text": [
      "<class 'pandas.core.frame.DataFrame'>\n",
      "RangeIndex: 6361 entries, 0 to 6360\n",
      "Data columns (total 2 columns):\n",
      "customerID       6361 non-null object\n",
      "MultipleLines    6361 non-null object\n",
      "dtypes: object(2)\n",
      "memory usage: 99.5+ KB\n"
     ]
    },
    {
     "data": {
      "text/plain": [
       "None"
      ]
     },
     "metadata": {},
     "output_type": "display_data"
    },
    {
     "name": "stdout",
     "output_type": "stream",
     "text": [
      "Количество уникальных ID: 6361\n",
      "====================================================================================================\n",
      "\n"
     ]
    }
   ],
   "source": [
    "i = 0\n",
    "\n",
    "names = ['Информация о договоре', 'Персональные данные клиента', 'Информация об интернет-услугах', 'Информация об услугах телефонии']\n",
    "\n",
    "for data in datasets:\n",
    "    \n",
    "    print()\n",
    "    \n",
    "    print(names[i])\n",
    "    \n",
    "    display(data.head())\n",
    "    \n",
    "    display(data.info())\n",
    "    \n",
    "    print('Количество уникальных ID:', len(data['customerID'].unique()))\n",
    "    \n",
    "    print('='*100)\n",
    "    \n",
    "    print()\n",
    "    \n",
    "    i += 1"
   ]
  },
  {
   "cell_type": "markdown",
   "metadata": {},
   "source": [
    "- В таблицах отсутствуют пропуски.\n",
    "- В каждой таблице нет повторяющихся ID.\n",
    "- В таблице `contract` надо изменить тип данных в столбцах `BeginDate` и `EndDate` на формат даты, а в стобце `TotalCharges` на вещественный тип данных.\n",
    "- В таблице `personal` надо изменить тип данных в столбце `SeniorCitizen` на формат `object`для единообразия с остальными стобцами."
   ]
  },
  {
   "cell_type": "markdown",
   "metadata": {},
   "source": [
    "Создадим функцию, устанавливающую столбец `customerID` в качестве индекса выборки."
   ]
  },
  {
   "cell_type": "code",
   "execution_count": 5,
   "metadata": {},
   "outputs": [],
   "source": [
    "def set_index_date(data):\n",
    "    \n",
    "    ''' Функция для установки индекса выборки '''\n",
    "    \n",
    "    data = data.set_index('customerID', inplace=True)"
   ]
  },
  {
   "cell_type": "markdown",
   "metadata": {},
   "source": [
    "Применим функцию ко всем выборкам."
   ]
  },
  {
   "cell_type": "code",
   "execution_count": 6,
   "metadata": {},
   "outputs": [],
   "source": [
    "set_index_date(contract)\n",
    "\n",
    "set_index_date(personal)\n",
    "\n",
    "set_index_date(internet)\n",
    "\n",
    "set_index_date(phone)"
   ]
  },
  {
   "cell_type": "markdown",
   "metadata": {},
   "source": [
    "Добавим новый столбец данных `Exited` в таблицу `contract`, содержащий информацию о том, что клиент покинул оператора. Также значение `No` в столбце `EndDate` заменим на `2020-02-01 00:00:00` для того, чтобы в дальнейшем вычислить срок длительности договора."
   ]
  },
  {
   "cell_type": "code",
   "execution_count": 7,
   "metadata": {},
   "outputs": [],
   "source": [
    "for i in contract.index:\n",
    "    \n",
    "    if contract.loc[i, 'EndDate'] == 'No':\n",
    "        contract.loc[i, 'EndDate'] = '2020-02-01 00:00:00'\n",
    "        contract.loc[i, 'Exited'] = 0\n",
    "        \n",
    "    else:\n",
    "        contract.loc[i, 'Exited'] = 1\n",
    "        \n",
    "contract['Exited'] = contract['Exited'].astype('int') # переводим в целочисленный формат"
   ]
  },
  {
   "cell_type": "markdown",
   "metadata": {},
   "source": [
    "Изменим тип данных в столбцах `BeginDate` и `EndDate` на формат даты."
   ]
  },
  {
   "cell_type": "code",
   "execution_count": 8,
   "metadata": {},
   "outputs": [],
   "source": [
    "contract['BeginDate'] = pd.to_datetime(contract['BeginDate'], format='%Y-%m-%d')\n",
    "\n",
    "contract['EndDate'] = pd.to_datetime(contract['EndDate'], format='%Y-%m-%d %H:%M:%S').dt.round('1D') # дополнительно уберём лишнюю информацию"
   ]
  },
  {
   "cell_type": "markdown",
   "metadata": {},
   "source": [
    "Изменим тип данных в столбце `TotalCharges` на вещественный формат."
   ]
  },
  {
   "cell_type": "code",
   "execution_count": 9,
   "metadata": {},
   "outputs": [],
   "source": [
    "contract['TotalCharges'] = pd.to_numeric(contract['TotalCharges'], errors='coerce') "
   ]
  },
  {
   "cell_type": "code",
   "execution_count": 10,
   "metadata": {},
   "outputs": [
    {
     "name": "stdout",
     "output_type": "stream",
     "text": [
      "<class 'pandas.core.frame.DataFrame'>\n",
      "Index: 7043 entries, 7590-VHVEG to 3186-AJIEK\n",
      "Data columns (total 8 columns):\n",
      "BeginDate           7043 non-null datetime64[ns]\n",
      "EndDate             7043 non-null datetime64[ns]\n",
      "Type                7043 non-null object\n",
      "PaperlessBilling    7043 non-null object\n",
      "PaymentMethod       7043 non-null object\n",
      "MonthlyCharges      7043 non-null float64\n",
      "TotalCharges        7032 non-null float64\n",
      "Exited              7043 non-null int64\n",
      "dtypes: datetime64[ns](2), float64(2), int64(1), object(3)\n",
      "memory usage: 815.2+ KB\n"
     ]
    }
   ],
   "source": [
    "contract.info()"
   ]
  },
  {
   "cell_type": "markdown",
   "metadata": {},
   "source": [
    "В столбце `TotalCharges` появились пропуски. Посмотрим на строки с пропусками."
   ]
  },
  {
   "cell_type": "code",
   "execution_count": 11,
   "metadata": {},
   "outputs": [
    {
     "data": {
      "text/html": [
       "<div>\n",
       "<style scoped>\n",
       "    .dataframe tbody tr th:only-of-type {\n",
       "        vertical-align: middle;\n",
       "    }\n",
       "\n",
       "    .dataframe tbody tr th {\n",
       "        vertical-align: top;\n",
       "    }\n",
       "\n",
       "    .dataframe thead th {\n",
       "        text-align: right;\n",
       "    }\n",
       "</style>\n",
       "<table border=\"1\" class=\"dataframe\">\n",
       "  <thead>\n",
       "    <tr style=\"text-align: right;\">\n",
       "      <th></th>\n",
       "      <th>BeginDate</th>\n",
       "      <th>EndDate</th>\n",
       "      <th>Type</th>\n",
       "      <th>PaperlessBilling</th>\n",
       "      <th>PaymentMethod</th>\n",
       "      <th>MonthlyCharges</th>\n",
       "      <th>TotalCharges</th>\n",
       "      <th>Exited</th>\n",
       "    </tr>\n",
       "    <tr>\n",
       "      <th>customerID</th>\n",
       "      <th></th>\n",
       "      <th></th>\n",
       "      <th></th>\n",
       "      <th></th>\n",
       "      <th></th>\n",
       "      <th></th>\n",
       "      <th></th>\n",
       "      <th></th>\n",
       "    </tr>\n",
       "  </thead>\n",
       "  <tbody>\n",
       "    <tr>\n",
       "      <td>4472-LVYGI</td>\n",
       "      <td>2020-02-01</td>\n",
       "      <td>2020-02-01</td>\n",
       "      <td>Two year</td>\n",
       "      <td>Yes</td>\n",
       "      <td>Bank transfer (automatic)</td>\n",
       "      <td>52.55</td>\n",
       "      <td>NaN</td>\n",
       "      <td>0</td>\n",
       "    </tr>\n",
       "    <tr>\n",
       "      <td>3115-CZMZD</td>\n",
       "      <td>2020-02-01</td>\n",
       "      <td>2020-02-01</td>\n",
       "      <td>Two year</td>\n",
       "      <td>No</td>\n",
       "      <td>Mailed check</td>\n",
       "      <td>20.25</td>\n",
       "      <td>NaN</td>\n",
       "      <td>0</td>\n",
       "    </tr>\n",
       "    <tr>\n",
       "      <td>5709-LVOEQ</td>\n",
       "      <td>2020-02-01</td>\n",
       "      <td>2020-02-01</td>\n",
       "      <td>Two year</td>\n",
       "      <td>No</td>\n",
       "      <td>Mailed check</td>\n",
       "      <td>80.85</td>\n",
       "      <td>NaN</td>\n",
       "      <td>0</td>\n",
       "    </tr>\n",
       "    <tr>\n",
       "      <td>4367-NUYAO</td>\n",
       "      <td>2020-02-01</td>\n",
       "      <td>2020-02-01</td>\n",
       "      <td>Two year</td>\n",
       "      <td>No</td>\n",
       "      <td>Mailed check</td>\n",
       "      <td>25.75</td>\n",
       "      <td>NaN</td>\n",
       "      <td>0</td>\n",
       "    </tr>\n",
       "    <tr>\n",
       "      <td>1371-DWPAZ</td>\n",
       "      <td>2020-02-01</td>\n",
       "      <td>2020-02-01</td>\n",
       "      <td>Two year</td>\n",
       "      <td>No</td>\n",
       "      <td>Credit card (automatic)</td>\n",
       "      <td>56.05</td>\n",
       "      <td>NaN</td>\n",
       "      <td>0</td>\n",
       "    </tr>\n",
       "    <tr>\n",
       "      <td>7644-OMVMY</td>\n",
       "      <td>2020-02-01</td>\n",
       "      <td>2020-02-01</td>\n",
       "      <td>Two year</td>\n",
       "      <td>No</td>\n",
       "      <td>Mailed check</td>\n",
       "      <td>19.85</td>\n",
       "      <td>NaN</td>\n",
       "      <td>0</td>\n",
       "    </tr>\n",
       "    <tr>\n",
       "      <td>3213-VVOLG</td>\n",
       "      <td>2020-02-01</td>\n",
       "      <td>2020-02-01</td>\n",
       "      <td>Two year</td>\n",
       "      <td>No</td>\n",
       "      <td>Mailed check</td>\n",
       "      <td>25.35</td>\n",
       "      <td>NaN</td>\n",
       "      <td>0</td>\n",
       "    </tr>\n",
       "    <tr>\n",
       "      <td>2520-SGTTA</td>\n",
       "      <td>2020-02-01</td>\n",
       "      <td>2020-02-01</td>\n",
       "      <td>Two year</td>\n",
       "      <td>No</td>\n",
       "      <td>Mailed check</td>\n",
       "      <td>20.00</td>\n",
       "      <td>NaN</td>\n",
       "      <td>0</td>\n",
       "    </tr>\n",
       "    <tr>\n",
       "      <td>2923-ARZLG</td>\n",
       "      <td>2020-02-01</td>\n",
       "      <td>2020-02-01</td>\n",
       "      <td>One year</td>\n",
       "      <td>Yes</td>\n",
       "      <td>Mailed check</td>\n",
       "      <td>19.70</td>\n",
       "      <td>NaN</td>\n",
       "      <td>0</td>\n",
       "    </tr>\n",
       "    <tr>\n",
       "      <td>4075-WKNIU</td>\n",
       "      <td>2020-02-01</td>\n",
       "      <td>2020-02-01</td>\n",
       "      <td>Two year</td>\n",
       "      <td>No</td>\n",
       "      <td>Mailed check</td>\n",
       "      <td>73.35</td>\n",
       "      <td>NaN</td>\n",
       "      <td>0</td>\n",
       "    </tr>\n",
       "    <tr>\n",
       "      <td>2775-SEFEE</td>\n",
       "      <td>2020-02-01</td>\n",
       "      <td>2020-02-01</td>\n",
       "      <td>Two year</td>\n",
       "      <td>Yes</td>\n",
       "      <td>Bank transfer (automatic)</td>\n",
       "      <td>61.90</td>\n",
       "      <td>NaN</td>\n",
       "      <td>0</td>\n",
       "    </tr>\n",
       "  </tbody>\n",
       "</table>\n",
       "</div>"
      ],
      "text/plain": [
       "            BeginDate    EndDate      Type PaperlessBilling  \\\n",
       "customerID                                                    \n",
       "4472-LVYGI 2020-02-01 2020-02-01  Two year              Yes   \n",
       "3115-CZMZD 2020-02-01 2020-02-01  Two year               No   \n",
       "5709-LVOEQ 2020-02-01 2020-02-01  Two year               No   \n",
       "4367-NUYAO 2020-02-01 2020-02-01  Two year               No   \n",
       "1371-DWPAZ 2020-02-01 2020-02-01  Two year               No   \n",
       "7644-OMVMY 2020-02-01 2020-02-01  Two year               No   \n",
       "3213-VVOLG 2020-02-01 2020-02-01  Two year               No   \n",
       "2520-SGTTA 2020-02-01 2020-02-01  Two year               No   \n",
       "2923-ARZLG 2020-02-01 2020-02-01  One year              Yes   \n",
       "4075-WKNIU 2020-02-01 2020-02-01  Two year               No   \n",
       "2775-SEFEE 2020-02-01 2020-02-01  Two year              Yes   \n",
       "\n",
       "                        PaymentMethod  MonthlyCharges  TotalCharges  Exited  \n",
       "customerID                                                                   \n",
       "4472-LVYGI  Bank transfer (automatic)           52.55           NaN       0  \n",
       "3115-CZMZD               Mailed check           20.25           NaN       0  \n",
       "5709-LVOEQ               Mailed check           80.85           NaN       0  \n",
       "4367-NUYAO               Mailed check           25.75           NaN       0  \n",
       "1371-DWPAZ    Credit card (automatic)           56.05           NaN       0  \n",
       "7644-OMVMY               Mailed check           19.85           NaN       0  \n",
       "3213-VVOLG               Mailed check           25.35           NaN       0  \n",
       "2520-SGTTA               Mailed check           20.00           NaN       0  \n",
       "2923-ARZLG               Mailed check           19.70           NaN       0  \n",
       "4075-WKNIU               Mailed check           73.35           NaN       0  \n",
       "2775-SEFEE  Bank transfer (automatic)           61.90           NaN       0  "
      ]
     },
     "execution_count": 11,
     "metadata": {},
     "output_type": "execute_result"
    }
   ],
   "source": [
    "contract[contract['TotalCharges'] != contract['TotalCharges']]"
   ]
  },
  {
   "cell_type": "markdown",
   "metadata": {},
   "source": [
    "Пропуски обусловлены тем, что все эти клиенты новые. Удалим информацию о таких клиентах из таблицы, т.к. информацию о таких клиентах нецелесообразно использовать в дальнейшем."
   ]
  },
  {
   "cell_type": "code",
   "execution_count": 12,
   "metadata": {},
   "outputs": [],
   "source": [
    "contract = contract.dropna(subset = ['TotalCharges'])"
   ]
  },
  {
   "cell_type": "markdown",
   "metadata": {},
   "source": [
    "Изменим в таблице `personal` тип данных в столбце `SeniorCitizen` на формат `object`."
   ]
  },
  {
   "cell_type": "code",
   "execution_count": 13,
   "metadata": {},
   "outputs": [],
   "source": [
    "personal['SeniorCitizen'] = personal['SeniorCitizen'].astype('object')"
   ]
  },
  {
   "cell_type": "markdown",
   "metadata": {},
   "source": [
    "Создадим новую таблицу `customers`, в которую соберём информацию со всех имеющихся таблиц."
   ]
  },
  {
   "cell_type": "code",
   "execution_count": 14,
   "metadata": {},
   "outputs": [],
   "source": [
    "customers = contract[['Exited', 'Type', 'PaperlessBilling', 'PaymentMethod', 'MonthlyCharges', 'TotalCharges']]"
   ]
  },
  {
   "cell_type": "markdown",
   "metadata": {},
   "source": [
    "Создадим в таблице `customers` столбец `ContractDays`, содержащий информацию о длительности контракта с клиентом."
   ]
  },
  {
   "cell_type": "code",
   "execution_count": 15,
   "metadata": {},
   "outputs": [],
   "source": [
    "customers['ContractDays'] = contract['EndDate'] - contract['BeginDate']\n",
    "\n",
    "customers['ContractDays'] = (customers['ContractDays'] / np.timedelta64(1,'D')).astype(int) # переводим в целочисленный формат"
   ]
  },
  {
   "cell_type": "markdown",
   "metadata": {},
   "source": [
    "Убедимся, что минимальная длительность контракта составляет хотя бы один месяц."
   ]
  },
  {
   "cell_type": "code",
   "execution_count": 16,
   "metadata": {},
   "outputs": [
    {
     "data": {
      "text/plain": [
       "30"
      ]
     },
     "execution_count": 16,
     "metadata": {},
     "output_type": "execute_result"
    }
   ],
   "source": [
    "customers['ContractDays'].min()"
   ]
  },
  {
   "cell_type": "markdown",
   "metadata": {},
   "source": [
    "Добавим данные из таблиц `personal`, `internet` и `phone`."
   ]
  },
  {
   "cell_type": "code",
   "execution_count": 17,
   "metadata": {},
   "outputs": [],
   "source": [
    "customers = customers.join(personal)\n",
    "\n",
    "customers = customers.join(internet)\n",
    "\n",
    "customers = customers.join(phone)"
   ]
  },
  {
   "cell_type": "code",
   "execution_count": 18,
   "metadata": {},
   "outputs": [
    {
     "name": "stdout",
     "output_type": "stream",
     "text": [
      "<class 'pandas.core.frame.DataFrame'>\n",
      "Index: 7032 entries, 7590-VHVEG to 3186-AJIEK\n",
      "Data columns (total 19 columns):\n",
      "Exited              7032 non-null int64\n",
      "Type                7032 non-null object\n",
      "PaperlessBilling    7032 non-null object\n",
      "PaymentMethod       7032 non-null object\n",
      "MonthlyCharges      7032 non-null float64\n",
      "TotalCharges        7032 non-null float64\n",
      "ContractDays        7032 non-null int64\n",
      "gender              7032 non-null object\n",
      "SeniorCitizen       7032 non-null object\n",
      "Partner             7032 non-null object\n",
      "Dependents          7032 non-null object\n",
      "InternetService     5512 non-null object\n",
      "OnlineSecurity      5512 non-null object\n",
      "OnlineBackup        5512 non-null object\n",
      "DeviceProtection    5512 non-null object\n",
      "TechSupport         5512 non-null object\n",
      "StreamingTV         5512 non-null object\n",
      "StreamingMovies     5512 non-null object\n",
      "MultipleLines       6352 non-null object\n",
      "dtypes: float64(2), int64(2), object(15)\n",
      "memory usage: 1.4+ MB\n"
     ]
    }
   ],
   "source": [
    "customers.info()"
   ]
  },
  {
   "cell_type": "markdown",
   "metadata": {},
   "source": [
    "Получившиеся пропуски в таблице объясняются тем, что часть клиентов использует только одну из двух основных услуг оператора. Заполним все пропуски значением `None`."
   ]
  },
  {
   "cell_type": "code",
   "execution_count": 19,
   "metadata": {},
   "outputs": [],
   "source": [
    "# Находим все столбцы с пропусками\n",
    "\n",
    "names = customers.columns.tolist()\n",
    "\n",
    "names_nan = []\n",
    "\n",
    "for name in names:\n",
    "    if customers[name].isnull().sum() != 0:\n",
    "        names_nan.append(name)"
   ]
  },
  {
   "cell_type": "code",
   "execution_count": 20,
   "metadata": {},
   "outputs": [],
   "source": [
    "# Заполняем пропуски\n",
    "\n",
    "for name in names_nan:\n",
    "    \n",
    "    customers[name] = customers[name].fillna('None')"
   ]
  },
  {
   "cell_type": "code",
   "execution_count": 21,
   "metadata": {},
   "outputs": [
    {
     "name": "stdout",
     "output_type": "stream",
     "text": [
      "<class 'pandas.core.frame.DataFrame'>\n",
      "Index: 7032 entries, 7590-VHVEG to 3186-AJIEK\n",
      "Data columns (total 19 columns):\n",
      "Exited              7032 non-null int64\n",
      "Type                7032 non-null object\n",
      "PaperlessBilling    7032 non-null object\n",
      "PaymentMethod       7032 non-null object\n",
      "MonthlyCharges      7032 non-null float64\n",
      "TotalCharges        7032 non-null float64\n",
      "ContractDays        7032 non-null int64\n",
      "gender              7032 non-null object\n",
      "SeniorCitizen       7032 non-null object\n",
      "Partner             7032 non-null object\n",
      "Dependents          7032 non-null object\n",
      "InternetService     7032 non-null object\n",
      "OnlineSecurity      7032 non-null object\n",
      "OnlineBackup        7032 non-null object\n",
      "DeviceProtection    7032 non-null object\n",
      "TechSupport         7032 non-null object\n",
      "StreamingTV         7032 non-null object\n",
      "StreamingMovies     7032 non-null object\n",
      "MultipleLines       7032 non-null object\n",
      "dtypes: float64(2), int64(2), object(15)\n",
      "memory usage: 1.4+ MB\n"
     ]
    }
   ],
   "source": [
    "customers.info()"
   ]
  },
  {
   "cell_type": "markdown",
   "metadata": {},
   "source": [
    "Проанализируем наши данные."
   ]
  },
  {
   "cell_type": "markdown",
   "metadata": {},
   "source": [
    "Проверим корректность дат контрактов."
   ]
  },
  {
   "cell_type": "code",
   "execution_count": 22,
   "metadata": {},
   "outputs": [
    {
     "data": {
      "text/html": [
       "<div>\n",
       "<style scoped>\n",
       "    .dataframe tbody tr th:only-of-type {\n",
       "        vertical-align: middle;\n",
       "    }\n",
       "\n",
       "    .dataframe tbody tr th {\n",
       "        vertical-align: top;\n",
       "    }\n",
       "\n",
       "    .dataframe thead th {\n",
       "        text-align: right;\n",
       "    }\n",
       "</style>\n",
       "<table border=\"1\" class=\"dataframe\">\n",
       "  <thead>\n",
       "    <tr style=\"text-align: right;\">\n",
       "      <th></th>\n",
       "      <th>BeginDate</th>\n",
       "      <th>EndDate</th>\n",
       "    </tr>\n",
       "  </thead>\n",
       "  <tbody>\n",
       "    <tr>\n",
       "      <td>count</td>\n",
       "      <td>7032</td>\n",
       "      <td>7032</td>\n",
       "    </tr>\n",
       "    <tr>\n",
       "      <td>unique</td>\n",
       "      <td>76</td>\n",
       "      <td>5</td>\n",
       "    </tr>\n",
       "    <tr>\n",
       "      <td>top</td>\n",
       "      <td>2014-02-01 00:00:00</td>\n",
       "      <td>2020-02-01 00:00:00</td>\n",
       "    </tr>\n",
       "    <tr>\n",
       "      <td>freq</td>\n",
       "      <td>366</td>\n",
       "      <td>5163</td>\n",
       "    </tr>\n",
       "    <tr>\n",
       "      <td>first</td>\n",
       "      <td>2013-10-01 00:00:00</td>\n",
       "      <td>2019-10-01 00:00:00</td>\n",
       "    </tr>\n",
       "    <tr>\n",
       "      <td>last</td>\n",
       "      <td>2020-01-01 00:00:00</td>\n",
       "      <td>2020-02-01 00:00:00</td>\n",
       "    </tr>\n",
       "  </tbody>\n",
       "</table>\n",
       "</div>"
      ],
      "text/plain": [
       "                  BeginDate              EndDate\n",
       "count                  7032                 7032\n",
       "unique                   76                    5\n",
       "top     2014-02-01 00:00:00  2020-02-01 00:00:00\n",
       "freq                    366                 5163\n",
       "first   2013-10-01 00:00:00  2019-10-01 00:00:00\n",
       "last    2020-01-01 00:00:00  2020-02-01 00:00:00"
      ]
     },
     "execution_count": 22,
     "metadata": {},
     "output_type": "execute_result"
    }
   ],
   "source": [
    "contract[['BeginDate', 'EndDate']].describe()"
   ]
  },
  {
   "cell_type": "markdown",
   "metadata": {},
   "source": [
    "Странных дат в данных нет."
   ]
  },
  {
   "cell_type": "markdown",
   "metadata": {},
   "source": [
    "Узнаем долю ушедших клиентов."
   ]
  },
  {
   "cell_type": "code",
   "execution_count": 23,
   "metadata": {},
   "outputs": [
    {
     "data": {
      "text/plain": [
       "0.26578498293515357"
      ]
     },
     "execution_count": 23,
     "metadata": {},
     "output_type": "execute_result"
    }
   ],
   "source": [
    "customers['Exited'].mean()"
   ]
  },
  {
   "cell_type": "markdown",
   "metadata": {},
   "source": [
    "Проверим насколько коррелируют данные друг с другом."
   ]
  },
  {
   "cell_type": "code",
   "execution_count": 24,
   "metadata": {},
   "outputs": [
    {
     "data": {
      "text/html": [
       "<div>\n",
       "<style scoped>\n",
       "    .dataframe tbody tr th:only-of-type {\n",
       "        vertical-align: middle;\n",
       "    }\n",
       "\n",
       "    .dataframe tbody tr th {\n",
       "        vertical-align: top;\n",
       "    }\n",
       "\n",
       "    .dataframe thead th {\n",
       "        text-align: right;\n",
       "    }\n",
       "</style>\n",
       "<table border=\"1\" class=\"dataframe\">\n",
       "  <thead>\n",
       "    <tr style=\"text-align: right;\">\n",
       "      <th></th>\n",
       "      <th>Exited</th>\n",
       "      <th>MonthlyCharges</th>\n",
       "      <th>TotalCharges</th>\n",
       "      <th>ContractDays</th>\n",
       "    </tr>\n",
       "  </thead>\n",
       "  <tbody>\n",
       "    <tr>\n",
       "      <td>Exited</td>\n",
       "      <td>1.000000</td>\n",
       "      <td>0.192858</td>\n",
       "      <td>-0.199484</td>\n",
       "      <td>-0.354496</td>\n",
       "    </tr>\n",
       "    <tr>\n",
       "      <td>MonthlyCharges</td>\n",
       "      <td>0.192858</td>\n",
       "      <td>1.000000</td>\n",
       "      <td>0.651065</td>\n",
       "      <td>0.246715</td>\n",
       "    </tr>\n",
       "    <tr>\n",
       "      <td>TotalCharges</td>\n",
       "      <td>-0.199484</td>\n",
       "      <td>0.651065</td>\n",
       "      <td>1.000000</td>\n",
       "      <td>0.825811</td>\n",
       "    </tr>\n",
       "    <tr>\n",
       "      <td>ContractDays</td>\n",
       "      <td>-0.354496</td>\n",
       "      <td>0.246715</td>\n",
       "      <td>0.825811</td>\n",
       "      <td>1.000000</td>\n",
       "    </tr>\n",
       "  </tbody>\n",
       "</table>\n",
       "</div>"
      ],
      "text/plain": [
       "                  Exited  MonthlyCharges  TotalCharges  ContractDays\n",
       "Exited          1.000000        0.192858     -0.199484     -0.354496\n",
       "MonthlyCharges  0.192858        1.000000      0.651065      0.246715\n",
       "TotalCharges   -0.199484        0.651065      1.000000      0.825811\n",
       "ContractDays   -0.354496        0.246715      0.825811      1.000000"
      ]
     },
     "execution_count": 24,
     "metadata": {},
     "output_type": "execute_result"
    }
   ],
   "source": [
    "customers.corr()"
   ]
  },
  {
   "cell_type": "markdown",
   "metadata": {},
   "source": [
    "Столбец `TotalCharges` коррелирует со столбцами `MonthlyCharges` и `ContractDays`, что логично. Поэтому его не будем использовать для построения модели."
   ]
  },
  {
   "cell_type": "markdown",
   "metadata": {},
   "source": [
    "Создадим функцию для построения \"ящика с усами\"."
   ]
  },
  {
   "cell_type": "code",
   "execution_count": 25,
   "metadata": {},
   "outputs": [],
   "source": [
    "def plot_boxplot(data, title, whis):\n",
    "    \n",
    "    ''' Функция для построения ящика с усами '''\n",
    "\n",
    "    plt.figure(figsize=(15,5))\n",
    "\n",
    "    plt.title(title, fontsize=18)\n",
    "\n",
    "    sns.boxplot(data=data, orient='h', whis=whis)"
   ]
  },
  {
   "cell_type": "markdown",
   "metadata": {},
   "source": [
    "Создадим функцию для построения гистограммы."
   ]
  },
  {
   "cell_type": "code",
   "execution_count": 26,
   "metadata": {},
   "outputs": [],
   "source": [
    "def plot_histplot(data, title, xlabel, bins, min, max):\n",
    "    \n",
    "    ''' Функция для построения гистограммы '''\n",
    "\n",
    "    plt.figure(figsize=(15,5))\n",
    "\n",
    "    plt.title(title, fontsize=18)\n",
    "    \n",
    "    plt.ylabel('Количество, шт.', fontsize=18)\n",
    "    \n",
    "    plt.xlabel(xlabel, fontsize=18)\n",
    "\n",
    "    data.hist(bins=bins, range = (min, max), figsize = (15, 5))"
   ]
  },
  {
   "cell_type": "markdown",
   "metadata": {},
   "source": [
    "Построим \"ящик с усами\" для ежемесячной оплаты, при этом усы зададим равными 3IQR (соответствует очень грубым выбросам)."
   ]
  },
  {
   "cell_type": "code",
   "execution_count": 27,
   "metadata": {},
   "outputs": [
    {
     "data": {
      "image/png": "[encoded data removed]",
      "text/plain": [
       "<Figure size 1080x360 with 1 Axes>"
      ]
     },
     "metadata": {
      "needs_background": "light"
     },
     "output_type": "display_data"
    }
   ],
   "source": [
    "plot_boxplot(customers['MonthlyCharges'], 'Ежемесячная оплата, у.е.', 3)"
   ]
  },
  {
   "cell_type": "markdown",
   "metadata": {},
   "source": [
    "Видим, что грубых выбросов нет."
   ]
  },
  {
   "cell_type": "markdown",
   "metadata": {},
   "source": [
    "Построим гистограмму для ежемесячной оплаты."
   ]
  },
  {
   "cell_type": "code",
   "execution_count": 28,
   "metadata": {},
   "outputs": [
    {
     "data": {
      "image/png": "[encoded data removed]",
      "text/plain": [
       "<Figure size 1080x360 with 1 Axes>"
      ]
     },
     "metadata": {
      "needs_background": "light"
     },
     "output_type": "display_data"
    }
   ],
   "source": [
    "plot_histplot(customers['MonthlyCharges'], 'Распределение ежемесячной оплаты', 'Ежемесячная оплата, у.е.', 24, 0, 120)"
   ]
  },
  {
   "cell_type": "markdown",
   "metadata": {},
   "source": [
    "Большинство клиентов платят в диапазоне 15-25 у.е. в месяц."
   ]
  },
  {
   "cell_type": "markdown",
   "metadata": {},
   "source": [
    "Построим \"ящик с усами\" для длительности действия контракта, при этом усы зададим равными 3IQR (соответствует очень грубым выбросам)."
   ]
  },
  {
   "cell_type": "code",
   "execution_count": 29,
   "metadata": {},
   "outputs": [
    {
     "data": {
      "image/png": "[encoded data removed]",
      "text/plain": [
       "<Figure size 1080x360 with 1 Axes>"
      ]
     },
     "metadata": {
      "needs_background": "light"
     },
     "output_type": "display_data"
    }
   ],
   "source": [
    "plot_boxplot(customers['ContractDays'], 'Длительность контракта, дни', 3)"
   ]
  },
  {
   "cell_type": "markdown",
   "metadata": {},
   "source": [
    "Видим, что грубых выбросов нет."
   ]
  },
  {
   "cell_type": "markdown",
   "metadata": {},
   "source": [
    "Построим гистограмму для длительности контракта."
   ]
  },
  {
   "cell_type": "code",
   "execution_count": 30,
   "metadata": {},
   "outputs": [
    {
     "data": {
      "image/png": "[encoded data removed]",
      "text/plain": [
       "<Figure size 1080x360 with 1 Axes>"
      ]
     },
     "metadata": {
      "needs_background": "light"
     },
     "output_type": "display_data"
    }
   ],
   "source": [
    "plot_histplot(customers['ContractDays'], 'Распределение длительности контракта', 'Длительность контракта, дни', 44, 0, 2200)"
   ]
  },
  {
   "cell_type": "markdown",
   "metadata": {},
   "source": [
    "Преобладают контракты с небольшой длительностью в диапазоне до 100 дней и большой длительностью в диапазоне от 2150 до 2200 дней."
   ]
  },
  {
   "cell_type": "markdown",
   "metadata": {},
   "source": [
    "Посмотрим как распределяются данные в зависимости от того ушёл клиент или нет."
   ]
  },
  {
   "cell_type": "markdown",
   "metadata": {},
   "source": [
    "Построим гистограммы распределения количества новых контрактов по месяцам для лояльных и ушедших клиентов. "
   ]
  },
  {
   "cell_type": "code",
   "execution_count": 31,
   "metadata": {},
   "outputs": [
    {
     "data": {
      "image/png": "[encoded data removed]",
      "text/plain": [
       "<Figure size 1080x360 with 1 Axes>"
      ]
     },
     "metadata": {
      "needs_background": "light"
     },
     "output_type": "display_data"
    }
   ],
   "source": [
    "plot_histplot(contract[contract['Exited'] == 0]['BeginDate'], 'Распределение количества новых контрактов в месяц лояльных клиентов по датам', 'Дата', 76, '2013-10-01', '2020-02-01')"
   ]
  },
  {
   "cell_type": "code",
   "execution_count": 32,
   "metadata": {},
   "outputs": [
    {
     "data": {
      "image/png": "[encoded data removed]",
      "text/plain": [
       "<Figure size 1080x360 with 1 Axes>"
      ]
     },
     "metadata": {
      "needs_background": "light"
     },
     "output_type": "display_data"
    }
   ],
   "source": [
    "plot_histplot(contract[contract['Exited'] == 1]['BeginDate'], 'Распределение количества новых контрактов в месяц ушедших клиентов по датам', 'Дата', 76, '2013-10-01', '2020-02-01')"
   ]
  },
  {
   "cell_type": "markdown",
   "metadata": {},
   "source": [
    "- Заметен небольшой рост новых клиентов оператора, но также наблюдается значительный рост ушедших клиентов среди них.\n",
    "- В реальном бизнесе следует обсудитьить с коллегами пик новых контрактов и пропуски. "
   ]
  },
  {
   "cell_type": "markdown",
   "metadata": {},
   "source": [
    "Создадим в таблице `contract` столбец `NewCustomer`, содержащий информацию о том, что клиент новый (договор заключён в 2019-2020 годах)."
   ]
  },
  {
   "cell_type": "code",
   "execution_count": 33,
   "metadata": {},
   "outputs": [],
   "source": [
    "date = datetime.date(2018, 12, 31)\n",
    "\n",
    "for i in contract.index:\n",
    "\n",
    "    if contract.loc[i, 'BeginDate'] > date:\n",
    "        contract.loc[i, 'NewCustomer'] = 'Yes'\n",
    "    \n",
    "    else:\n",
    "        contract.loc[i, 'NewCustomer'] = 'No'"
   ]
  },
  {
   "cell_type": "markdown",
   "metadata": {},
   "source": [
    "Добавим этот столбец в таблицу `customers`."
   ]
  },
  {
   "cell_type": "code",
   "execution_count": 34,
   "metadata": {},
   "outputs": [],
   "source": [
    "customers['NewCustomer'] = contract['NewCustomer']"
   ]
  },
  {
   "cell_type": "markdown",
   "metadata": {},
   "source": [
    "Сохраним названия столбцов таблицы `customers` с типоп данных `object` для дальнейшего анализа."
   ]
  },
  {
   "cell_type": "code",
   "execution_count": 35,
   "metadata": {},
   "outputs": [],
   "source": [
    "names = customers.columns.tolist()\n",
    "\n",
    "datatypes = customers.dtypes\n",
    "\n",
    "names_obj = []\n",
    "\n",
    "for name in names:\n",
    "    if datatypes[name] == 'O':\n",
    "        names_obj.append(name)"
   ]
  },
  {
   "cell_type": "markdown",
   "metadata": {},
   "source": [
    "Проанализируем данные в этих столбцах."
   ]
  },
  {
   "cell_type": "code",
   "execution_count": 36,
   "metadata": {
    "scrolled": false
   },
   "outputs": [
    {
     "name": "stdout",
     "output_type": "stream",
     "text": [
      "\n",
      "Название столбца: Type\n",
      "\n",
      "Доли для лояльных клиентов:\n"
     ]
    },
    {
     "data": {
      "text/plain": [
       "Month-to-month    0.429983\n",
       "Two year          0.317064\n",
       "One year          0.252954\n",
       "Name: Type, dtype: float64"
      ]
     },
     "metadata": {},
     "output_type": "display_data"
    },
    {
     "name": "stdout",
     "output_type": "stream",
     "text": [
      "\n",
      "Доли для ушедших клиентов:\n"
     ]
    },
    {
     "data": {
      "text/plain": [
       "Month-to-month    0.885500\n",
       "One year          0.088818\n",
       "Two year          0.025682\n",
       "Name: Type, dtype: float64"
      ]
     },
     "metadata": {},
     "output_type": "display_data"
    },
    {
     "name": "stdout",
     "output_type": "stream",
     "text": [
      "====================================================================================================\n",
      "\n",
      "\n",
      "Название столбца: PaperlessBilling\n",
      "\n",
      "Доли для лояльных клиентов:\n"
     ]
    },
    {
     "data": {
      "text/plain": [
       "Yes    0.536122\n",
       "No     0.463878\n",
       "Name: PaperlessBilling, dtype: float64"
      ]
     },
     "metadata": {},
     "output_type": "display_data"
    },
    {
     "name": "stdout",
     "output_type": "stream",
     "text": [
      "\n",
      "Доли для ушедших клиентов:\n"
     ]
    },
    {
     "data": {
      "text/plain": [
       "Yes    0.749064\n",
       "No     0.250936\n",
       "Name: PaperlessBilling, dtype: float64"
      ]
     },
     "metadata": {},
     "output_type": "display_data"
    },
    {
     "name": "stdout",
     "output_type": "stream",
     "text": [
      "====================================================================================================\n",
      "\n",
      "\n",
      "Название столбца: PaymentMethod\n",
      "\n",
      "Доли для лояльных клиентов:\n"
     ]
    },
    {
     "data": {
      "text/plain": [
       "Mailed check                 0.251017\n",
       "Electronic check             0.250629\n",
       "Credit card (automatic)      0.249661\n",
       "Bank transfer (automatic)    0.248693\n",
       "Name: PaymentMethod, dtype: float64"
      ]
     },
     "metadata": {},
     "output_type": "display_data"
    },
    {
     "name": "stdout",
     "output_type": "stream",
     "text": [
      "\n",
      "Доли для ушедших клиентов:\n"
     ]
    },
    {
     "data": {
      "text/plain": [
       "Electronic check             0.573034\n",
       "Mailed check                 0.164794\n",
       "Bank transfer (automatic)    0.138042\n",
       "Credit card (automatic)      0.124131\n",
       "Name: PaymentMethod, dtype: float64"
      ]
     },
     "metadata": {},
     "output_type": "display_data"
    },
    {
     "name": "stdout",
     "output_type": "stream",
     "text": [
      "====================================================================================================\n",
      "\n",
      "\n",
      "Название столбца: gender\n",
      "\n",
      "Доли для лояльных клиентов:\n"
     ]
    },
    {
     "data": {
      "text/plain": [
       "Male      0.507263\n",
       "Female    0.492737\n",
       "Name: gender, dtype: float64"
      ]
     },
     "metadata": {},
     "output_type": "display_data"
    },
    {
     "name": "stdout",
     "output_type": "stream",
     "text": [
      "\n",
      "Доли для ушедших клиентов:\n"
     ]
    },
    {
     "data": {
      "text/plain": [
       "Female    0.502408\n",
       "Male      0.497592\n",
       "Name: gender, dtype: float64"
      ]
     },
     "metadata": {},
     "output_type": "display_data"
    },
    {
     "name": "stdout",
     "output_type": "stream",
     "text": [
      "====================================================================================================\n",
      "\n",
      "\n",
      "Название столбца: SeniorCitizen\n",
      "\n",
      "Доли для лояльных клиентов:\n"
     ]
    },
    {
     "data": {
      "text/plain": [
       "0    0.871005\n",
       "1    0.128995\n",
       "Name: SeniorCitizen, dtype: float64"
      ]
     },
     "metadata": {},
     "output_type": "display_data"
    },
    {
     "name": "stdout",
     "output_type": "stream",
     "text": [
      "\n",
      "Доли для ушедших клиентов:\n"
     ]
    },
    {
     "data": {
      "text/plain": [
       "0    0.745318\n",
       "1    0.254682\n",
       "Name: SeniorCitizen, dtype: float64"
      ]
     },
     "metadata": {},
     "output_type": "display_data"
    },
    {
     "name": "stdout",
     "output_type": "stream",
     "text": [
      "====================================================================================================\n",
      "\n",
      "\n",
      "Название столбца: Partner\n",
      "\n",
      "Доли для лояльных клиентов:\n"
     ]
    },
    {
     "data": {
      "text/plain": [
       "Yes    0.5276\n",
       "No     0.4724\n",
       "Name: Partner, dtype: float64"
      ]
     },
     "metadata": {},
     "output_type": "display_data"
    },
    {
     "name": "stdout",
     "output_type": "stream",
     "text": [
      "\n",
      "Доли для ушедших клиентов:\n"
     ]
    },
    {
     "data": {
      "text/plain": [
       "No     0.642055\n",
       "Yes    0.357945\n",
       "Name: Partner, dtype: float64"
      ]
     },
     "metadata": {},
     "output_type": "display_data"
    },
    {
     "name": "stdout",
     "output_type": "stream",
     "text": [
      "====================================================================================================\n",
      "\n",
      "\n",
      "Название столбца: Dependents\n",
      "\n",
      "Доли для лояльных клиентов:\n"
     ]
    },
    {
     "data": {
      "text/plain": [
       "No     0.656595\n",
       "Yes    0.343405\n",
       "Name: Dependents, dtype: float64"
      ]
     },
     "metadata": {},
     "output_type": "display_data"
    },
    {
     "name": "stdout",
     "output_type": "stream",
     "text": [
      "\n",
      "Доли для ушедших клиентов:\n"
     ]
    },
    {
     "data": {
      "text/plain": [
       "No     0.825575\n",
       "Yes    0.174425\n",
       "Name: Dependents, dtype: float64"
      ]
     },
     "metadata": {},
     "output_type": "display_data"
    },
    {
     "name": "stdout",
     "output_type": "stream",
     "text": [
      "====================================================================================================\n",
      "\n",
      "\n",
      "Название столбца: InternetService\n",
      "\n",
      "Доли для лояльных клиентов:\n"
     ]
    },
    {
     "data": {
      "text/plain": [
       "DSL            0.379043\n",
       "Fiber optic    0.348441\n",
       "None           0.272516\n",
       "Name: InternetService, dtype: float64"
      ]
     },
     "metadata": {},
     "output_type": "display_data"
    },
    {
     "name": "stdout",
     "output_type": "stream",
     "text": [
      "\n",
      "Доли для ушедших клиентов:\n"
     ]
    },
    {
     "data": {
      "text/plain": [
       "Fiber optic    0.693954\n",
       "DSL            0.245586\n",
       "None           0.060460\n",
       "Name: InternetService, dtype: float64"
      ]
     },
     "metadata": {},
     "output_type": "display_data"
    },
    {
     "name": "stdout",
     "output_type": "stream",
     "text": [
      "====================================================================================================\n",
      "\n",
      "\n",
      "Название столбца: OnlineSecurity\n",
      "\n",
      "Доли для лояльных клиентов:\n"
     ]
    },
    {
     "data": {
      "text/plain": [
       "No      0.394344\n",
       "Yes     0.333140\n",
       "None    0.272516\n",
       "Name: OnlineSecurity, dtype: float64"
      ]
     },
     "metadata": {},
     "output_type": "display_data"
    },
    {
     "name": "stdout",
     "output_type": "stream",
     "text": [
      "\n",
      "Доли для ушедших клиентов:\n"
     ]
    },
    {
     "data": {
      "text/plain": [
       "No      0.781701\n",
       "Yes     0.157838\n",
       "None    0.060460\n",
       "Name: OnlineSecurity, dtype: float64"
      ]
     },
     "metadata": {},
     "output_type": "display_data"
    },
    {
     "name": "stdout",
     "output_type": "stream",
     "text": [
      "====================================================================================================\n",
      "\n",
      "\n",
      "Название столбца: OnlineBackup\n",
      "\n",
      "Доли для лояльных клиентов:\n"
     ]
    },
    {
     "data": {
      "text/plain": [
       "Yes     0.368390\n",
       "No      0.359094\n",
       "None    0.272516\n",
       "Name: OnlineBackup, dtype: float64"
      ]
     },
     "metadata": {},
     "output_type": "display_data"
    },
    {
     "name": "stdout",
     "output_type": "stream",
     "text": [
      "\n",
      "Доли для ушедших клиентов:\n"
     ]
    },
    {
     "data": {
      "text/plain": [
       "No      0.659711\n",
       "Yes     0.279829\n",
       "None    0.060460\n",
       "Name: OnlineBackup, dtype: float64"
      ]
     },
     "metadata": {},
     "output_type": "display_data"
    },
    {
     "name": "stdout",
     "output_type": "stream",
     "text": [
      "====================================================================================================\n",
      "\n",
      "\n",
      "Название столбца: DeviceProtection\n",
      "\n",
      "Доли для лояльных клиентов:\n"
     ]
    },
    {
     "data": {
      "text/plain": [
       "No      0.364710\n",
       "Yes     0.362774\n",
       "None    0.272516\n",
       "Name: DeviceProtection, dtype: float64"
      ]
     },
     "metadata": {},
     "output_type": "display_data"
    },
    {
     "name": "stdout",
     "output_type": "stream",
     "text": [
      "\n",
      "Доли для ушедших клиентов:\n"
     ]
    },
    {
     "data": {
      "text/plain": [
       "No      0.64794\n",
       "Yes     0.29160\n",
       "None    0.06046\n",
       "Name: DeviceProtection, dtype: float64"
      ]
     },
     "metadata": {},
     "output_type": "display_data"
    },
    {
     "name": "stdout",
     "output_type": "stream",
     "text": [
      "====================================================================================================\n",
      "\n",
      "\n",
      "Название столбца: TechSupport\n",
      "\n",
      "Доли для лояльных клиентов:\n"
     ]
    },
    {
     "data": {
      "text/plain": [
       "No      0.392408\n",
       "Yes     0.335077\n",
       "None    0.272516\n",
       "Name: TechSupport, dtype: float64"
      ]
     },
     "metadata": {},
     "output_type": "display_data"
    },
    {
     "name": "stdout",
     "output_type": "stream",
     "text": [
      "\n",
      "Доли для ушедших клиентов:\n"
     ]
    },
    {
     "data": {
      "text/plain": [
       "No      0.773676\n",
       "Yes     0.165864\n",
       "None    0.060460\n",
       "Name: TechSupport, dtype: float64"
      ]
     },
     "metadata": {},
     "output_type": "display_data"
    },
    {
     "name": "stdout",
     "output_type": "stream",
     "text": [
      "====================================================================================================\n",
      "\n",
      "\n",
      "Название столбца: StreamingTV\n",
      "\n",
      "Доли для лояльных клиентов:\n"
     ]
    },
    {
     "data": {
      "text/plain": [
       "Yes     0.365873\n",
       "No      0.361611\n",
       "None    0.272516\n",
       "Name: StreamingTV, dtype: float64"
      ]
     },
     "metadata": {},
     "output_type": "display_data"
    },
    {
     "name": "stdout",
     "output_type": "stream",
     "text": [
      "\n",
      "Доли для ушедших клиентов:\n"
     ]
    },
    {
     "data": {
      "text/plain": [
       "No      0.504013\n",
       "Yes     0.435527\n",
       "None    0.060460\n",
       "Name: StreamingTV, dtype: float64"
      ]
     },
     "metadata": {},
     "output_type": "display_data"
    },
    {
     "name": "stdout",
     "output_type": "stream",
     "text": [
      "====================================================================================================\n",
      "\n",
      "\n",
      "Название столбца: StreamingMovies\n",
      "\n",
      "Доли для лояльных клиентов:\n"
     ]
    },
    {
     "data": {
      "text/plain": [
       "Yes     0.370521\n",
       "No      0.356963\n",
       "None    0.272516\n",
       "Name: StreamingMovies, dtype: float64"
      ]
     },
     "metadata": {},
     "output_type": "display_data"
    },
    {
     "name": "stdout",
     "output_type": "stream",
     "text": [
      "\n",
      "Доли для ушедших клиентов:\n"
     ]
    },
    {
     "data": {
      "text/plain": [
       "No      0.501873\n",
       "Yes     0.437667\n",
       "None    0.060460\n",
       "Name: StreamingMovies, dtype: float64"
      ]
     },
     "metadata": {},
     "output_type": "display_data"
    },
    {
     "name": "stdout",
     "output_type": "stream",
     "text": [
      "====================================================================================================\n",
      "\n",
      "\n",
      "Название столбца: MultipleLines\n",
      "\n",
      "Доли для лояльных клиентов:\n"
     ]
    },
    {
     "data": {
      "text/plain": [
       "No      0.491187\n",
       "Yes     0.410033\n",
       "None    0.098780\n",
       "Name: MultipleLines, dtype: float64"
      ]
     },
     "metadata": {},
     "output_type": "display_data"
    },
    {
     "name": "stdout",
     "output_type": "stream",
     "text": [
      "\n",
      "Доли для ушедших клиентов:\n"
     ]
    },
    {
     "data": {
      "text/plain": [
       "Yes     0.454789\n",
       "No      0.454254\n",
       "None    0.090958\n",
       "Name: MultipleLines, dtype: float64"
      ]
     },
     "metadata": {},
     "output_type": "display_data"
    },
    {
     "name": "stdout",
     "output_type": "stream",
     "text": [
      "====================================================================================================\n",
      "\n",
      "\n",
      "Название столбца: NewCustomer\n",
      "\n",
      "Доли для лояльных клиентов:\n"
     ]
    },
    {
     "data": {
      "text/plain": [
       "No     0.765834\n",
       "Yes    0.234166\n",
       "Name: NewCustomer, dtype: float64"
      ]
     },
     "metadata": {},
     "output_type": "display_data"
    },
    {
     "name": "stdout",
     "output_type": "stream",
     "text": [
      "\n",
      "Доли для ушедших клиентов:\n"
     ]
    },
    {
     "data": {
      "text/plain": [
       "Yes    0.52488\n",
       "No     0.47512\n",
       "Name: NewCustomer, dtype: float64"
      ]
     },
     "metadata": {},
     "output_type": "display_data"
    },
    {
     "name": "stdout",
     "output_type": "stream",
     "text": [
      "====================================================================================================\n",
      "\n"
     ]
    }
   ],
   "source": [
    "for name in names_obj:\n",
    "    \n",
    "    print()\n",
    "    \n",
    "    print('Название столбца:', name)\n",
    "    \n",
    "    print()\n",
    "    \n",
    "    print('Доли для лояльных клиентов:')\n",
    "    \n",
    "    display(customers[customers['Exited'] == 0][name].value_counts(normalize=1))\n",
    "    \n",
    "    print()\n",
    "    \n",
    "    print('Доли для ушедших клиентов:')\n",
    "    \n",
    "    display(customers[customers['Exited'] == 1][name].value_counts(normalize=1))\n",
    "    \n",
    "    print('='*100)\n",
    "    \n",
    "    print()"
   ]
  },
  {
   "cell_type": "markdown",
   "metadata": {},
   "source": [
    "Только для столбцов `gender` и `MultipleLines` нет особой разницы в долях для лояльных и ушедших клиентов"
   ]
  },
  {
   "cell_type": "markdown",
   "metadata": {},
   "source": [
    "Всех клиентов можно разделить на три группы:\n",
    "- использующих обе основные услуги;\n",
    "- использующих только стационарную телефонную связь;\n",
    "- использующих только интернет.\n",
    "\n",
    "Посмотрим на долю ушедших клиентов в этих групппах."
   ]
  },
  {
   "cell_type": "code",
   "execution_count": 37,
   "metadata": {},
   "outputs": [
    {
     "name": "stdout",
     "output_type": "stream",
     "text": [
      "Доля ушедших клиентов, использующих обе услуги: 0.32822847682119205 | их количество: 4832\n",
      "\n",
      "Доля ушедших клиентов, использующих только стационарную телефонную связь: 0.07434210526315789 | их количество: 1520\n",
      "\n",
      "Доля ушедших клиентов, использующих только интернет: 0.25 | их количество: 680\n"
     ]
    }
   ],
   "source": [
    "print('Доля ушедших клиентов, использующих обе услуги:', customers[(customers['InternetService'] != 'None') & (customers['MultipleLines'] != 'None')]['Exited'].mean(),\n",
    "     '| их количество:', customers[(customers['InternetService'] != 'None') & (customers['MultipleLines'] != 'None')]['Exited'].count())\n",
    "\n",
    "print()\n",
    "\n",
    "print('Доля ушедших клиентов, использующих только стационарную телефонную связь:', customers[customers['InternetService'] == 'None']['Exited'].mean(),\n",
    "     '| их количество:', customers[customers['InternetService'] == 'None']['Exited'].count())\n",
    "\n",
    "print()\n",
    "\n",
    "print('Доля ушедших клиентов, использующих только интернет:', customers[customers['MultipleLines'] == 'None']['Exited'].mean(),\n",
    "     '| их количество:', customers[customers['MultipleLines'] == 'None']['Exited'].count())"
   ]
  },
  {
   "cell_type": "markdown",
   "metadata": {},
   "source": [
    "- Самыми лояльными клиентами являются те, кто использует только стационарную телефонную связь. \n",
    "- Больше всего клиентов, которые используют обе основные услуги, и среди них самая большая доля ушедших клиентов. "
   ]
  },
  {
   "cell_type": "markdown",
   "metadata": {},
   "source": [
    "### Выводы"
   ]
  },
  {
   "cell_type": "markdown",
   "metadata": {},
   "source": [
    "- Оператору стоит обратить внимание на самую многочисленную группу клиентов (используют обе основные услуги), т.к. среди них самая большая доля ушедших клиентов.\n",
    "- Также много уходящих клиентов среди новых (пришедшие сначала 2019 года).\n",
    "- Столбец `TotalCharges` не будет использоваться для построения модели из-за его корреляции с другими столбцами, а столбцы `gender` и `MultipleLines` - из-за отсутствия информативности для решени поставленной задачи.\n",
    "- Для решения поставленной задачи созданы новые столбцы `NewCustomer` (хранит признак нового клиента) и `ContractDays` (хранит информацию о сроке действия контракта).\n",
    "- В данных есть дисбаланс целевого признака."
   ]
  },
  {
   "cell_type": "markdown",
   "metadata": {},
   "source": [
    "## Подготовка данных"
   ]
  },
  {
   "cell_type": "markdown",
   "metadata": {},
   "source": [
    "Удалим из таблицы `customers` столбцы, которые не будет использовать для построения модели, и сбросим индексы."
   ]
  },
  {
   "cell_type": "code",
   "execution_count": 38,
   "metadata": {},
   "outputs": [],
   "source": [
    "customers = customers.drop(['TotalCharges', 'gender', 'MultipleLines'], axis=1)\n",
    "\n",
    "customers = customers.reset_index(drop=True)"
   ]
  },
  {
   "cell_type": "markdown",
   "metadata": {},
   "source": [
    "Сохраним названия столбцов таблицы `customers`, в которых храняться категориальные данные и количественные, в разные переменные."
   ]
  },
  {
   "cell_type": "code",
   "execution_count": 39,
   "metadata": {},
   "outputs": [],
   "source": [
    "names = customers.columns.tolist()\n",
    "\n",
    "datatypes = customers.dtypes\n",
    "\n",
    "categorical = []\n",
    "numeric = []\n",
    "\n",
    "for name in names:\n",
    "    if datatypes[name] == 'O':\n",
    "        categorical.append(name)\n",
    "        \n",
    "    else:\n",
    "        numeric.append(name)"
   ]
  },
  {
   "cell_type": "markdown",
   "metadata": {},
   "source": [
    "Сохраним в новой таблице категориальные данные, закодированные порядковым кодировщиком."
   ]
  },
  {
   "cell_type": "code",
   "execution_count": 40,
   "metadata": {},
   "outputs": [],
   "source": [
    "encoder = OrdinalEncoder()\n",
    "\n",
    "df = pd.DataFrame(encoder.fit_transform(customers[categorical]), columns=customers[categorical].columns)"
   ]
  },
  {
   "cell_type": "markdown",
   "metadata": {},
   "source": [
    "Добавим в эту таблицу количественные данные."
   ]
  },
  {
   "cell_type": "code",
   "execution_count": 41,
   "metadata": {},
   "outputs": [],
   "source": [
    "df[numeric] = customers[numeric]"
   ]
  },
  {
   "cell_type": "markdown",
   "metadata": {},
   "source": [
    "Сохраним целевой признак и остальные признаки по отдельности."
   ]
  },
  {
   "cell_type": "code",
   "execution_count": 42,
   "metadata": {},
   "outputs": [],
   "source": [
    "target = df['Exited']\n",
    "\n",
    "features = df.drop('Exited', axis=1)"
   ]
  },
  {
   "cell_type": "markdown",
   "metadata": {},
   "source": [
    "Разделим данные на обучающую и тестовую выборки таким образом, чтобы доли целевого признака в них были одинаковыми."
   ]
  },
  {
   "cell_type": "code",
   "execution_count": 43,
   "metadata": {},
   "outputs": [],
   "source": [
    "features_train, features_test, target_train, target_test = train_test_split(\n",
    "features, target, test_size=0.3, random_state=12345, stratify=target)"
   ]
  },
  {
   "cell_type": "markdown",
   "metadata": {},
   "source": [
    "Проверим, что целевой признак в выборках имеет равные доли."
   ]
  },
  {
   "cell_type": "code",
   "execution_count": 44,
   "metadata": {},
   "outputs": [
    {
     "data": {
      "text/plain": [
       "0.2657456318569687"
      ]
     },
     "execution_count": 44,
     "metadata": {},
     "output_type": "execute_result"
    }
   ],
   "source": [
    "target_train.mean()"
   ]
  },
  {
   "cell_type": "code",
   "execution_count": 45,
   "metadata": {},
   "outputs": [
    {
     "data": {
      "text/plain": [
       "0.26587677725118486"
      ]
     },
     "execution_count": 45,
     "metadata": {},
     "output_type": "execute_result"
    }
   ],
   "source": [
    "target_test.mean()"
   ]
  },
  {
   "cell_type": "markdown",
   "metadata": {},
   "source": [
    "Выполним масштабирование количественных признаков."
   ]
  },
  {
   "cell_type": "code",
   "execution_count": 46,
   "metadata": {},
   "outputs": [],
   "source": [
    "numeric = ['MonthlyCharges', 'ContractDays']\n",
    "\n",
    "scaler = StandardScaler()\n",
    "\n",
    "scaler.fit(features_train[numeric])\n",
    "\n",
    "features_train[numeric] = scaler.transform(features_train[numeric])\n",
    "\n",
    "features_test[numeric] = scaler.transform(features_test[numeric])"
   ]
  },
  {
   "cell_type": "markdown",
   "metadata": {},
   "source": [
    "## Обучение и выбор лучшей модели"
   ]
  },
  {
   "cell_type": "markdown",
   "metadata": {},
   "source": [
    "Создадим функцию, которая будет искать и возвращать лучшие гиперпараметры выбранного алгоритма, ориентируясь на AUC-ROC и возвращая лучшее значение AUC-ROC."
   ]
  },
  {
   "cell_type": "code",
   "execution_count": 47,
   "metadata": {},
   "outputs": [],
   "source": [
    "def best_model(model, features, target, param_grid):\n",
    "    \n",
    "    ''' Функция для решётчатого поиска лучших гиперпараметров модели с кросс-валидацией '''\n",
    "    \n",
    "    clf = model(random_state=12345)\n",
    "    \n",
    "    grid_search = GridSearchCV(clf, param_grid, cv=5, scoring='roc_auc')\n",
    "    \n",
    "    grid_search.fit(features, target)\n",
    "    \n",
    "    best_params = grid_search.best_params_\n",
    "    \n",
    "    best_score = grid_search.best_score_\n",
    "    \n",
    "    return best_params, best_score"
   ]
  },
  {
   "cell_type": "markdown",
   "metadata": {},
   "source": [
    "Создадим функцию, проверяющую лучшее значение гиперпараметра и корректирующую его при необходимости для дальнейшей подстройки модели"
   ]
  },
  {
   "cell_type": "code",
   "execution_count": 48,
   "metadata": {},
   "outputs": [],
   "source": [
    "def param_check(param): # чтобы диапазон поиска лучшего значения гиперпараметра оставался положительным\n",
    "    \n",
    "    ''' Функция для проверки и корректировки гиперпараметров '''\n",
    "    \n",
    "    if param > 3:\n",
    "        param = param\n",
    "    else:\n",
    "        param +=3\n",
    "    return param"
   ]
  },
  {
   "cell_type": "markdown",
   "metadata": {},
   "source": [
    "Применим функцию поиска лучших гиперпараметров для алгоритма случайного леса с начальными гиперпараметрами, учтя дисбаланс целевого признака."
   ]
  },
  {
   "cell_type": "code",
   "execution_count": 49,
   "metadata": {},
   "outputs": [],
   "source": [
    "param_grid = {'n_estimators': [10, 20, 30, 40], 'max_depth': [5, 10, 15, 20], 'class_weight': ['balanced']}"
   ]
  },
  {
   "cell_type": "code",
   "execution_count": 50,
   "metadata": {},
   "outputs": [
    {
     "name": "stdout",
     "output_type": "stream",
     "text": [
      "Лучшие гиперпараметры: {'class_weight': 'balanced', 'max_depth': 10, 'n_estimators': 40}\n",
      "Лучшая AUC-ROC: 0.8529527861736893\n"
     ]
    }
   ],
   "source": [
    "best_params_rf, best_score_rf = best_model(RandomForestClassifier, features_train, target_train, param_grid)\n",
    "print('Лучшие гиперпараметры:', best_params_rf)\n",
    "print('Лучшая AUC-ROC:', best_score_rf)"
   ]
  },
  {
   "cell_type": "markdown",
   "metadata": {},
   "source": [
    "Применим функцию проверки и корректировки гиперпараметра."
   ]
  },
  {
   "cell_type": "code",
   "execution_count": 51,
   "metadata": {},
   "outputs": [],
   "source": [
    "max_depth_rf = param_check(best_params_rf['max_depth'])\n",
    "n_estimators_rf = param_check(best_params_rf['n_estimators'])"
   ]
  },
  {
   "cell_type": "markdown",
   "metadata": {},
   "source": [
    "Произведём более тонкий поиск лучших гиперпараметров для случайного леса."
   ]
  },
  {
   "cell_type": "code",
   "execution_count": 52,
   "metadata": {},
   "outputs": [],
   "source": [
    "param_grid = {'n_estimators': [x for x in range(n_estimators_rf - 3, n_estimators_rf + 3)], \n",
    "              'max_depth': [x for x in range(max_depth_rf - 3, max_depth_rf + 3)], 'class_weight': ['balanced']}"
   ]
  },
  {
   "cell_type": "code",
   "execution_count": 53,
   "metadata": {},
   "outputs": [
    {
     "name": "stdout",
     "output_type": "stream",
     "text": [
      "Лучшие гиперпараметры: {'class_weight': 'balanced', 'max_depth': 7, 'n_estimators': 37}\n",
      "Лучшая AUC-ROC: 0.8593097548183536\n"
     ]
    }
   ],
   "source": [
    "best_params_rf, best_score_rf = best_model(RandomForestClassifier, features_train, target_train, param_grid)\n",
    "print('Лучшие гиперпараметры:', best_params_rf)\n",
    "print('Лучшая AUC-ROC:', best_score_rf)"
   ]
  },
  {
   "cell_type": "markdown",
   "metadata": {},
   "source": [
    "Применим функцию поиска лучших гиперпараметров для алгоритма LightGBM с начальными гиперпараметрами, учтя дисбаланс целевого признака и предварительно изменив формат категориальных данных."
   ]
  },
  {
   "cell_type": "code",
   "execution_count": 54,
   "metadata": {},
   "outputs": [],
   "source": [
    "features_train[categorical] = features_train[categorical].astype('category')\n",
    "features_test[categorical] = features_test[categorical].astype('category')"
   ]
  },
  {
   "cell_type": "code",
   "execution_count": 55,
   "metadata": {},
   "outputs": [],
   "source": [
    "param_grid = {'n_estimators': [10, 50], 'max_depth': [2, 5, 10], 'num_leaves': [2, 20, 100], 'class_weight': ['balanced']}"
   ]
  },
  {
   "cell_type": "code",
   "execution_count": 56,
   "metadata": {},
   "outputs": [
    {
     "name": "stdout",
     "output_type": "stream",
     "text": [
      "Лучшие гиперпараметры: {'class_weight': 'balanced', 'max_depth': 10, 'n_estimators': 50, 'num_leaves': 20}\n",
      "Лучшая AUC-ROC: 0.8870385150758784\n"
     ]
    }
   ],
   "source": [
    "best_params_lgbm, best_score_lgbm = best_model(LGBMClassifier, features_train, target_train, param_grid)\n",
    "print('Лучшие гиперпараметры:', best_params_lgbm)\n",
    "print('Лучшая AUC-ROC:', best_score_lgbm)"
   ]
  },
  {
   "cell_type": "markdown",
   "metadata": {},
   "source": [
    "Произведём более тонкий поиск лучших гиперпараметров для LightGBM."
   ]
  },
  {
   "cell_type": "code",
   "execution_count": 57,
   "metadata": {},
   "outputs": [],
   "source": [
    "max_depth_lgbm = param_check(best_params_lgbm['max_depth'])\n",
    "n_estimators_lgbm = param_check(best_params_lgbm['n_estimators'])\n",
    "num_leaves_lgbm = param_check(best_params_lgbm['num_leaves'])"
   ]
  },
  {
   "cell_type": "code",
   "execution_count": 58,
   "metadata": {},
   "outputs": [],
   "source": [
    "param_grid = {'n_estimators': [x for x in range(n_estimators_lgbm - 3, n_estimators_lgbm + 3)],\n",
    "              'num_leaves': [x for x in range(num_leaves_lgbm - 3, num_leaves_lgbm + 3)],\n",
    "              'max_depth': [x for x in range(max_depth_lgbm - 3, max_depth_lgbm + 3)], 'class_weight': ['balanced']}"
   ]
  },
  {
   "cell_type": "code",
   "execution_count": 59,
   "metadata": {},
   "outputs": [
    {
     "name": "stdout",
     "output_type": "stream",
     "text": [
      "Лучшие гиперпараметры: {'class_weight': 'balanced', 'max_depth': 11, 'n_estimators': 52, 'num_leaves': 21}\n",
      "Лучшая AUC-ROC: 0.8907510332752377\n"
     ]
    }
   ],
   "source": [
    "best_params_lgbm, best_score_lgbm = best_model(LGBMClassifier, features_train, target_train, param_grid)\n",
    "print('Лучшие гиперпараметры:', best_params_lgbm)\n",
    "print('Лучшая AUC-ROC:', best_score_lgbm)"
   ]
  },
  {
   "cell_type": "markdown",
   "metadata": {},
   "source": [
    "### Вывод"
   ]
  },
  {
   "cell_type": "code",
   "execution_count": 60,
   "metadata": {},
   "outputs": [
    {
     "name": "stdout",
     "output_type": "stream",
     "text": [
      "Лучший результат показал алгоритм LightGBM с метрикой AUC-ROC: 0.891\n"
     ]
    }
   ],
   "source": [
    "print('Лучший результат показал алгоритм LightGBM с метрикой AUC-ROC:', best_score_lgbm.round(3))"
   ]
  },
  {
   "cell_type": "markdown",
   "metadata": {},
   "source": [
    "## Проверка лучшей модели на тестовой выборке"
   ]
  },
  {
   "cell_type": "markdown",
   "metadata": {},
   "source": [
    "Обучим финальную модель LightGBM с лучшими гиперпараметрами."
   ]
  },
  {
   "cell_type": "code",
   "execution_count": 61,
   "metadata": {},
   "outputs": [],
   "source": [
    "model = LGBMClassifier(random_state=12345, class_weight='balanced', n_estimators=best_params_lgbm['n_estimators'], \n",
    "                               max_depth=best_params_lgbm['max_depth'], num_leaves=best_params_lgbm['num_leaves'])"
   ]
  },
  {
   "cell_type": "markdown",
   "metadata": {},
   "source": [
    "Посчитаем метрику `Accuracy` модели для тестовой выборки."
   ]
  },
  {
   "cell_type": "code",
   "execution_count": 62,
   "metadata": {},
   "outputs": [
    {
     "name": "stdout",
     "output_type": "stream",
     "text": [
      "Accuracy финальной модели: 0.811\n"
     ]
    }
   ],
   "source": [
    "model.fit(features_train, target_train)\n",
    "predicted_test = model.predict(features_test)\n",
    "accuracy = accuracy_score(target_test, predicted_test).round(3)\n",
    "print('Accuracy финальной модели:', accuracy)"
   ]
  },
  {
   "cell_type": "markdown",
   "metadata": {},
   "source": [
    "Посчитаем метрику `AUC-ROC` модели для тестовой выборки."
   ]
  },
  {
   "cell_type": "code",
   "execution_count": 63,
   "metadata": {},
   "outputs": [
    {
     "name": "stdout",
     "output_type": "stream",
     "text": [
      "AUC-ROC финальной модели: 0.894\n"
     ]
    }
   ],
   "source": [
    "probabilities_test = model.predict_proba(features_test)\n",
    "probabilities_one_test = probabilities_test[:, 1]\n",
    "auc_roc = roc_auc_score(target_test, probabilities_one_test).round(3)\n",
    "print('AUC-ROC финальной модели:', auc_roc)"
   ]
  },
  {
   "cell_type": "markdown",
   "metadata": {},
   "source": [
    "Построим ROC-кривую для итоговой модели."
   ]
  },
  {
   "cell_type": "code",
   "execution_count": 64,
   "metadata": {},
   "outputs": [
    {
     "data": {
      "image/png": "[encoded data removed]",
      "text/plain": [
       "<Figure size 432x432 with 1 Axes>"
      ]
     },
     "metadata": {
      "needs_background": "light"
     },
     "output_type": "display_data"
    }
   ],
   "source": [
    "fpr, tpr, thresholds = roc_curve(target_test, probabilities_one_test)\n",
    "\n",
    "plt.figure(figsize=(6, 6))\n",
    "\n",
    "plt.plot(fpr, tpr)\n",
    "\n",
    "plt.plot([0, 1], [0, 1], linestyle='--')\n",
    "\n",
    "plt.xlim([0.0, 1.0])\n",
    "plt.ylim([0.0, 1.0])\n",
    "\n",
    "plt.xlabel('False Positive Rate', fontsize=18)\n",
    "plt.ylabel('True Positive Rate', fontsize=18)\n",
    "\n",
    "plt.title('ROC-кривая', fontsize=18)\n",
    "plt.show()"
   ]
  },
  {
   "cell_type": "markdown",
   "metadata": {},
   "source": [
    "Выведем матрицу несоответствий для итоговой модели."
   ]
  },
  {
   "cell_type": "code",
   "execution_count": 65,
   "metadata": {},
   "outputs": [
    {
     "name": "stdout",
     "output_type": "stream",
     "text": [
      "Количество истинно-отрицательных предсказаний: 1254\n",
      "\n",
      "Количество истинно-положительных предсказаний: 457\n",
      "\n",
      "Количество ложно-отрицательных предсказаний: 104\n",
      "\n",
      "Количество ложно-положительных предсказаний: 295\n"
     ]
    }
   ],
   "source": [
    "tn, fp, fn, tp = confusion_matrix(target_test, predicted_test).ravel()\n",
    "\n",
    "print('Количество истинно-отрицательных предсказаний:', tn)\n",
    "print()\n",
    "print('Количество истинно-положительных предсказаний:', tp)\n",
    "print()\n",
    "print('Количество ложно-отрицательных предсказаний:', fn)\n",
    "print()\n",
    "print('Количество ложно-положительных предсказаний:', fp)"
   ]
  },
  {
   "cell_type": "markdown",
   "metadata": {},
   "source": [
    "Количесвто ложно-отрицательных предсказаний меньше количесвта ложно-положительных. Это является плюсом модели, т.к. ложно-отрицательные предсказания обходятся оператору дороже (информация от тимлида)."
   ]
  },
  {
   "cell_type": "markdown",
   "metadata": {},
   "source": [
    "## Выводы"
   ]
  },
  {
   "cell_type": "markdown",
   "metadata": {},
   "source": [
    "- Финальная модель на основе алгоритма LightGBM имеет довольно высокий `AUC-ROC`:"
   ]
  },
  {
   "cell_type": "code",
   "execution_count": 66,
   "metadata": {},
   "outputs": [
    {
     "data": {
      "text/plain": [
       "0.894"
      ]
     },
     "execution_count": 66,
     "metadata": {},
     "output_type": "execute_result"
    }
   ],
   "source": [
    "auc_roc"
   ]
  },
  {
   "cell_type": "markdown",
   "metadata": {},
   "source": [
    "- Финальная модель имеет `Accuracy`:"
   ]
  },
  {
   "cell_type": "code",
   "execution_count": 67,
   "metadata": {},
   "outputs": [
    {
     "data": {
      "text/plain": [
       "0.811"
      ]
     },
     "execution_count": 67,
     "metadata": {},
     "output_type": "execute_result"
    }
   ],
   "source": [
    "accuracy"
   ]
  },
  {
   "cell_type": "markdown",
   "metadata": {},
   "source": [
    "- Количесвто ложно-отрицательных предсказаний меньше количесвта ложно-положительных.\n",
    "- Настройкой порога классификации можно менять метрики финальной модели (кроме `AUC-ROC`), в том числе немного повысить `Accuracy`, но тогда ухудшится соотношение ложно-отрицательных и ложно-положительных предсказаний."
   ]
  },
  {
   "cell_type": "code",
   "execution_count": null,
   "metadata": {},
   "outputs": [],
   "source": []
  }
 ],
 "metadata": {
  "ExecuteTimeLog": [
   {
    "duration": 136,
    "start_time": "2021-07-01T20:23:36.335Z"
   },
   {
    "duration": 2088,
    "start_time": "2021-07-04T06:41:12.390Z"
   },
   {
    "duration": 5,
    "start_time": "2021-07-04T06:41:27.701Z"
   },
   {
    "duration": 102,
    "start_time": "2021-07-04T06:44:09.489Z"
   },
   {
    "duration": 4,
    "start_time": "2021-07-04T06:44:56.234Z"
   },
   {
    "duration": 90,
    "start_time": "2021-07-04T06:48:12.443Z"
   },
   {
    "duration": 8517,
    "start_time": "2021-07-04T07:10:55.000Z"
   },
   {
    "duration": 17,
    "start_time": "2021-07-04T07:19:27.212Z"
   },
   {
    "duration": 326,
    "start_time": "2021-07-04T07:24:28.490Z"
   },
   {
    "duration": 286,
    "start_time": "2021-07-04T07:25:03.279Z"
   },
   {
    "duration": 13,
    "start_time": "2021-07-04T07:25:13.687Z"
   },
   {
    "duration": 11,
    "start_time": "2021-07-04T07:25:29.207Z"
   },
   {
    "duration": 13,
    "start_time": "2021-07-04T07:28:29.816Z"
   },
   {
    "duration": 17,
    "start_time": "2021-07-04T07:28:46.285Z"
   },
   {
    "duration": 22,
    "start_time": "2021-07-04T07:31:41.644Z"
   },
   {
    "duration": 8,
    "start_time": "2021-07-04T07:34:56.247Z"
   },
   {
    "duration": 11,
    "start_time": "2021-07-04T07:35:05.095Z"
   },
   {
    "duration": 1565,
    "start_time": "2021-07-04T07:41:37.443Z"
   },
   {
    "duration": 98,
    "start_time": "2021-07-04T07:41:39.011Z"
   },
   {
    "duration": 3,
    "start_time": "2021-07-04T07:41:39.112Z"
   },
   {
    "duration": 101,
    "start_time": "2021-07-04T07:41:39.118Z"
   },
   {
    "duration": 8546,
    "start_time": "2021-07-04T07:41:39.221Z"
   },
   {
    "duration": 13,
    "start_time": "2021-07-04T07:41:47.770Z"
   },
   {
    "duration": 21,
    "start_time": "2021-07-04T07:41:47.785Z"
   },
   {
    "duration": 27,
    "start_time": "2021-07-04T07:41:47.809Z"
   },
   {
    "duration": 31,
    "start_time": "2021-07-04T07:41:47.839Z"
   },
   {
    "duration": 17,
    "start_time": "2021-07-04T07:41:47.872Z"
   },
   {
    "duration": 486,
    "start_time": "2021-07-04T07:41:47.892Z"
   },
   {
    "duration": 7,
    "start_time": "2021-07-04T07:42:17.830Z"
   },
   {
    "duration": 11,
    "start_time": "2021-07-04T07:42:23.840Z"
   },
   {
    "duration": 283,
    "start_time": "2021-07-04T07:46:23.926Z"
   },
   {
    "duration": 7,
    "start_time": "2021-07-04T07:46:53.587Z"
   },
   {
    "duration": 18,
    "start_time": "2021-07-04T07:47:09.148Z"
   },
   {
    "duration": 12,
    "start_time": "2021-07-04T07:47:41.786Z"
   },
   {
    "duration": 6,
    "start_time": "2021-07-04T07:50:30.393Z"
   },
   {
    "duration": 5,
    "start_time": "2021-07-04T08:09:37.347Z"
   },
   {
    "duration": 13,
    "start_time": "2021-07-04T08:09:49.752Z"
   },
   {
    "duration": 12,
    "start_time": "2021-07-04T08:10:03.651Z"
   },
   {
    "duration": 41,
    "start_time": "2021-07-04T08:17:54.067Z"
   },
   {
    "duration": 28,
    "start_time": "2021-07-04T08:18:05.140Z"
   },
   {
    "duration": 20,
    "start_time": "2021-07-04T08:18:20.155Z"
   },
   {
    "duration": 6,
    "start_time": "2021-07-04T08:31:44.722Z"
   },
   {
    "duration": 15,
    "start_time": "2021-07-04T08:33:42.993Z"
   },
   {
    "duration": 7,
    "start_time": "2021-07-04T08:34:02.999Z"
   },
   {
    "duration": 19,
    "start_time": "2021-07-04T08:37:04.009Z"
   },
   {
    "duration": 14,
    "start_time": "2021-07-04T08:39:13.424Z"
   },
   {
    "duration": 16,
    "start_time": "2021-07-04T08:39:23.160Z"
   },
   {
    "duration": 1422,
    "start_time": "2021-07-04T08:41:09.011Z"
   },
   {
    "duration": 96,
    "start_time": "2021-07-04T08:41:10.436Z"
   },
   {
    "duration": 3,
    "start_time": "2021-07-04T08:41:10.535Z"
   },
   {
    "duration": 93,
    "start_time": "2021-07-04T08:41:10.540Z"
   },
   {
    "duration": 8548,
    "start_time": "2021-07-04T08:41:10.668Z"
   },
   {
    "duration": 13,
    "start_time": "2021-07-04T08:41:19.219Z"
   },
   {
    "duration": 7,
    "start_time": "2021-07-04T08:41:19.235Z"
   },
   {
    "duration": 11,
    "start_time": "2021-07-04T08:41:19.266Z"
   },
   {
    "duration": 20,
    "start_time": "2021-07-04T08:41:19.280Z"
   },
   {
    "duration": 9,
    "start_time": "2021-07-04T08:41:19.303Z"
   },
   {
    "duration": 6,
    "start_time": "2021-07-04T08:41:19.314Z"
   },
   {
    "duration": 49,
    "start_time": "2021-07-04T08:41:19.322Z"
   },
   {
    "duration": 10,
    "start_time": "2021-07-04T08:41:19.373Z"
   },
   {
    "duration": 7,
    "start_time": "2021-07-04T08:41:19.385Z"
   },
   {
    "duration": 72,
    "start_time": "2021-07-04T08:41:19.395Z"
   },
   {
    "duration": 20,
    "start_time": "2021-07-04T08:41:19.469Z"
   },
   {
    "duration": 17,
    "start_time": "2021-07-04T08:41:19.491Z"
   },
   {
    "duration": 17,
    "start_time": "2021-07-04T08:41:19.510Z"
   },
   {
    "duration": 46,
    "start_time": "2021-07-04T08:41:19.529Z"
   },
   {
    "duration": 36,
    "start_time": "2021-07-04T08:46:44.457Z"
   },
   {
    "duration": 7695,
    "start_time": "2021-07-04T08:53:32.072Z"
   },
   {
    "duration": 23,
    "start_time": "2021-07-04T08:53:49.791Z"
   },
   {
    "duration": 24,
    "start_time": "2021-07-04T08:56:24.439Z"
   },
   {
    "duration": 6,
    "start_time": "2021-07-04T09:01:42.045Z"
   },
   {
    "duration": 13,
    "start_time": "2021-07-04T09:03:12.294Z"
   },
   {
    "duration": 5,
    "start_time": "2021-07-04T09:11:02.592Z"
   },
   {
    "duration": 88,
    "start_time": "2021-07-04T09:12:35.778Z"
   },
   {
    "duration": 6,
    "start_time": "2021-07-04T09:15:48.619Z"
   },
   {
    "duration": 92,
    "start_time": "2021-07-04T09:16:29.687Z"
   },
   {
    "duration": 300,
    "start_time": "2021-07-04T09:17:48.462Z"
   },
   {
    "duration": 296,
    "start_time": "2021-07-04T09:20:00.842Z"
   },
   {
    "duration": 301,
    "start_time": "2021-07-04T09:21:31.058Z"
   },
   {
    "duration": 291,
    "start_time": "2021-07-04T09:21:40.331Z"
   },
   {
    "duration": 401,
    "start_time": "2021-07-04T09:21:56.950Z"
   },
   {
    "duration": 358,
    "start_time": "2021-07-04T09:22:15.209Z"
   },
   {
    "duration": 6,
    "start_time": "2021-07-04T09:28:24.844Z"
   },
   {
    "duration": 447,
    "start_time": "2021-07-04T09:28:36.642Z"
   },
   {
    "duration": 390,
    "start_time": "2021-07-04T10:14:40.170Z"
   },
   {
    "duration": 344,
    "start_time": "2021-07-04T10:15:16.439Z"
   },
   {
    "duration": 291,
    "start_time": "2021-07-04T10:15:23.378Z"
   },
   {
    "duration": 491,
    "start_time": "2021-07-04T10:18:00.619Z"
   },
   {
    "duration": 460,
    "start_time": "2021-07-04T10:18:17.693Z"
   },
   {
    "duration": 481,
    "start_time": "2021-07-04T10:18:29.205Z"
   },
   {
    "duration": 7,
    "start_time": "2021-07-04T10:42:27.640Z"
   },
   {
    "duration": 6,
    "start_time": "2021-07-04T10:45:38.473Z"
   },
   {
    "duration": 7,
    "start_time": "2021-07-04T10:47:02.273Z"
   },
   {
    "duration": 7,
    "start_time": "2021-07-04T10:47:12.543Z"
   },
   {
    "duration": 5,
    "start_time": "2021-07-04T10:47:21.787Z"
   },
   {
    "duration": 7,
    "start_time": "2021-07-04T10:47:38.508Z"
   },
   {
    "duration": 10,
    "start_time": "2021-07-04T10:49:36.174Z"
   },
   {
    "duration": 577,
    "start_time": "2021-07-04T11:02:23.074Z"
   },
   {
    "duration": 1041,
    "start_time": "2021-07-04T11:05:07.544Z"
   },
   {
    "duration": 572,
    "start_time": "2021-07-04T11:05:47.493Z"
   },
   {
    "duration": 583,
    "start_time": "2021-07-04T11:06:05.516Z"
   },
   {
    "duration": 328,
    "start_time": "2021-07-04T13:13:13.106Z"
   },
   {
    "duration": 1832,
    "start_time": "2021-07-04T13:13:41.920Z"
   },
   {
    "duration": 99,
    "start_time": "2021-07-04T13:13:43.755Z"
   },
   {
    "duration": 3,
    "start_time": "2021-07-04T13:13:43.857Z"
   },
   {
    "duration": 87,
    "start_time": "2021-07-04T13:13:43.863Z"
   },
   {
    "duration": 8595,
    "start_time": "2021-07-04T13:13:43.952Z"
   },
   {
    "duration": 15,
    "start_time": "2021-07-04T13:13:52.549Z"
   },
   {
    "duration": 13,
    "start_time": "2021-07-04T13:13:52.566Z"
   },
   {
    "duration": 27,
    "start_time": "2021-07-04T13:13:52.582Z"
   },
   {
    "duration": 18,
    "start_time": "2021-07-04T13:13:52.612Z"
   },
   {
    "duration": 11,
    "start_time": "2021-07-04T13:13:52.633Z"
   },
   {
    "duration": 7,
    "start_time": "2021-07-04T13:13:52.646Z"
   },
   {
    "duration": 9,
    "start_time": "2021-07-04T13:13:52.655Z"
   },
   {
    "duration": 9,
    "start_time": "2021-07-04T13:13:52.700Z"
   },
   {
    "duration": 15,
    "start_time": "2021-07-04T13:13:52.712Z"
   },
   {
    "duration": 41,
    "start_time": "2021-07-04T13:13:52.729Z"
   },
   {
    "duration": 41,
    "start_time": "2021-07-04T13:13:52.773Z"
   },
   {
    "duration": 17,
    "start_time": "2021-07-04T13:13:52.817Z"
   },
   {
    "duration": 14,
    "start_time": "2021-07-04T13:13:52.837Z"
   },
   {
    "duration": 17,
    "start_time": "2021-07-04T13:13:52.853Z"
   },
   {
    "duration": 26,
    "start_time": "2021-07-04T13:13:52.902Z"
   },
   {
    "duration": 7,
    "start_time": "2021-07-04T13:13:52.930Z"
   },
   {
    "duration": 19,
    "start_time": "2021-07-04T13:13:52.940Z"
   },
   {
    "duration": 5,
    "start_time": "2021-07-04T13:13:53.001Z"
   },
   {
    "duration": 9,
    "start_time": "2021-07-04T13:13:53.010Z"
   },
   {
    "duration": 307,
    "start_time": "2021-07-04T13:13:53.021Z"
   },
   {
    "duration": 445,
    "start_time": "2021-07-04T13:13:53.330Z"
   },
   {
    "duration": 298,
    "start_time": "2021-07-04T13:13:53.778Z"
   },
   {
    "duration": 484,
    "start_time": "2021-07-04T13:13:54.078Z"
   },
   {
    "duration": 616,
    "start_time": "2021-07-04T13:13:54.565Z"
   },
   {
    "duration": 609,
    "start_time": "2021-07-04T13:13:55.184Z"
   },
   {
    "duration": 5,
    "start_time": "2021-07-04T13:17:01.180Z"
   },
   {
    "duration": 6,
    "start_time": "2021-07-04T13:17:02.709Z"
   },
   {
    "duration": 7637,
    "start_time": "2021-07-04T13:25:08.534Z"
   },
   {
    "duration": 7517,
    "start_time": "2021-07-04T13:28:06.742Z"
   },
   {
    "duration": 6795,
    "start_time": "2021-07-04T13:28:38.696Z"
   },
   {
    "duration": 18,
    "start_time": "2021-07-04T13:29:01.136Z"
   },
   {
    "duration": 376,
    "start_time": "2021-07-04T13:30:07.150Z"
   },
   {
    "duration": 17,
    "start_time": "2021-07-04T13:48:14.787Z"
   },
   {
    "duration": 19,
    "start_time": "2021-07-04T13:49:00.722Z"
   },
   {
    "duration": 22,
    "start_time": "2021-07-04T13:54:22.083Z"
   },
   {
    "duration": 28,
    "start_time": "2021-07-04T13:56:20.356Z"
   },
   {
    "duration": 9,
    "start_time": "2021-07-04T14:33:38.808Z"
   },
   {
    "duration": 19,
    "start_time": "2021-07-04T14:33:48.813Z"
   },
   {
    "duration": 13,
    "start_time": "2021-07-04T14:35:35.519Z"
   },
   {
    "duration": 8254,
    "start_time": "2021-07-04T14:41:51.926Z"
   },
   {
    "duration": 7,
    "start_time": "2021-07-04T14:43:28.706Z"
   },
   {
    "duration": 6,
    "start_time": "2021-07-04T14:43:35.592Z"
   },
   {
    "duration": 6,
    "start_time": "2021-07-04T14:43:46.450Z"
   },
   {
    "duration": 42,
    "start_time": "2021-07-04T14:47:10.194Z"
   },
   {
    "duration": 9,
    "start_time": "2021-07-04T14:48:26.543Z"
   },
   {
    "duration": 24,
    "start_time": "2021-07-04T14:48:36.012Z"
   },
   {
    "duration": 11,
    "start_time": "2021-07-04T14:48:56.493Z"
   },
   {
    "duration": 5,
    "start_time": "2021-07-04T14:50:37.375Z"
   },
   {
    "duration": 11,
    "start_time": "2021-07-04T14:53:29.200Z"
   },
   {
    "duration": 6,
    "start_time": "2021-07-04T14:54:46.763Z"
   },
   {
    "duration": 6,
    "start_time": "2021-07-04T14:55:16.533Z"
   },
   {
    "duration": 18,
    "start_time": "2021-07-04T14:57:41.799Z"
   },
   {
    "duration": 5,
    "start_time": "2021-07-04T15:00:58.917Z"
   },
   {
    "duration": 4,
    "start_time": "2021-07-04T15:01:42.081Z"
   },
   {
    "duration": 3,
    "start_time": "2021-07-04T15:02:44.877Z"
   },
   {
    "duration": 379,
    "start_time": "2021-07-04T15:03:01.931Z"
   },
   {
    "duration": 9702,
    "start_time": "2021-07-04T15:03:27.359Z"
   },
   {
    "duration": 4,
    "start_time": "2021-07-04T15:10:39.318Z"
   },
   {
    "duration": 5,
    "start_time": "2021-07-04T15:11:26.348Z"
   },
   {
    "duration": 24654,
    "start_time": "2021-07-04T15:12:08.779Z"
   },
   {
    "duration": 50,
    "start_time": "2021-07-04T15:16:23.030Z"
   },
   {
    "duration": 13,
    "start_time": "2021-07-04T15:16:33.462Z"
   },
   {
    "duration": 4,
    "start_time": "2021-07-04T15:17:09.657Z"
   },
   {
    "duration": 42299,
    "start_time": "2021-07-04T15:17:50.411Z"
   },
   {
    "duration": 5,
    "start_time": "2021-07-04T15:19:16.361Z"
   },
   {
    "duration": 5,
    "start_time": "2021-07-04T15:19:28.615Z"
   },
   {
    "duration": 888067,
    "start_time": "2021-07-04T15:21:13.742Z"
   },
   {
    "duration": 4,
    "start_time": "2021-07-04T15:46:52.779Z"
   },
   {
    "duration": 910,
    "start_time": "2021-07-04T15:49:19.958Z"
   },
   {
    "duration": 697,
    "start_time": "2021-07-04T15:49:57.831Z"
   },
   {
    "duration": 37,
    "start_time": "2021-07-04T15:53:36.392Z"
   },
   {
    "duration": 376,
    "start_time": "2021-07-04T15:55:29.626Z"
   },
   {
    "duration": 277,
    "start_time": "2021-07-04T15:55:38.327Z"
   },
   {
    "duration": 271,
    "start_time": "2021-07-04T15:55:58.421Z"
   },
   {
    "duration": 288,
    "start_time": "2021-07-04T15:56:39.639Z"
   },
   {
    "duration": 8,
    "start_time": "2021-07-04T16:02:11.756Z"
   },
   {
    "duration": 5,
    "start_time": "2021-07-04T16:02:23.744Z"
   },
   {
    "duration": 12,
    "start_time": "2021-07-04T16:06:50.776Z"
   },
   {
    "duration": 37,
    "start_time": "2021-07-04T16:11:32.030Z"
   },
   {
    "duration": 4,
    "start_time": "2021-07-04T16:53:00.868Z"
   },
   {
    "duration": 8,
    "start_time": "2021-07-04T16:54:36.645Z"
   },
   {
    "duration": 17,
    "start_time": "2021-07-04T16:54:52.336Z"
   },
   {
    "duration": 11,
    "start_time": "2021-07-04T16:55:10.896Z"
   },
   {
    "duration": 90,
    "start_time": "2021-07-04T16:55:45.420Z"
   },
   {
    "duration": 5,
    "start_time": "2021-07-04T16:55:54.876Z"
   },
   {
    "duration": 12,
    "start_time": "2021-07-04T16:55:57.514Z"
   },
   {
    "duration": 17,
    "start_time": "2021-07-04T16:56:14.803Z"
   },
   {
    "duration": 1032,
    "start_time": "2021-07-04T16:57:10.448Z"
   },
   {
    "duration": 2278,
    "start_time": "2021-07-04T16:57:59.480Z"
   },
   {
    "duration": 119,
    "start_time": "2021-07-04T16:58:03.920Z"
   },
   {
    "duration": 4,
    "start_time": "2021-07-04T16:58:04.968Z"
   },
   {
    "duration": 99,
    "start_time": "2021-07-04T16:58:05.963Z"
   },
   {
    "duration": 4,
    "start_time": "2021-07-04T16:58:12.488Z"
   },
   {
    "duration": 9,
    "start_time": "2021-07-04T16:58:14.027Z"
   },
   {
    "duration": 15,
    "start_time": "2021-07-04T16:58:15.561Z"
   },
   {
    "duration": 12,
    "start_time": "2021-07-04T16:58:25.613Z"
   },
   {
    "duration": 16,
    "start_time": "2021-07-04T16:58:33.000Z"
   },
   {
    "duration": 10,
    "start_time": "2021-07-04T16:58:41.842Z"
   },
   {
    "duration": 8717,
    "start_time": "2021-07-04T16:59:03.060Z"
   },
   {
    "duration": 17,
    "start_time": "2021-07-04T16:59:26.136Z"
   },
   {
    "duration": 19,
    "start_time": "2021-07-04T17:00:01.705Z"
   },
   {
    "duration": 9,
    "start_time": "2021-07-04T17:00:05.513Z"
   },
   {
    "duration": 12,
    "start_time": "2021-07-04T17:00:07.470Z"
   },
   {
    "duration": 20,
    "start_time": "2021-07-04T17:00:14.893Z"
   },
   {
    "duration": 9,
    "start_time": "2021-07-04T17:00:29.853Z"
   },
   {
    "duration": 17,
    "start_time": "2021-07-04T17:00:47.593Z"
   },
   {
    "duration": 5,
    "start_time": "2021-07-04T17:01:03.803Z"
   },
   {
    "duration": 5,
    "start_time": "2021-07-04T17:01:25.536Z"
   },
   {
    "duration": 15,
    "start_time": "2021-07-04T17:01:37.524Z"
   },
   {
    "duration": 9,
    "start_time": "2021-07-04T17:01:53.726Z"
   },
   {
    "duration": 8,
    "start_time": "2021-07-04T17:01:57.245Z"
   },
   {
    "duration": 1689,
    "start_time": "2021-07-04T17:04:13.704Z"
   },
   {
    "duration": 117,
    "start_time": "2021-07-04T17:04:15.396Z"
   },
   {
    "duration": 5,
    "start_time": "2021-07-04T17:04:15.518Z"
   },
   {
    "duration": 135,
    "start_time": "2021-07-04T17:04:15.526Z"
   },
   {
    "duration": 5,
    "start_time": "2021-07-04T17:04:21.104Z"
   },
   {
    "duration": 11,
    "start_time": "2021-07-04T17:04:22.322Z"
   },
   {
    "duration": 17,
    "start_time": "2021-07-04T17:04:28.825Z"
   },
   {
    "duration": 12,
    "start_time": "2021-07-04T17:04:54.933Z"
   },
   {
    "duration": 5,
    "start_time": "2021-07-04T17:11:46.734Z"
   },
   {
    "duration": 8,
    "start_time": "2021-07-04T17:11:48.585Z"
   },
   {
    "duration": 11,
    "start_time": "2021-07-04T17:11:51.826Z"
   },
   {
    "duration": 8730,
    "start_time": "2021-07-04T17:12:03.371Z"
   },
   {
    "duration": 13,
    "start_time": "2021-07-04T17:12:12.104Z"
   },
   {
    "duration": 8,
    "start_time": "2021-07-04T17:12:12.120Z"
   },
   {
    "duration": 12,
    "start_time": "2021-07-04T17:12:15.383Z"
   },
   {
    "duration": 20,
    "start_time": "2021-07-04T17:12:20.528Z"
   },
   {
    "duration": 9,
    "start_time": "2021-07-04T17:12:24.062Z"
   },
   {
    "duration": 5,
    "start_time": "2021-07-04T17:12:29.940Z"
   },
   {
    "duration": 6,
    "start_time": "2021-07-04T17:12:36.379Z"
   },
   {
    "duration": 9,
    "start_time": "2021-07-04T17:12:40.310Z"
   },
   {
    "duration": 6,
    "start_time": "2021-07-04T17:12:43.006Z"
   },
   {
    "duration": 23,
    "start_time": "2021-07-04T17:13:38.409Z"
   },
   {
    "duration": 20,
    "start_time": "2021-07-04T17:13:40.616Z"
   },
   {
    "duration": 27,
    "start_time": "2021-07-04T17:14:56.521Z"
   },
   {
    "duration": 17,
    "start_time": "2021-07-04T17:15:33.477Z"
   },
   {
    "duration": 14,
    "start_time": "2021-07-04T17:15:38.257Z"
   },
   {
    "duration": 16,
    "start_time": "2021-07-04T17:15:39.189Z"
   },
   {
    "duration": 25,
    "start_time": "2021-07-04T17:15:47.241Z"
   },
   {
    "duration": 7,
    "start_time": "2021-07-04T17:15:52.283Z"
   },
   {
    "duration": 15,
    "start_time": "2021-07-04T17:15:54.745Z"
   },
   {
    "duration": 5,
    "start_time": "2021-07-04T17:16:09.911Z"
   },
   {
    "duration": 5,
    "start_time": "2021-07-04T17:16:12.127Z"
   },
   {
    "duration": 314,
    "start_time": "2021-07-04T17:16:15.443Z"
   },
   {
    "duration": 439,
    "start_time": "2021-07-04T17:16:20.537Z"
   },
   {
    "duration": 278,
    "start_time": "2021-07-04T17:16:25.316Z"
   },
   {
    "duration": 480,
    "start_time": "2021-07-04T17:16:31.325Z"
   },
   {
    "duration": 660,
    "start_time": "2021-07-04T17:16:38.480Z"
   },
   {
    "duration": 565,
    "start_time": "2021-07-04T17:16:44.184Z"
   },
   {
    "duration": 6,
    "start_time": "2021-07-04T17:17:10.071Z"
   },
   {
    "duration": 389,
    "start_time": "2021-07-04T17:17:13.167Z"
   },
   {
    "duration": 29,
    "start_time": "2021-07-04T17:18:23.236Z"
   },
   {
    "duration": 7,
    "start_time": "2021-07-04T17:18:50.693Z"
   },
   {
    "duration": 15,
    "start_time": "2021-07-04T17:18:51.763Z"
   },
   {
    "duration": 5,
    "start_time": "2021-07-04T17:19:03.853Z"
   },
   {
    "duration": 44,
    "start_time": "2021-07-04T17:19:06.950Z"
   },
   {
    "duration": 17,
    "start_time": "2021-07-04T17:19:09.445Z"
   },
   {
    "duration": 8,
    "start_time": "2021-07-04T17:19:12.517Z"
   },
   {
    "duration": 557,
    "start_time": "2021-07-04T17:19:16.926Z"
   },
   {
    "duration": 10,
    "start_time": "2021-07-04T17:20:26.937Z"
   },
   {
    "duration": 32,
    "start_time": "2021-07-04T17:20:47.363Z"
   },
   {
    "duration": 33,
    "start_time": "2021-07-04T17:21:12.804Z"
   },
   {
    "duration": 5,
    "start_time": "2021-07-04T17:21:50.572Z"
   },
   {
    "duration": 1589,
    "start_time": "2021-07-04T17:24:46.544Z"
   },
   {
    "duration": 105,
    "start_time": "2021-07-04T17:24:48.136Z"
   },
   {
    "duration": 4,
    "start_time": "2021-07-04T17:24:48.244Z"
   },
   {
    "duration": 150,
    "start_time": "2021-07-04T17:24:48.251Z"
   },
   {
    "duration": 5,
    "start_time": "2021-07-04T17:24:48.404Z"
   },
   {
    "duration": 18,
    "start_time": "2021-07-04T17:24:48.412Z"
   },
   {
    "duration": 8880,
    "start_time": "2021-07-04T17:24:48.433Z"
   },
   {
    "duration": 13,
    "start_time": "2021-07-04T17:24:57.318Z"
   },
   {
    "duration": 9,
    "start_time": "2021-07-04T17:24:57.334Z"
   },
   {
    "duration": 14,
    "start_time": "2021-07-04T17:24:57.345Z"
   },
   {
    "duration": 43,
    "start_time": "2021-07-04T17:24:57.362Z"
   },
   {
    "duration": 9,
    "start_time": "2021-07-04T17:24:57.408Z"
   },
   {
    "duration": 5,
    "start_time": "2021-07-04T17:24:57.420Z"
   },
   {
    "duration": 7,
    "start_time": "2021-07-04T17:24:57.428Z"
   },
   {
    "duration": 10,
    "start_time": "2021-07-04T17:24:57.437Z"
   },
   {
    "duration": 52,
    "start_time": "2021-07-04T17:24:57.449Z"
   },
   {
    "duration": 22,
    "start_time": "2021-07-04T17:24:57.504Z"
   },
   {
    "duration": 19,
    "start_time": "2021-07-04T17:24:57.528Z"
   },
   {
    "duration": 17,
    "start_time": "2021-07-04T17:24:57.550Z"
   },
   {
    "duration": 14,
    "start_time": "2021-07-04T17:24:57.602Z"
   },
   {
    "duration": 31,
    "start_time": "2021-07-04T17:24:57.619Z"
   },
   {
    "duration": 24,
    "start_time": "2021-07-04T17:24:57.653Z"
   },
   {
    "duration": 22,
    "start_time": "2021-07-04T17:24:57.682Z"
   },
   {
    "duration": 26,
    "start_time": "2021-07-04T17:24:57.707Z"
   },
   {
    "duration": 4,
    "start_time": "2021-07-04T17:24:57.736Z"
   },
   {
    "duration": 7,
    "start_time": "2021-07-04T17:24:57.742Z"
   },
   {
    "duration": 333,
    "start_time": "2021-07-04T17:24:57.751Z"
   },
   {
    "duration": 463,
    "start_time": "2021-07-04T17:24:58.087Z"
   },
   {
    "duration": 296,
    "start_time": "2021-07-04T17:24:58.553Z"
   },
   {
    "duration": 489,
    "start_time": "2021-07-04T17:24:58.851Z"
   },
   {
    "duration": 652,
    "start_time": "2021-07-04T17:24:59.343Z"
   },
   {
    "duration": 615,
    "start_time": "2021-07-04T17:25:00.001Z"
   },
   {
    "duration": 6,
    "start_time": "2021-07-04T17:25:00.618Z"
   },
   {
    "duration": 422,
    "start_time": "2021-07-04T17:25:00.626Z"
   },
   {
    "duration": 73,
    "start_time": "2021-07-04T17:25:01.051Z"
   },
   {
    "duration": 8,
    "start_time": "2021-07-04T17:25:14.993Z"
   },
   {
    "duration": 16,
    "start_time": "2021-07-04T17:25:17.540Z"
   },
   {
    "duration": 33,
    "start_time": "2021-07-04T17:25:41.462Z"
   },
   {
    "duration": 6,
    "start_time": "2021-07-04T17:26:28.666Z"
   },
   {
    "duration": 63,
    "start_time": "2021-07-04T17:26:31.390Z"
   },
   {
    "duration": 10,
    "start_time": "2021-07-04T17:26:33.540Z"
   },
   {
    "duration": 9,
    "start_time": "2021-07-04T17:26:35.740Z"
   },
   {
    "duration": 13,
    "start_time": "2021-07-04T17:26:39.716Z"
   },
   {
    "duration": 7,
    "start_time": "2021-07-04T17:26:41.523Z"
   },
   {
    "duration": 6,
    "start_time": "2021-07-04T17:26:42.524Z"
   },
   {
    "duration": 21,
    "start_time": "2021-07-04T17:26:46.377Z"
   },
   {
    "duration": 5,
    "start_time": "2021-07-04T17:26:49.359Z"
   },
   {
    "duration": 5,
    "start_time": "2021-07-04T17:26:51.227Z"
   },
   {
    "duration": 4,
    "start_time": "2021-07-04T17:26:53.671Z"
   },
   {
    "duration": 10097,
    "start_time": "2021-07-04T17:26:54.817Z"
   },
   {
    "duration": 3,
    "start_time": "2021-07-04T17:27:09.749Z"
   },
   {
    "duration": 4,
    "start_time": "2021-07-04T17:27:11.387Z"
   },
   {
    "duration": 26087,
    "start_time": "2021-07-04T17:27:12.664Z"
   },
   {
    "duration": 46,
    "start_time": "2021-07-04T17:27:45.896Z"
   },
   {
    "duration": 4,
    "start_time": "2021-07-04T17:27:48.615Z"
   },
   {
    "duration": 1664,
    "start_time": "2021-07-04T20:37:36.813Z"
   },
   {
    "duration": 98,
    "start_time": "2021-07-04T20:37:38.479Z"
   },
   {
    "duration": 4,
    "start_time": "2021-07-04T20:37:38.580Z"
   },
   {
    "duration": 103,
    "start_time": "2021-07-04T20:38:08.438Z"
   },
   {
    "duration": 5,
    "start_time": "2021-07-04T20:38:35.133Z"
   },
   {
    "duration": 10,
    "start_time": "2021-07-04T20:38:35.865Z"
   },
   {
    "duration": 9408,
    "start_time": "2021-07-04T20:38:36.703Z"
   },
   {
    "duration": 17,
    "start_time": "2021-07-04T20:38:46.114Z"
   },
   {
    "duration": 14,
    "start_time": "2021-07-04T20:38:46.134Z"
   },
   {
    "duration": 18,
    "start_time": "2021-07-04T20:38:46.151Z"
   },
   {
    "duration": 49,
    "start_time": "2021-07-04T20:38:46.172Z"
   },
   {
    "duration": 12,
    "start_time": "2021-07-04T20:38:46.224Z"
   },
   {
    "duration": 24,
    "start_time": "2021-07-04T20:38:46.239Z"
   },
   {
    "duration": 9,
    "start_time": "2021-07-04T20:38:46.267Z"
   },
   {
    "duration": 30,
    "start_time": "2021-07-04T20:38:46.279Z"
   },
   {
    "duration": 7,
    "start_time": "2021-07-04T20:38:46.608Z"
   },
   {
    "duration": 23,
    "start_time": "2021-07-04T20:38:47.465Z"
   },
   {
    "duration": 21,
    "start_time": "2021-07-04T20:38:47.721Z"
   },
   {
    "duration": 16,
    "start_time": "2021-07-04T20:38:48.465Z"
   },
   {
    "duration": 14,
    "start_time": "2021-07-04T20:38:48.938Z"
   },
   {
    "duration": 15,
    "start_time": "2021-07-04T20:38:49.126Z"
   },
   {
    "duration": 25,
    "start_time": "2021-07-04T20:38:51.641Z"
   },
   {
    "duration": 6,
    "start_time": "2021-07-04T20:38:52.853Z"
   },
   {
    "duration": 13,
    "start_time": "2021-07-04T20:38:53.561Z"
   },
   {
    "duration": 5,
    "start_time": "2021-07-04T20:38:54.469Z"
   },
   {
    "duration": 5,
    "start_time": "2021-07-04T20:38:55.017Z"
   },
   {
    "duration": 306,
    "start_time": "2021-07-04T20:38:56.155Z"
   },
   {
    "duration": 464,
    "start_time": "2021-07-04T20:38:56.893Z"
   },
   {
    "duration": 303,
    "start_time": "2021-07-04T20:38:57.839Z"
   },
   {
    "duration": 488,
    "start_time": "2021-07-04T20:38:58.921Z"
   },
   {
    "duration": 664,
    "start_time": "2021-07-04T20:39:00.311Z"
   },
   {
    "duration": 599,
    "start_time": "2021-07-04T20:39:00.977Z"
   },
   {
    "duration": 8152,
    "start_time": "2021-07-04T20:39:01.580Z"
   },
   {
    "duration": 4,
    "start_time": "2021-07-04T20:39:09.735Z"
   },
   {
    "duration": 11,
    "start_time": "2021-07-04T20:39:09.742Z"
   },
   {
    "duration": 484,
    "start_time": "2021-07-04T20:39:09.755Z"
   },
   {
    "duration": 77,
    "start_time": "2021-07-04T20:39:10.241Z"
   }
  ],
  "kernelspec": {
   "display_name": "Python 3",
   "language": "python",
   "name": "python3"
  },
  "language_info": {
   "codemirror_mode": {
    "name": "ipython",
    "version": 3
   },
   "file_extension": ".py",
   "mimetype": "text/x-python",
   "name": "python",
   "nbconvert_exporter": "python",
   "pygments_lexer": "ipython3",
   "version": "3.8.5"
  },
  "toc": {
   "base_numbering": 1,
   "nav_menu": {},
   "number_sections": true,
   "sideBar": true,
   "skip_h1_title": true,
   "title_cell": "Содержание",
   "title_sidebar": "Содержание",
   "toc_cell": true,
   "toc_position": {
    "height": "calc(100% - 180px)",
    "left": "10px",
    "top": "150px",
    "width": "165px"
   },
   "toc_section_display": true,
   "toc_window_display": true
  }
 },
 "nbformat": 4,
 "nbformat_minor": 2
}
